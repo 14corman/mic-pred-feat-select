{
 "metadata": {
  "language_info": {
   "codemirror_mode": {
    "name": "ipython",
    "version": 3
   },
   "file_extension": ".py",
   "mimetype": "text/x-python",
   "name": "python",
   "nbconvert_exporter": "python",
   "pygments_lexer": "ipython3",
   "version": "3.8.6-final"
  },
  "orig_nbformat": 2,
  "kernelspec": {
   "name": "python3",
   "display_name": "Python 3.8.6 64-bit",
   "metadata": {
    "interpreter": {
     "hash": "bf66385a5a9217b7f25761b49aa1592adf2d33bc32343798c341d18f58413a49"
    }
   }
  }
 },
 "nbformat": 4,
 "nbformat_minor": 2,
 "cells": [
  {
   "source": [
    "# Processing\n",
    "This notebook will walk through what the processing is for the 3 different forms, and the trial and error taken to get to those forms.\n",
    "\n",
    "# NOTE (DEPRECATION OF FORMS)\n",
    "Most of this notebook is now deprecated. I originally tried using previous work as a blueprint which is how these 3 forms came to be. However, after further inspection of that paper's code, I realized that our given data is different, and the representations used to get the forms is not applicable to this data. With that, 2 forms (and subsequent 2 types) is being removed (forms 1 and 2). Form 3 is being kept and used, and will still be referenced in code as form 3 so that it matches other documentation."
   ],
   "cell_type": "markdown",
   "metadata": {}
  },
  {
   "cell_type": "code",
   "execution_count": 4,
   "metadata": {},
   "outputs": [
    {
     "output_type": "stream",
     "name": "stdout",
     "text": [
      "Requirement already satisfied: numpy in c:\\users\\cory\\appdata\\local\\programs\\python\\python38\\lib\\site-packages (1.20.2)\n",
      "Requirement already satisfied: matplotlib in c:\\users\\cory\\appdata\\local\\programs\\python\\python38\\lib\\site-packages (3.4.0)\n",
      "Requirement already satisfied: pandas in c:\\users\\cory\\appdata\\local\\programs\\python\\python38\\lib\\site-packages (1.2.3)\n",
      "Requirement already satisfied: biopython in c:\\users\\cory\\appdata\\local\\programs\\python\\python38\\lib\\site-packages (1.78)\n",
      "Requirement already satisfied: keras in c:\\users\\cory\\appdata\\local\\programs\\python\\python38\\lib\\site-packages (2.4.3)\n",
      "Collecting tensorflow\n",
      "  Downloading tensorflow-2.4.1-cp38-cp38-win_amd64.whl (370.7 MB)\n",
      "Requirement already satisfied: cycler>=0.10 in c:\\users\\cory\\appdata\\local\\programs\\python\\python38\\lib\\site-packages (from matplotlib) (0.10.0)\n",
      "Requirement already satisfied: kiwisolver>=1.0.1 in c:\\users\\cory\\appdata\\local\\programs\\python\\python38\\lib\\site-packages (from matplotlib) (1.3.1)\n",
      "Requirement already satisfied: python-dateutil>=2.7 in c:\\users\\cory\\appdata\\roaming\\python\\python38\\site-packages (from matplotlib) (2.8.1)\n",
      "Requirement already satisfied: pyparsing>=2.2.1 in c:\\users\\cory\\appdata\\local\\programs\\python\\python38\\lib\\site-packages (from matplotlib) (2.4.7)\n",
      "Requirement already satisfied: pillow>=6.2.0 in c:\\users\\cory\\appdata\\local\\programs\\python\\python38\\lib\\site-packages (from matplotlib) (8.1.2)\n",
      "Requirement already satisfied: pytz>=2017.3 in c:\\users\\cory\\appdata\\local\\programs\\python\\python38\\lib\\site-packages (from pandas) (2021.1)\n",
      "Requirement already satisfied: scipy>=0.14 in c:\\users\\cory\\appdata\\local\\programs\\python\\python38\\lib\\site-packages (from keras) (1.6.2)\n",
      "Requirement already satisfied: pyyaml in c:\\users\\cory\\appdata\\local\\programs\\python\\python38\\lib\\site-packages (from keras) (5.4.1)\n",
      "Requirement already satisfied: h5py in c:\\users\\cory\\appdata\\local\\programs\\python\\python38\\lib\\site-packages (from keras) (3.2.1)\n",
      "Requirement already satisfied: six~=1.15.0 in c:\\users\\cory\\appdata\\roaming\\python\\python38\\site-packages (from tensorflow) (1.15.0)\n",
      "Collecting wrapt~=1.12.1\n",
      "  Using cached wrapt-1.12.1.tar.gz (27 kB)\n",
      "Collecting tensorboard~=2.4\n",
      "  Downloading tensorboard-2.4.1-py3-none-any.whl (10.6 MB)\n",
      "Collecting gast==0.3.3\n",
      "  Using cached gast-0.3.3-py2.py3-none-any.whl (9.7 kB)\n",
      "Collecting grpcio~=1.32.0\n",
      "  Downloading grpcio-1.32.0-cp38-cp38-win_amd64.whl (2.6 MB)\n",
      "Collecting keras-preprocessing~=1.1.2\n",
      "  Using cached Keras_Preprocessing-1.1.2-py2.py3-none-any.whl (42 kB)\n",
      "Collecting tensorflow-estimator<2.5.0,>=2.4.0\n",
      "  Using cached tensorflow_estimator-2.4.0-py2.py3-none-any.whl (462 kB)\n",
      "Collecting flatbuffers~=1.12.0\n",
      "  Using cached flatbuffers-1.12-py2.py3-none-any.whl (15 kB)\n",
      "Collecting astunparse~=1.6.3\n",
      "  Using cached astunparse-1.6.3-py2.py3-none-any.whl (12 kB)\n",
      "Collecting termcolor~=1.1.0\n",
      "  Using cached termcolor-1.1.0.tar.gz (3.9 kB)\n",
      "Collecting opt-einsum~=3.3.0\n",
      "  Using cached opt_einsum-3.3.0-py3-none-any.whl (65 kB)\n",
      "Collecting wheel~=0.35\n",
      "  Using cached wheel-0.36.2-py2.py3-none-any.whl (35 kB)\n",
      "Collecting typing-extensions~=3.7.4\n",
      "  Using cached typing_extensions-3.7.4.3-py3-none-any.whl (22 kB)\n",
      "Collecting protobuf>=3.9.2\n",
      "  Downloading protobuf-3.15.6-py2.py3-none-any.whl (173 kB)\n",
      "Collecting absl-py~=0.10\n",
      "  Downloading absl_py-0.12.0-py3-none-any.whl (129 kB)\n",
      "Collecting google-pasta~=0.2\n",
      "  Using cached google_pasta-0.2.0-py3-none-any.whl (57 kB)\n",
      "Collecting tensorboard-plugin-wit>=1.6.0\n",
      "  Downloading tensorboard_plugin_wit-1.8.0-py3-none-any.whl (781 kB)\n",
      "Requirement already satisfied: setuptools>=41.0.0 in c:\\users\\cory\\appdata\\local\\programs\\python\\python38\\lib\\site-packages (from tensorboard~=2.4->tensorflow) (49.2.1)\n",
      "Collecting werkzeug>=0.11.15\n",
      "  Using cached Werkzeug-1.0.1-py2.py3-none-any.whl (298 kB)\n",
      "Collecting markdown>=2.6.8\n",
      "  Downloading Markdown-3.3.4-py3-none-any.whl (97 kB)\n",
      "Collecting google-auth-oauthlib<0.5,>=0.4.1\n",
      "  Downloading google_auth_oauthlib-0.4.4-py2.py3-none-any.whl (18 kB)\n",
      "Collecting google-auth<2,>=1.6.3\n",
      "  Downloading google_auth-1.28.0-py2.py3-none-any.whl (136 kB)\n",
      "Collecting requests<3,>=2.21.0\n",
      "  Using cached requests-2.25.1-py2.py3-none-any.whl (61 kB)\n",
      "Collecting requests-oauthlib>=0.7.0\n",
      "  Using cached requests_oauthlib-1.3.0-py2.py3-none-any.whl (23 kB)\n",
      "Collecting cachetools<5.0,>=2.0.0\n",
      "  Downloading cachetools-4.2.1-py3-none-any.whl (12 kB)\n",
      "Collecting pyasn1-modules>=0.2.1\n",
      "  Using cached pyasn1_modules-0.2.8-py2.py3-none-any.whl (155 kB)\n",
      "Collecting rsa<5,>=3.1.4; python_version >= \"3.6\"\n",
      "  Downloading rsa-4.7.2-py3-none-any.whl (34 kB)\n",
      "Collecting idna<3,>=2.5\n",
      "  Using cached idna-2.10-py2.py3-none-any.whl (58 kB)\n",
      "Collecting chardet<5,>=3.0.2\n",
      "  Using cached chardet-4.0.0-py2.py3-none-any.whl (178 kB)\n",
      "Collecting certifi>=2017.4.17\n",
      "  Using cached certifi-2020.12.5-py2.py3-none-any.whl (147 kB)\n",
      "Collecting urllib3<1.27,>=1.21.1\n",
      "  Using cached urllib3-1.26.4-py2.py3-none-any.whl (153 kB)\n",
      "Collecting oauthlib>=3.0.0\n",
      "  Using cached oauthlib-3.1.0-py2.py3-none-any.whl (147 kB)\n",
      "Collecting pyasn1<0.5.0,>=0.4.6\n",
      "  Using cached pyasn1-0.4.8-py2.py3-none-any.whl (77 kB)\n",
      "Using legacy 'setup.py install' for wrapt, since package 'wheel' is not installed.\n",
      "Using legacy 'setup.py install' for termcolor, since package 'wheel' is not installed.\n",
      "Installing collected packages: wrapt, grpcio, protobuf, tensorboard-plugin-wit, werkzeug, markdown, wheel, oauthlib, idna, chardet, certifi, urllib3, requests, requests-oauthlib, cachetools, pyasn1, pyasn1-modules, rsa, google-auth, google-auth-oauthlib, absl-py, tensorboard, gast, keras-preprocessing, tensorflow-estimator, flatbuffers, astunparse, termcolor, opt-einsum, typing-extensions, google-pasta, tensorflow\n",
      "    Running setup.py install for wrapt: started\n",
      "    Running setup.py install for wrapt: finished with status 'done'\n",
      "ERROR: Could not install packages due to an EnvironmentError: [WinError 32] The process cannot access the file because it is being used by another process: 'C:\\\\Users\\\\Cory\\\\AppData\\\\Local\\\\Programs\\\\Python\\\\Python38\\\\Lib\\\\site-packages\\\\grpc\\\\_cython\\\\cygrpc.cp38-win_amd64.pyd'\n",
      "Consider using the `--user` option or check the permissions.\n",
      "\n",
      "WARNING: You are using pip version 20.2.1; however, version 21.0.1 is available.\n",
      "You should consider upgrading via the 'C:\\Users\\Cory\\AppData\\Local\\Programs\\Python\\Python38\\python.exe -m pip install --upgrade pip' command.\n",
      "Requirement already satisfied: numpy in c:\\users\\cory\\appdata\\local\\programs\\python\\python38\\lib\\site-packages (1.20.2)Note: you may need to restart the kernel to use updated packages.\n",
      "Requirement already satisfied: matplotlib in c:\\users\\cory\\appdata\\local\\programs\\python\\python38\\lib\\site-packages (3.4.0)\n",
      "Requirement already satisfied: pandas in c:\\users\\cory\\appdata\\local\\programs\\python\\python38\\lib\\site-packages (1.2.3)\n",
      "Requirement already satisfied: biopython in c:\\users\\cory\\appdata\\local\\programs\\python\\python38\\lib\\site-packages (1.78)\n",
      "Requirement already satisfied: keras in c:\\users\\cory\\appdata\\local\\programs\\python\\python38\\lib\\site-packages (2.4.3)\n",
      "Collecting tensorflow\n",
      "  Using cached tensorflow-2.4.1-cp38-cp38-win_amd64.whl (370.7 MB)\n",
      "Requirement already satisfied: kiwisolver>=1.0.1 in c:\\users\\cory\\appdata\\local\\programs\\python\\python38\\lib\\site-packages (from matplotlib) (1.3.1)\n",
      "Requirement already satisfied: cycler>=0.10 in c:\\users\\cory\\appdata\\local\\programs\\python\\python38\\lib\\site-packages (from matplotlib) (0.10.0)\n",
      "Requirement already satisfied: python-dateutil>=2.7 in c:\\users\\cory\\appdata\\roaming\\python\\python38\\site-packages (from matplotlib) (2.8.1)\n",
      "Requirement already satisfied: pyparsing>=2.2.1 in c:\\users\\cory\\appdata\\local\\programs\\python\\python38\\lib\\site-packages (from matplotlib) (2.4.7)\n",
      "Requirement already satisfied: pillow>=6.2.0 in c:\\users\\cory\\appdata\\local\\programs\\python\\python38\\lib\\site-packages (from matplotlib) (8.1.2)\n",
      "Requirement already satisfied: pytz>=2017.3 in c:\\users\\cory\\appdata\\local\\programs\\python\\python38\\lib\\site-packages (from pandas) (2021.1)\n",
      "Requirement already satisfied: h5py in c:\\users\\cory\\appdata\\local\\programs\\python\\python38\\lib\\site-packages (from keras) (3.2.1)\n",
      "Requirement already satisfied: scipy>=0.14 in c:\\users\\cory\\appdata\\local\\programs\\python\\python38\\lib\\site-packages (from keras) (1.6.2)\n",
      "Requirement already satisfied: pyyaml in c:\\users\\cory\\appdata\\local\\programs\\python\\python38\\lib\\site-packages (from keras) (5.4.1)\n",
      "Collecting keras-preprocessing~=1.1.2\n",
      "  Using cached Keras_Preprocessing-1.1.2-py2.py3-none-any.whl (42 kB)\n",
      "Collecting google-pasta~=0.2\n",
      "  Using cached google_pasta-0.2.0-py3-none-any.whl (57 kB)\n",
      "Collecting grpcio~=1.32.0\n",
      "  Using cached grpcio-1.32.0-cp38-cp38-win_amd64.whl (2.6 MB)\n",
      "Collecting gast==0.3.3\n",
      "  Using cached gast-0.3.3-py2.py3-none-any.whl (9.7 kB)\n",
      "Collecting absl-py~=0.10\n",
      "  Using cached absl_py-0.12.0-py3-none-any.whl (129 kB)\n",
      "Collecting flatbuffers~=1.12.0\n",
      "  Using cached flatbuffers-1.12-py2.py3-none-any.whl (15 kB)\n",
      "Collecting wrapt~=1.12.1\n",
      "  Using cached wrapt-1.12.1.tar.gz (27 kB)\n",
      "\n",
      "Collecting protobuf>=3.9.2\n",
      "  Using cached protobuf-3.15.6-py2.py3-none-any.whl (173 kB)\n",
      "Collecting tensorboard~=2.4  WARNING: The script chardetect.exe is installed in 'C:\\Users\\Cory\\AppData\\Local\\Programs\\Python\\Python38\\Scripts' which is not on PATH.\n",
      "  Consider adding this directory to PATH or, if you prefer to suppress this warning, use --no-warn-script-location.\n",
      "  WARNING: The scripts pyrsa-decrypt.exe, pyrsa-encrypt.exe, pyrsa-keygen.exe, pyrsa-priv2pub.exe, pyrsa-sign.exe and pyrsa-verify.exe are installed in 'C:\\Users\\Cory\\AppData\\Local\\Programs\\Python\\Python38\\Scripts' which is not on PATH.\n",
      "  Consider adding this directory to PATH or, if you prefer to suppress this warning, use --no-warn-script-location.\n",
      "  WARNING: The script google-oauthlib-tool.exe is installed in 'C:\\Users\\Cory\\AppData\\Local\\Programs\\Python\\Python38\\Scripts' which is not on PATH.\n",
      "  Consider adding this directory to PATH or, if you prefer to suppress this warning, use --no-warn-script-location.\n",
      "  WARNING: The script wheel.exe is installed in 'C:\\Users\\Cory\\AppData\\Local\\Programs\\Python\\Python38\\Scripts' which is not on PATH.\n",
      "  Consider adding this directory to PATH or, if you prefer to suppress this warning, use --no-warn-script-location.\n",
      "  WARNING: The script markdown_py.exe is installed in 'C:\\Users\\Cory\\AppData\\Local\\Programs\\Python\\Python38\\Scripts' which is not on PATH.\n",
      "  Consider adding this directory to PATH or, if you prefer to suppress this warning, use --no-warn-script-location.\n",
      "  WARNING: The script tensorboard.exe is installed in 'C:\\Users\\Cory\\AppData\\Local\\Programs\\Python\\Python38\\Scripts' which is not on PATH.\n",
      "  Consider adding this directory to PATH or, if you prefer to suppress this warning, use --no-warn-script-location.\n",
      "  WARNING: The scripts estimator_ckpt_converter.exe, import_pb_to_tensorboard.exe, saved_model_cli.exe, tensorboard.exe, tf_upgrade_v2.exe, tflite_convert.exe, toco.exe and toco_from_protos.exe are installed in 'C:\\Users\\Cory\\AppData\\Local\\Programs\\Python\\Python38\\Scripts' which is not on PATH.\n",
      "  Consider adding this directory to PATH or, if you prefer to suppress this warning, use --no-warn-script-location.\n",
      "ERROR: After October 2020 you may experience errors when installing or updating packages. This is because pip will change the way that it resolves dependency conflicts.\n",
      "\n",
      "We recommend you use --use-feature=2020-resolver to test your packages with the new resolver before it becomes the default.\n",
      "\n",
      "tensorflow 2.4.1 requires h5py~=2.10.0, but you'll have h5py 3.2.1 which is incompatible.\n",
      "tensorflow 2.4.1 requires numpy~=1.19.2, but you'll have numpy 1.20.2 which is incompatible.\n",
      "WARNING: You are using pip version 20.2.1; however, version 21.0.1 is available.\n",
      "You should consider upgrading via the 'C:\\Users\\Cory\\AppData\\Local\\Programs\\Python\\Python38\\python.exe -m pip install --upgrade pip' command.\n",
      "\n",
      "  Using cached tensorboard-2.4.1-py3-none-any.whl (10.6 MB)\n",
      "Collecting astunparse~=1.6.3\n",
      "  Using cached astunparse-1.6.3-py2.py3-none-any.whl (12 kB)\n",
      "Requirement already satisfied: six~=1.15.0 in c:\\users\\cory\\appdata\\roaming\\python\\python38\\site-packages (from tensorflow) (1.15.0)\n",
      "Collecting tensorflow-estimator<2.5.0,>=2.4.0\n",
      "  Using cached tensorflow_estimator-2.4.0-py2.py3-none-any.whl (462 kB)\n",
      "Collecting termcolor~=1.1.0\n",
      "  Using cached termcolor-1.1.0.tar.gz (3.9 kB)\n",
      "Collecting opt-einsum~=3.3.0\n",
      "  Using cached opt_einsum-3.3.0-py3-none-any.whl (65 kB)\n",
      "Collecting wheel~=0.35\n",
      "  Using cached wheel-0.36.2-py2.py3-none-any.whl (35 kB)\n",
      "Collecting typing-extensions~=3.7.4\n",
      "  Using cached typing_extensions-3.7.4.3-py3-none-any.whl (22 kB)\n",
      "Collecting google-auth-oauthlib<0.5,>=0.4.1\n",
      "  Using cached google_auth_oauthlib-0.4.4-py2.py3-none-any.whl (18 kB)\n",
      "Collecting tensorboard-plugin-wit>=1.6.0\n",
      "  Using cached tensorboard_plugin_wit-1.8.0-py3-none-any.whl (781 kB)\n",
      "Collecting google-auth<2,>=1.6.3\n",
      "  Using cached google_auth-1.28.0-py2.py3-none-any.whl (136 kB)\n",
      "Collecting markdown>=2.6.8\n",
      "  Using cached Markdown-3.3.4-py3-none-any.whl (97 kB)\n",
      "Collecting requests<3,>=2.21.0\n",
      "  Using cached requests-2.25.1-py2.py3-none-any.whl (61 kB)\n",
      "Requirement already satisfied: setuptools>=41.0.0 in c:\\users\\cory\\appdata\\local\\programs\\python\\python38\\lib\\site-packages (from tensorboard~=2.4->tensorflow) (49.2.1)\n",
      "Collecting werkzeug>=0.11.15\n",
      "  Using cached Werkzeug-1.0.1-py2.py3-none-any.whl (298 kB)\n",
      "Collecting requests-oauthlib>=0.7.0\n",
      "  Using cached requests_oauthlib-1.3.0-py2.py3-none-any.whl (23 kB)\n",
      "Collecting pyasn1-modules>=0.2.1\n",
      "  Using cached pyasn1_modules-0.2.8-py2.py3-none-any.whl (155 kB)\n",
      "Collecting rsa<5,>=3.1.4; python_version >= \"3.6\"\n",
      "  Using cached rsa-4.7.2-py3-none-any.whl (34 kB)\n",
      "Collecting cachetools<5.0,>=2.0.0\n",
      "  Using cached cachetools-4.2.1-py3-none-any.whl (12 kB)\n",
      "Collecting certifi>=2017.4.17\n",
      "  Using cached certifi-2020.12.5-py2.py3-none-any.whl (147 kB)\n",
      "Collecting chardet<5,>=3.0.2\n",
      "  Using cached chardet-4.0.0-py2.py3-none-any.whl (178 kB)\n",
      "Collecting idna<3,>=2.5\n",
      "  Using cached idna-2.10-py2.py3-none-any.whl (58 kB)\n",
      "Collecting urllib3<1.27,>=1.21.1\n",
      "  Using cached urllib3-1.26.4-py2.py3-none-any.whl (153 kB)\n",
      "Collecting oauthlib>=3.0.0\n",
      "  Using cached oauthlib-3.1.0-py2.py3-none-any.whl (147 kB)\n",
      "Collecting pyasn1<0.5.0,>=0.4.6\n",
      "  Using cached pyasn1-0.4.8-py2.py3-none-any.whl (77 kB)\n",
      "Using legacy 'setup.py install' for wrapt, since package 'wheel' is not installed.\n",
      "Using legacy 'setup.py install' for termcolor, since package 'wheel' is not installed.\n",
      "Installing collected packages: keras-preprocessing, google-pasta, grpcio, gast, absl-py, flatbuffers, wrapt, protobuf, certifi, chardet, idna, urllib3, requests, oauthlib, requests-oauthlib, pyasn1, pyasn1-modules, rsa, cachetools, google-auth, google-auth-oauthlib, tensorboard-plugin-wit, wheel, markdown, werkzeug, tensorboard, astunparse, tensorflow-estimator, termcolor, opt-einsum, typing-extensions, tensorflow\n",
      "    Running setup.py install for wrapt: started\n",
      "    Running setup.py install for wrapt: finished with status 'done'\n",
      "    Running setup.py install for termcolor: started\n",
      "    Running setup.py install for termcolor: finished with status 'done'\n",
      "Successfully installed absl-py-0.12.0 astunparse-1.6.3 cachetools-4.2.1 certifi-2020.12.5 chardet-4.0.0 flatbuffers-1.12 gast-0.3.3 google-auth-1.28.0 google-auth-oauthlib-0.4.4 google-pasta-0.2.0 grpcio-1.32.0 idna-2.10 keras-preprocessing-1.1.2 markdown-3.3.4 oauthlib-3.1.0 opt-einsum-3.3.0 protobuf-3.15.6 pyasn1-0.4.8 pyasn1-modules-0.2.8 requests-2.25.1 requests-oauthlib-1.3.0 rsa-4.7.2 tensorboard-2.4.1 tensorboard-plugin-wit-1.8.0 tensorflow-2.4.1 tensorflow-estimator-2.4.0 termcolor-1.1.0 typing-extensions-3.7.4.3 urllib3-1.26.4 werkzeug-1.0.1 wheel-0.36.2 wrapt-1.12.1\n"
     ]
    }
   ],
   "source": [
    "%pip install numpy matplotlib pandas biopython keras tensorflow"
   ]
  },
  {
   "source": [
    "# Load all neccessary libraries\n",
    "import numpy as np\n",
    "import pandas as pd\n",
    "from keras.preprocessing.sequence import pad_sequences\n",
    "\n",
    "# Bio libraries needed\n",
    "from Bio.Align import substitution_matrices"
   ],
   "cell_type": "code",
   "metadata": {},
   "execution_count": 5,
   "outputs": []
  },
  {
   "source": [
    "**Load needed variables**"
   ],
   "cell_type": "markdown",
   "metadata": {}
  },
  {
   "cell_type": "code",
   "execution_count": 7,
   "metadata": {},
   "outputs": [],
   "source": [
    "data_dir = \"../data/test/\"\n",
    "blosum62 = substitution_matrices.load('BLOSUM62')"
   ]
  },
  {
   "source": [
    "# Form 1\n",
    "The list of annotations are created into a list of scores using the following methods:\n",
    "- comparing substitutions using BLOSUM-62 matrix\n",
    "- Frame shifts                    = -10\n",
    "- Inserts (no matter length)      = -5\n",
    "- Deletions (no matter length)    = -5\n",
    "- Duplications (no matter length) = -2\n",
    "\n",
    "## Getting data\n",
    "First, we need to get the data. The first column of the CSV file should have Isolate_ID, but this may not be unique as 1 isolate could have many annotations."
   ],
   "cell_type": "markdown",
   "metadata": {}
  },
  {
   "cell_type": "code",
   "execution_count": 8,
   "metadata": {},
   "outputs": [],
   "source": [
    "ann_df = pd.read_csv(f'{data_dir}export_69.csv')"
   ]
  },
  {
   "cell_type": "code",
   "execution_count": 9,
   "metadata": {},
   "outputs": [
    {
     "output_type": "execute_result",
     "data": {
      "text/plain": [
       "   Isolate_ID    Gene Type Ref  Position(s)   AA  % coverage\n",
       "0           1  SHV-12  sub   G          232    R          25\n",
       "1           2  SHV-12   fs   I            9  NaN         100"
      ],
      "text/html": "<div>\n<style scoped>\n    .dataframe tbody tr th:only-of-type {\n        vertical-align: middle;\n    }\n\n    .dataframe tbody tr th {\n        vertical-align: top;\n    }\n\n    .dataframe thead th {\n        text-align: right;\n    }\n</style>\n<table border=\"1\" class=\"dataframe\">\n  <thead>\n    <tr style=\"text-align: right;\">\n      <th></th>\n      <th>Isolate_ID</th>\n      <th>Gene</th>\n      <th>Type</th>\n      <th>Ref</th>\n      <th>Position(s)</th>\n      <th>AA</th>\n      <th>% coverage</th>\n    </tr>\n  </thead>\n  <tbody>\n    <tr>\n      <th>0</th>\n      <td>1</td>\n      <td>SHV-12</td>\n      <td>sub</td>\n      <td>G</td>\n      <td>232</td>\n      <td>R</td>\n      <td>25</td>\n    </tr>\n    <tr>\n      <th>1</th>\n      <td>2</td>\n      <td>SHV-12</td>\n      <td>fs</td>\n      <td>I</td>\n      <td>9</td>\n      <td>NaN</td>\n      <td>100</td>\n    </tr>\n  </tbody>\n</table>\n</div>"
     },
     "metadata": {},
     "execution_count": 9
    }
   ],
   "source": [
    "# See what the original data annotations look like\n",
    "ann_df.head()"
   ]
  },
  {
   "source": [
    "## Dropping columns\n",
    "We do not care about the column \\[%], so we can drop that. Even though Isolate_ID is not unique, we still want to include it so we can group by this column later as each datapoint will be a list of annotations using this column."
   ],
   "cell_type": "markdown",
   "metadata": {}
  },
  {
   "cell_type": "code",
   "execution_count": 10,
   "metadata": {},
   "outputs": [
    {
     "output_type": "execute_result",
     "data": {
      "text/plain": [
       "   Isolate_ID    Gene Type Ref  Position(s)   AA\n",
       "0           1  SHV-12  sub   G          232    R\n",
       "1           2  SHV-12   fs   I            9  NaN"
      ],
      "text/html": "<div>\n<style scoped>\n    .dataframe tbody tr th:only-of-type {\n        vertical-align: middle;\n    }\n\n    .dataframe tbody tr th {\n        vertical-align: top;\n    }\n\n    .dataframe thead th {\n        text-align: right;\n    }\n</style>\n<table border=\"1\" class=\"dataframe\">\n  <thead>\n    <tr style=\"text-align: right;\">\n      <th></th>\n      <th>Isolate_ID</th>\n      <th>Gene</th>\n      <th>Type</th>\n      <th>Ref</th>\n      <th>Position(s)</th>\n      <th>AA</th>\n    </tr>\n  </thead>\n  <tbody>\n    <tr>\n      <th>0</th>\n      <td>1</td>\n      <td>SHV-12</td>\n      <td>sub</td>\n      <td>G</td>\n      <td>232</td>\n      <td>R</td>\n    </tr>\n    <tr>\n      <th>1</th>\n      <td>2</td>\n      <td>SHV-12</td>\n      <td>fs</td>\n      <td>I</td>\n      <td>9</td>\n      <td>NaN</td>\n    </tr>\n  </tbody>\n</table>\n</div>"
     },
     "metadata": {},
     "execution_count": 10
    }
   ],
   "source": [
    "ann_df = ann_df.drop(['% coverage'], axis=1)\n",
    "ann_df.head()"
   ]
  },
  {
   "source": [
    "## Create Score column\n",
    "Next, we need to create the score column that we will use later.\n",
    "\n",
    "### Score function\n",
    "To make it more clear, we can make a score function that will calculate each annotation's score."
   ],
   "cell_type": "markdown",
   "metadata": {}
  },
  {
   "cell_type": "code",
   "execution_count": 11,
   "metadata": {},
   "outputs": [],
   "source": [
    "def calc_score(row):\n",
    "    if row.Type == 'sub':\n",
    "        return blosum62[row.Ref, row.AA]    # Matrix is square, so ref and aa are interchangable\n",
    "    elif row.Type == 'fs':\n",
    "        return -10\n",
    "    elif row.Type == 'ins':\n",
    "        return -5\n",
    "    elif row.Type == 'del':\n",
    "        return -5\n",
    "    elif row.Type == 'dup':\n",
    "        return -2"
   ]
  },
  {
   "source": [
    "### Apply the score function\n",
    "Here, the score function is applied over all rows (axis = 1)."
   ],
   "cell_type": "markdown",
   "metadata": {}
  },
  {
   "cell_type": "code",
   "execution_count": 12,
   "metadata": {},
   "outputs": [],
   "source": [
    "ann_df['Score'] = ann_df.apply(calc_score, axis=1)"
   ]
  },
  {
   "cell_type": "code",
   "execution_count": 13,
   "metadata": {},
   "outputs": [
    {
     "output_type": "execute_result",
     "data": {
      "text/plain": [
       "   Isolate_ID    Gene Type Ref  Position(s)   AA  Score\n",
       "0           1  SHV-12  sub   G          232    R   -2.0\n",
       "1           2  SHV-12   fs   I            9  NaN  -10.0"
      ],
      "text/html": "<div>\n<style scoped>\n    .dataframe tbody tr th:only-of-type {\n        vertical-align: middle;\n    }\n\n    .dataframe tbody tr th {\n        vertical-align: top;\n    }\n\n    .dataframe thead th {\n        text-align: right;\n    }\n</style>\n<table border=\"1\" class=\"dataframe\">\n  <thead>\n    <tr style=\"text-align: right;\">\n      <th></th>\n      <th>Isolate_ID</th>\n      <th>Gene</th>\n      <th>Type</th>\n      <th>Ref</th>\n      <th>Position(s)</th>\n      <th>AA</th>\n      <th>Score</th>\n    </tr>\n  </thead>\n  <tbody>\n    <tr>\n      <th>0</th>\n      <td>1</td>\n      <td>SHV-12</td>\n      <td>sub</td>\n      <td>G</td>\n      <td>232</td>\n      <td>R</td>\n      <td>-2.0</td>\n    </tr>\n    <tr>\n      <th>1</th>\n      <td>2</td>\n      <td>SHV-12</td>\n      <td>fs</td>\n      <td>I</td>\n      <td>9</td>\n      <td>NaN</td>\n      <td>-10.0</td>\n    </tr>\n  </tbody>\n</table>\n</div>"
     },
     "metadata": {},
     "execution_count": 13
    }
   ],
   "source": [
    "ann_df.head()"
   ]
  },
  {
   "source": [
    "## Drop columns\n",
    "Now, we do not need Type, Ref, Position(s), and AA."
   ],
   "cell_type": "markdown",
   "metadata": {}
  },
  {
   "cell_type": "code",
   "execution_count": 14,
   "metadata": {},
   "outputs": [],
   "source": [
    "ann_df = ann_df.drop(['Type', 'Ref', 'Position(s)', 'AA'], axis=1)"
   ]
  },
  {
   "cell_type": "code",
   "execution_count": 15,
   "metadata": {},
   "outputs": [
    {
     "output_type": "execute_result",
     "data": {
      "text/plain": [
       "   Isolate_ID    Gene  Score\n",
       "0           1  SHV-12   -2.0\n",
       "1           2  SHV-12  -10.0"
      ],
      "text/html": "<div>\n<style scoped>\n    .dataframe tbody tr th:only-of-type {\n        vertical-align: middle;\n    }\n\n    .dataframe tbody tr th {\n        vertical-align: top;\n    }\n\n    .dataframe thead th {\n        text-align: right;\n    }\n</style>\n<table border=\"1\" class=\"dataframe\">\n  <thead>\n    <tr style=\"text-align: right;\">\n      <th></th>\n      <th>Isolate_ID</th>\n      <th>Gene</th>\n      <th>Score</th>\n    </tr>\n  </thead>\n  <tbody>\n    <tr>\n      <th>0</th>\n      <td>1</td>\n      <td>SHV-12</td>\n      <td>-2.0</td>\n    </tr>\n    <tr>\n      <th>1</th>\n      <td>2</td>\n      <td>SHV-12</td>\n      <td>-10.0</td>\n    </tr>\n  </tbody>\n</table>\n</div>"
     },
     "metadata": {},
     "execution_count": 15
    }
   ],
   "source": [
    "ann_df.head()"
   ]
  },
  {
   "source": [
    "## Group all scores into a list per isolate/gene\n",
    "Our final dataframe needs to have each row being a single datapoint representing an isolate and gene combination. The datapoint's value should be the list of annotations found. We want to go over a few options to see which is more efficient for the amount of data we have.\n",
    "\n",
    "Code below found in [this StackOverflow answer](https://stackoverflow.com/a/22221675)."
   ],
   "cell_type": "markdown",
   "metadata": {}
  },
  {
   "cell_type": "code",
   "execution_count": 118,
   "metadata": {},
   "outputs": [
    {
     "output_type": "stream",
     "name": "stdout",
     "text": [
      "6.84 ms ± 101 µs per loop (mean ± std. dev. of 7 runs, 100 loops each)\n"
     ]
    }
   ],
   "source": [
    "# First, we want to groub by id and gene so we get all combined scores\n",
    "# Second, we want to get the made list of Score rows\n",
    "# Third, we want to make want to make each row into a list\n",
    "# Finally, we want to reset the index for each row so that we get individual rows per each element in the group\n",
    "%timeit ann_df.groupby(['Isolate_ID', 'Gene'])['Score'].apply(list).reset_index(name='ann_lists')"
   ]
  },
  {
   "source": [
    "This next option is more convienent, but it is twice as slow and has weird output ([found here](https://stackoverflow.com/a/66853746))."
   ],
   "cell_type": "markdown",
   "metadata": {}
  },
  {
   "cell_type": "code",
   "execution_count": 119,
   "metadata": {},
   "outputs": [
    {
     "output_type": "stream",
     "name": "stdout",
     "text": [
      "13.2 ms ± 188 µs per loop (mean ± std. dev. of 7 runs, 100 loops each)\n"
     ]
    }
   ],
   "source": [
    "%timeit pd.pivot_table(ann_df, values='Score', index=['Isolate_ID', 'Gene'], aggfunc={'Score': list})"
   ]
  },
  {
   "source": [
    "Trying the same line as the first one, but this time using `np.array` instead of `list`. It seems to be about the same time as just using `list`."
   ],
   "cell_type": "markdown",
   "metadata": {}
  },
  {
   "cell_type": "code",
   "execution_count": 120,
   "metadata": {},
   "outputs": [
    {
     "output_type": "stream",
     "name": "stdout",
     "text": [
      "6.97 ms ± 98.4 µs per loop (mean ± std. dev. of 7 runs, 100 loops each)\n"
     ]
    }
   ],
   "source": [
    "%timeit ann_df.groupby(['Isolate_ID', 'Gene'])['Score'].apply(np.array).reset_index(name='ann_lists')"
   ]
  },
  {
   "source": [
    "Since this will only be run once to generate the datasets, I will use the first option for convienence and ease of reading."
   ],
   "cell_type": "markdown",
   "metadata": {}
  },
  {
   "source": [
    "ann_df = ann_df.groupby(['Isolate_ID', 'Gene'])['Score'].apply(list).reset_index(name='ann_lists')"
   ],
   "cell_type": "code",
   "metadata": {},
   "execution_count": 16,
   "outputs": []
  },
  {
   "cell_type": "code",
   "execution_count": 17,
   "metadata": {},
   "outputs": [
    {
     "output_type": "execute_result",
     "data": {
      "text/plain": [
       "   Isolate_ID    Gene ann_lists\n",
       "0           1  SHV-12    [-2.0]\n",
       "1           2  SHV-12   [-10.0]"
      ],
      "text/html": "<div>\n<style scoped>\n    .dataframe tbody tr th:only-of-type {\n        vertical-align: middle;\n    }\n\n    .dataframe tbody tr th {\n        vertical-align: top;\n    }\n\n    .dataframe thead th {\n        text-align: right;\n    }\n</style>\n<table border=\"1\" class=\"dataframe\">\n  <thead>\n    <tr style=\"text-align: right;\">\n      <th></th>\n      <th>Isolate_ID</th>\n      <th>Gene</th>\n      <th>ann_lists</th>\n    </tr>\n  </thead>\n  <tbody>\n    <tr>\n      <th>0</th>\n      <td>1</td>\n      <td>SHV-12</td>\n      <td>[-2.0]</td>\n    </tr>\n    <tr>\n      <th>1</th>\n      <td>2</td>\n      <td>SHV-12</td>\n      <td>[-10.0]</td>\n    </tr>\n  </tbody>\n</table>\n</div>"
     },
     "metadata": {},
     "execution_count": 17
    }
   ],
   "source": [
    "ann_df.head()"
   ]
  },
  {
   "source": [
    "## To CSV\n",
    "Lastly, we want to export as CSV without the indecies. We do not need the pandas pre-made indicies, so we can remove them from the CSV file. Since this file is just testing, it will be saved to the current folder."
   ],
   "cell_type": "markdown",
   "metadata": {}
  },
  {
   "cell_type": "code",
   "execution_count": 123,
   "metadata": {},
   "outputs": [],
   "source": [
    "ann_df.to_csv('form_1.csv', index=False)"
   ]
  },
  {
   "source": [
    "Test to see if the file can be loaded, and what it will look like if it is."
   ],
   "cell_type": "markdown",
   "metadata": {}
  },
  {
   "cell_type": "code",
   "execution_count": 124,
   "metadata": {},
   "outputs": [
    {
     "output_type": "execute_result",
     "data": {
      "text/plain": [
       "   Isolate_ID    Gene ann_lists\n",
       "0           1  SHV-12    [-2.0]\n",
       "1           2  SHV-12   [-10.0]"
      ],
      "text/html": "<div>\n<style scoped>\n    .dataframe tbody tr th:only-of-type {\n        vertical-align: middle;\n    }\n\n    .dataframe tbody tr th {\n        vertical-align: top;\n    }\n\n    .dataframe thead th {\n        text-align: right;\n    }\n</style>\n<table border=\"1\" class=\"dataframe\">\n  <thead>\n    <tr style=\"text-align: right;\">\n      <th></th>\n      <th>Isolate_ID</th>\n      <th>Gene</th>\n      <th>ann_lists</th>\n    </tr>\n  </thead>\n  <tbody>\n    <tr>\n      <th>0</th>\n      <td>1</td>\n      <td>SHV-12</td>\n      <td>[-2.0]</td>\n    </tr>\n    <tr>\n      <th>1</th>\n      <td>2</td>\n      <td>SHV-12</td>\n      <td>[-10.0]</td>\n    </tr>\n  </tbody>\n</table>\n</div>"
     },
     "metadata": {},
     "execution_count": 124
    }
   ],
   "source": [
    "pd.read_csv('form_1.csv').head()"
   ]
  },
  {
   "source": [
    "## Update 1 (Padding)\n",
    "To make it easier for the XGBoost algorithm, we need to have the list of annotations be padded so that each isoalte has the same size array."
   ],
   "cell_type": "markdown",
   "metadata": {}
  },
  {
   "cell_type": "code",
   "execution_count": 22,
   "metadata": {},
   "outputs": [],
   "source": [
    "# You would want to change 5 to be the length of the gene sequence or something else.\n",
    "new_lists = pd.DataFrame(pad_sequences(ann_df[\"ann_lists\"], padding='post', maxlen=5, value=-99, truncating='post'))"
   ]
  },
  {
   "cell_type": "code",
   "execution_count": 23,
   "metadata": {},
   "outputs": [
    {
     "output_type": "execute_result",
     "data": {
      "text/plain": [
       "    0   1   2   3   4\n",
       "0  -2 -99 -99 -99 -99\n",
       "1 -10 -99 -99 -99 -99"
      ],
      "text/html": "<div>\n<style scoped>\n    .dataframe tbody tr th:only-of-type {\n        vertical-align: middle;\n    }\n\n    .dataframe tbody tr th {\n        vertical-align: top;\n    }\n\n    .dataframe thead th {\n        text-align: right;\n    }\n</style>\n<table border=\"1\" class=\"dataframe\">\n  <thead>\n    <tr style=\"text-align: right;\">\n      <th></th>\n      <th>0</th>\n      <th>1</th>\n      <th>2</th>\n      <th>3</th>\n      <th>4</th>\n    </tr>\n  </thead>\n  <tbody>\n    <tr>\n      <th>0</th>\n      <td>-2</td>\n      <td>-99</td>\n      <td>-99</td>\n      <td>-99</td>\n      <td>-99</td>\n    </tr>\n    <tr>\n      <th>1</th>\n      <td>-10</td>\n      <td>-99</td>\n      <td>-99</td>\n      <td>-99</td>\n      <td>-99</td>\n    </tr>\n  </tbody>\n</table>\n</div>"
     },
     "metadata": {},
     "execution_count": 23
    }
   ],
   "source": [
    "new_lists.head()"
   ]
  },
  {
   "cell_type": "code",
   "execution_count": 26,
   "metadata": {},
   "outputs": [],
   "source": [
    "# Concatenate old and new dataframe so that rows match up.\n",
    "ann_df = pd.concat([ann_df, new_lists], axis=1)"
   ]
  },
  {
   "cell_type": "code",
   "execution_count": 27,
   "metadata": {},
   "outputs": [
    {
     "output_type": "execute_result",
     "data": {
      "text/plain": [
       "   Isolate_ID    Gene ann_lists   0   1   2   3   4\n",
       "0           1  SHV-12    [-2.0]  -2 -99 -99 -99 -99\n",
       "1           2  SHV-12   [-10.0] -10 -99 -99 -99 -99"
      ],
      "text/html": "<div>\n<style scoped>\n    .dataframe tbody tr th:only-of-type {\n        vertical-align: middle;\n    }\n\n    .dataframe tbody tr th {\n        vertical-align: top;\n    }\n\n    .dataframe thead th {\n        text-align: right;\n    }\n</style>\n<table border=\"1\" class=\"dataframe\">\n  <thead>\n    <tr style=\"text-align: right;\">\n      <th></th>\n      <th>Isolate_ID</th>\n      <th>Gene</th>\n      <th>ann_lists</th>\n      <th>0</th>\n      <th>1</th>\n      <th>2</th>\n      <th>3</th>\n      <th>4</th>\n    </tr>\n  </thead>\n  <tbody>\n    <tr>\n      <th>0</th>\n      <td>1</td>\n      <td>SHV-12</td>\n      <td>[-2.0]</td>\n      <td>-2</td>\n      <td>-99</td>\n      <td>-99</td>\n      <td>-99</td>\n      <td>-99</td>\n    </tr>\n    <tr>\n      <th>1</th>\n      <td>2</td>\n      <td>SHV-12</td>\n      <td>[-10.0]</td>\n      <td>-10</td>\n      <td>-99</td>\n      <td>-99</td>\n      <td>-99</td>\n      <td>-99</td>\n    </tr>\n  </tbody>\n</table>\n</div>"
     },
     "metadata": {},
     "execution_count": 27
    }
   ],
   "source": [
    "ann_df.head()"
   ]
  },
  {
   "cell_type": "code",
   "execution_count": 31,
   "metadata": {},
   "outputs": [],
   "source": [
    "# Drop the old list column\n",
    "ann_df = ann_df.drop(['ann_lists'], axis=1)"
   ]
  },
  {
   "cell_type": "code",
   "execution_count": 32,
   "metadata": {},
   "outputs": [
    {
     "output_type": "execute_result",
     "data": {
      "text/plain": [
       "   Isolate_ID    Gene   0   1   2   3   4\n",
       "0           1  SHV-12  -2 -99 -99 -99 -99\n",
       "1           2  SHV-12 -10 -99 -99 -99 -99"
      ],
      "text/html": "<div>\n<style scoped>\n    .dataframe tbody tr th:only-of-type {\n        vertical-align: middle;\n    }\n\n    .dataframe tbody tr th {\n        vertical-align: top;\n    }\n\n    .dataframe thead th {\n        text-align: right;\n    }\n</style>\n<table border=\"1\" class=\"dataframe\">\n  <thead>\n    <tr style=\"text-align: right;\">\n      <th></th>\n      <th>Isolate_ID</th>\n      <th>Gene</th>\n      <th>0</th>\n      <th>1</th>\n      <th>2</th>\n      <th>3</th>\n      <th>4</th>\n    </tr>\n  </thead>\n  <tbody>\n    <tr>\n      <th>0</th>\n      <td>1</td>\n      <td>SHV-12</td>\n      <td>-2</td>\n      <td>-99</td>\n      <td>-99</td>\n      <td>-99</td>\n      <td>-99</td>\n    </tr>\n    <tr>\n      <th>1</th>\n      <td>2</td>\n      <td>SHV-12</td>\n      <td>-10</td>\n      <td>-99</td>\n      <td>-99</td>\n      <td>-99</td>\n      <td>-99</td>\n    </tr>\n  </tbody>\n</table>\n</div>"
     },
     "metadata": {},
     "execution_count": 32
    }
   ],
   "source": [
    "ann_df.head()"
   ]
  },
  {
   "cell_type": "code",
   "execution_count": 33,
   "metadata": {},
   "outputs": [],
   "source": [
    "ann_df.to_csv('form_1.csv', index=False)"
   ]
  },
  {
   "source": [
    "# Form 2\n",
    "Create input form 2 where the annotated Amino Acid sequences will be converted into either -1 or 1 given the following criteria:\n",
    "- -1 if:\n",
    "    1. The Amino Acid had no mutation\n",
    "- 1 if:\n",
    "    1. A SNP occurred at the position\n",
    "    2. An insertion occurred (no matter how long the inserted sequence was, only a single -1 is given)\n",
    "    2. A deletion occurred (no matter how long the deleted sequence was, only a single -1 is given)\n",
    "- Duplications are considered (-1) for the unmuttated Amino Acid and then the rest of the dupplication is treated as a single insert (1).\n",
    "- Frameshifts are considered a 1 for every position beyond where the frameshift occurred.\n",
    "\n",
    "\n",
    "## Get and show\n",
    "First, let's get and see what the data looks like as a dataframe."
   ],
   "cell_type": "markdown",
   "metadata": {}
  },
  {
   "cell_type": "code",
   "execution_count": 35,
   "metadata": {},
   "outputs": [],
   "source": [
    "msa_df = pd.read_csv(f'{data_dir}export_msa_69.csv')"
   ]
  },
  {
   "cell_type": "code",
   "execution_count": 36,
   "metadata": {},
   "outputs": [
    {
     "output_type": "execute_result",
     "data": {
      "text/plain": [
       "        Name Unnamed: 1 Unnamed: 2 Unnamed: 3 Unnamed: 4 Unnamed: 5  \\\n",
       "0          1          M          R          Y          I          R   \n",
       "1          2          M          R          Y          I          R   \n",
       "2  consensus          M          R          Y          I          R   \n",
       "3  reference          M          R          Y          I          R   \n",
       "\n",
       "  Unnamed: 6 Unnamed: 7 Unnamed: 8 Unnamed: 9  ... Unnamed: 278 Unnamed: 279  \\\n",
       "0          L          C          I          I  ...            A            A   \n",
       "1          L          C          I          ?  ...            -            -   \n",
       "2          L          C          I          I  ...            A            A   \n",
       "3          L          C          I          I  ...            A            A   \n",
       "\n",
       "  280 Unnamed: 281 Unnamed: 282 Unnamed: 283 Unnamed: 284 Unnamed: 285  \\\n",
       "0   L            I            E            H            W            Q   \n",
       "1   -            -            -            -            -            -   \n",
       "2   L            I            E            H            W            Q   \n",
       "3   L            I            E            H            W            Q   \n",
       "\n",
       "  Unnamed: 286 Unnamed: 287  \n",
       "0            R            X  \n",
       "1            -            -  \n",
       "2            R            X  \n",
       "3            R            X  \n",
       "\n",
       "[4 rows x 288 columns]"
      ],
      "text/html": "<div>\n<style scoped>\n    .dataframe tbody tr th:only-of-type {\n        vertical-align: middle;\n    }\n\n    .dataframe tbody tr th {\n        vertical-align: top;\n    }\n\n    .dataframe thead th {\n        text-align: right;\n    }\n</style>\n<table border=\"1\" class=\"dataframe\">\n  <thead>\n    <tr style=\"text-align: right;\">\n      <th></th>\n      <th>Name</th>\n      <th>Unnamed: 1</th>\n      <th>Unnamed: 2</th>\n      <th>Unnamed: 3</th>\n      <th>Unnamed: 4</th>\n      <th>Unnamed: 5</th>\n      <th>Unnamed: 6</th>\n      <th>Unnamed: 7</th>\n      <th>Unnamed: 8</th>\n      <th>Unnamed: 9</th>\n      <th>...</th>\n      <th>Unnamed: 278</th>\n      <th>Unnamed: 279</th>\n      <th>280</th>\n      <th>Unnamed: 281</th>\n      <th>Unnamed: 282</th>\n      <th>Unnamed: 283</th>\n      <th>Unnamed: 284</th>\n      <th>Unnamed: 285</th>\n      <th>Unnamed: 286</th>\n      <th>Unnamed: 287</th>\n    </tr>\n  </thead>\n  <tbody>\n    <tr>\n      <th>0</th>\n      <td>1</td>\n      <td>M</td>\n      <td>R</td>\n      <td>Y</td>\n      <td>I</td>\n      <td>R</td>\n      <td>L</td>\n      <td>C</td>\n      <td>I</td>\n      <td>I</td>\n      <td>...</td>\n      <td>A</td>\n      <td>A</td>\n      <td>L</td>\n      <td>I</td>\n      <td>E</td>\n      <td>H</td>\n      <td>W</td>\n      <td>Q</td>\n      <td>R</td>\n      <td>X</td>\n    </tr>\n    <tr>\n      <th>1</th>\n      <td>2</td>\n      <td>M</td>\n      <td>R</td>\n      <td>Y</td>\n      <td>I</td>\n      <td>R</td>\n      <td>L</td>\n      <td>C</td>\n      <td>I</td>\n      <td>?</td>\n      <td>...</td>\n      <td>-</td>\n      <td>-</td>\n      <td>-</td>\n      <td>-</td>\n      <td>-</td>\n      <td>-</td>\n      <td>-</td>\n      <td>-</td>\n      <td>-</td>\n      <td>-</td>\n    </tr>\n    <tr>\n      <th>2</th>\n      <td>consensus</td>\n      <td>M</td>\n      <td>R</td>\n      <td>Y</td>\n      <td>I</td>\n      <td>R</td>\n      <td>L</td>\n      <td>C</td>\n      <td>I</td>\n      <td>I</td>\n      <td>...</td>\n      <td>A</td>\n      <td>A</td>\n      <td>L</td>\n      <td>I</td>\n      <td>E</td>\n      <td>H</td>\n      <td>W</td>\n      <td>Q</td>\n      <td>R</td>\n      <td>X</td>\n    </tr>\n    <tr>\n      <th>3</th>\n      <td>reference</td>\n      <td>M</td>\n      <td>R</td>\n      <td>Y</td>\n      <td>I</td>\n      <td>R</td>\n      <td>L</td>\n      <td>C</td>\n      <td>I</td>\n      <td>I</td>\n      <td>...</td>\n      <td>A</td>\n      <td>A</td>\n      <td>L</td>\n      <td>I</td>\n      <td>E</td>\n      <td>H</td>\n      <td>W</td>\n      <td>Q</td>\n      <td>R</td>\n      <td>X</td>\n    </tr>\n  </tbody>\n</table>\n<p>4 rows × 288 columns</p>\n</div>"
     },
     "metadata": {},
     "execution_count": 36
    }
   ],
   "source": [
    "msa_df.head()"
   ]
  },
  {
   "source": [
    "## Remove consensus row\n",
    "We do not need the consensus row, so we can remove that"
   ],
   "cell_type": "markdown",
   "metadata": {}
  },
  {
   "cell_type": "code",
   "execution_count": 37,
   "metadata": {},
   "outputs": [],
   "source": [
    "msa_df = msa_df[msa_df.Name != 'consensus']"
   ]
  },
  {
   "source": [
    "msa_df.head()"
   ],
   "cell_type": "code",
   "metadata": {},
   "execution_count": 38,
   "outputs": [
    {
     "output_type": "execute_result",
     "data": {
      "text/plain": [
       "        Name Unnamed: 1 Unnamed: 2 Unnamed: 3 Unnamed: 4 Unnamed: 5  \\\n",
       "0          1          M          R          Y          I          R   \n",
       "1          2          M          R          Y          I          R   \n",
       "3  reference          M          R          Y          I          R   \n",
       "\n",
       "  Unnamed: 6 Unnamed: 7 Unnamed: 8 Unnamed: 9  ... Unnamed: 278 Unnamed: 279  \\\n",
       "0          L          C          I          I  ...            A            A   \n",
       "1          L          C          I          ?  ...            -            -   \n",
       "3          L          C          I          I  ...            A            A   \n",
       "\n",
       "  280 Unnamed: 281 Unnamed: 282 Unnamed: 283 Unnamed: 284 Unnamed: 285  \\\n",
       "0   L            I            E            H            W            Q   \n",
       "1   -            -            -            -            -            -   \n",
       "3   L            I            E            H            W            Q   \n",
       "\n",
       "  Unnamed: 286 Unnamed: 287  \n",
       "0            R            X  \n",
       "1            -            -  \n",
       "3            R            X  \n",
       "\n",
       "[3 rows x 288 columns]"
      ],
      "text/html": "<div>\n<style scoped>\n    .dataframe tbody tr th:only-of-type {\n        vertical-align: middle;\n    }\n\n    .dataframe tbody tr th {\n        vertical-align: top;\n    }\n\n    .dataframe thead th {\n        text-align: right;\n    }\n</style>\n<table border=\"1\" class=\"dataframe\">\n  <thead>\n    <tr style=\"text-align: right;\">\n      <th></th>\n      <th>Name</th>\n      <th>Unnamed: 1</th>\n      <th>Unnamed: 2</th>\n      <th>Unnamed: 3</th>\n      <th>Unnamed: 4</th>\n      <th>Unnamed: 5</th>\n      <th>Unnamed: 6</th>\n      <th>Unnamed: 7</th>\n      <th>Unnamed: 8</th>\n      <th>Unnamed: 9</th>\n      <th>...</th>\n      <th>Unnamed: 278</th>\n      <th>Unnamed: 279</th>\n      <th>280</th>\n      <th>Unnamed: 281</th>\n      <th>Unnamed: 282</th>\n      <th>Unnamed: 283</th>\n      <th>Unnamed: 284</th>\n      <th>Unnamed: 285</th>\n      <th>Unnamed: 286</th>\n      <th>Unnamed: 287</th>\n    </tr>\n  </thead>\n  <tbody>\n    <tr>\n      <th>0</th>\n      <td>1</td>\n      <td>M</td>\n      <td>R</td>\n      <td>Y</td>\n      <td>I</td>\n      <td>R</td>\n      <td>L</td>\n      <td>C</td>\n      <td>I</td>\n      <td>I</td>\n      <td>...</td>\n      <td>A</td>\n      <td>A</td>\n      <td>L</td>\n      <td>I</td>\n      <td>E</td>\n      <td>H</td>\n      <td>W</td>\n      <td>Q</td>\n      <td>R</td>\n      <td>X</td>\n    </tr>\n    <tr>\n      <th>1</th>\n      <td>2</td>\n      <td>M</td>\n      <td>R</td>\n      <td>Y</td>\n      <td>I</td>\n      <td>R</td>\n      <td>L</td>\n      <td>C</td>\n      <td>I</td>\n      <td>?</td>\n      <td>...</td>\n      <td>-</td>\n      <td>-</td>\n      <td>-</td>\n      <td>-</td>\n      <td>-</td>\n      <td>-</td>\n      <td>-</td>\n      <td>-</td>\n      <td>-</td>\n      <td>-</td>\n    </tr>\n    <tr>\n      <th>3</th>\n      <td>reference</td>\n      <td>M</td>\n      <td>R</td>\n      <td>Y</td>\n      <td>I</td>\n      <td>R</td>\n      <td>L</td>\n      <td>C</td>\n      <td>I</td>\n      <td>I</td>\n      <td>...</td>\n      <td>A</td>\n      <td>A</td>\n      <td>L</td>\n      <td>I</td>\n      <td>E</td>\n      <td>H</td>\n      <td>W</td>\n      <td>Q</td>\n      <td>R</td>\n      <td>X</td>\n    </tr>\n  </tbody>\n</table>\n<p>3 rows × 288 columns</p>\n</div>"
     },
     "metadata": {},
     "execution_count": 38
    }
   ]
  },
  {
   "source": [
    "## Change Amino Acids to 1's and -1's\n",
    "We will next need to remove the reference row and use it to turn the Amino Acid sequence into a sequence of 1's and -1's. The resulting list of numbers should be the same size as the reference."
   ],
   "cell_type": "markdown",
   "metadata": {}
  },
  {
   "cell_type": "code",
   "execution_count": 39,
   "metadata": {},
   "outputs": [],
   "source": [
    "# Get the reference row, turn it into a list of lists (there will only be 1 row, so 1 list)\n",
    "# Then, remove the first element which is the name of the row 'reference'\n",
    "reference = msa_df[msa_df.Name == 'reference'].values.tolist()[0][1:]\n",
    "\n",
    "# Remove reference row\n",
    "msa_df = msa_df[msa_df.Name != 'reference']"
   ]
  },
  {
   "source": [
    "There needs to be a function that can go over each row, create the list of 1's and -1's, and return that list to be readded to the df."
   ],
   "cell_type": "markdown",
   "metadata": {}
  },
  {
   "cell_type": "code",
   "execution_count": 40,
   "metadata": {},
   "outputs": [],
   "source": [
    "def create_ones_list(row, reference = []):\n",
    "    # The first element of the row is the isolate id, so we must remove that first\n",
    "    row = row[1:]\n",
    "\n",
    "    # Since both sequnces were part of a MSA, we can assume the lists are the same length.\n",
    "    frameshift = False\n",
    "    insert = False\n",
    "    delete = False\n",
    "    ones = []\n",
    "    for p, r in zip(row, reference):\n",
    "\n",
    "        # Frameshift occurred in the sequence\n",
    "        if frameshift:\n",
    "            ones.append(1)\n",
    "            continue\n",
    "        elif p == '?':\n",
    "            frameshift = True\n",
    "            ones.append(1)\n",
    "            continue\n",
    "\n",
    "        # Insert occurred in the sequence meaning reference has a -\n",
    "        if insert and r == '-':\n",
    "            continue\n",
    "        elif r == '-':\n",
    "            insert = True\n",
    "            ones.append(1)\n",
    "            continue\n",
    "        else:\n",
    "            insert = False\n",
    "\n",
    "        # Delete occurred in the sequence meaning sequence has a -\n",
    "        if delete and p == '-':\n",
    "            continue\n",
    "        elif p == '-':\n",
    "            delete = True\n",
    "            ones.append(1)\n",
    "            continue\n",
    "        else:\n",
    "            delete = False\n",
    "\n",
    "        # Either a substitution occurred or the 2 sequences are the same\n",
    "        if p != r:\n",
    "            ones.append(1)\n",
    "        else:\n",
    "            ones.append(-1)\n",
    "\n",
    "    return ones"
   ]
  },
  {
   "cell_type": "code",
   "execution_count": 41,
   "metadata": {},
   "outputs": [
    {
     "output_type": "execute_result",
     "data": {
      "text/plain": [
       "  Name Unnamed: 1 Unnamed: 2 Unnamed: 3 Unnamed: 4 Unnamed: 5 Unnamed: 6  \\\n",
       "0    1          M          R          Y          I          R          L   \n",
       "1    2          M          R          Y          I          R          L   \n",
       "\n",
       "  Unnamed: 7 Unnamed: 8 Unnamed: 9  ... Unnamed: 278 Unnamed: 279 280  \\\n",
       "0          C          I          I  ...            A            A   L   \n",
       "1          C          I          ?  ...            -            -   -   \n",
       "\n",
       "  Unnamed: 281 Unnamed: 282 Unnamed: 283 Unnamed: 284 Unnamed: 285  \\\n",
       "0            I            E            H            W            Q   \n",
       "1            -            -            -            -            -   \n",
       "\n",
       "  Unnamed: 286 Unnamed: 287  \n",
       "0            R            X  \n",
       "1            -            -  \n",
       "\n",
       "[2 rows x 288 columns]"
      ],
      "text/html": "<div>\n<style scoped>\n    .dataframe tbody tr th:only-of-type {\n        vertical-align: middle;\n    }\n\n    .dataframe tbody tr th {\n        vertical-align: top;\n    }\n\n    .dataframe thead th {\n        text-align: right;\n    }\n</style>\n<table border=\"1\" class=\"dataframe\">\n  <thead>\n    <tr style=\"text-align: right;\">\n      <th></th>\n      <th>Name</th>\n      <th>Unnamed: 1</th>\n      <th>Unnamed: 2</th>\n      <th>Unnamed: 3</th>\n      <th>Unnamed: 4</th>\n      <th>Unnamed: 5</th>\n      <th>Unnamed: 6</th>\n      <th>Unnamed: 7</th>\n      <th>Unnamed: 8</th>\n      <th>Unnamed: 9</th>\n      <th>...</th>\n      <th>Unnamed: 278</th>\n      <th>Unnamed: 279</th>\n      <th>280</th>\n      <th>Unnamed: 281</th>\n      <th>Unnamed: 282</th>\n      <th>Unnamed: 283</th>\n      <th>Unnamed: 284</th>\n      <th>Unnamed: 285</th>\n      <th>Unnamed: 286</th>\n      <th>Unnamed: 287</th>\n    </tr>\n  </thead>\n  <tbody>\n    <tr>\n      <th>0</th>\n      <td>1</td>\n      <td>M</td>\n      <td>R</td>\n      <td>Y</td>\n      <td>I</td>\n      <td>R</td>\n      <td>L</td>\n      <td>C</td>\n      <td>I</td>\n      <td>I</td>\n      <td>...</td>\n      <td>A</td>\n      <td>A</td>\n      <td>L</td>\n      <td>I</td>\n      <td>E</td>\n      <td>H</td>\n      <td>W</td>\n      <td>Q</td>\n      <td>R</td>\n      <td>X</td>\n    </tr>\n    <tr>\n      <th>1</th>\n      <td>2</td>\n      <td>M</td>\n      <td>R</td>\n      <td>Y</td>\n      <td>I</td>\n      <td>R</td>\n      <td>L</td>\n      <td>C</td>\n      <td>I</td>\n      <td>?</td>\n      <td>...</td>\n      <td>-</td>\n      <td>-</td>\n      <td>-</td>\n      <td>-</td>\n      <td>-</td>\n      <td>-</td>\n      <td>-</td>\n      <td>-</td>\n      <td>-</td>\n      <td>-</td>\n    </tr>\n  </tbody>\n</table>\n<p>2 rows × 288 columns</p>\n</div>"
     },
     "metadata": {},
     "execution_count": 41
    }
   ],
   "source": [
    "msa_df.head()"
   ]
  },
  {
   "cell_type": "code",
   "execution_count": 42,
   "metadata": {},
   "outputs": [],
   "source": [
    "\n",
    "msa_df['ones'] = msa_df.apply(create_ones_list, axis=1, reference=reference)"
   ]
  },
  {
   "cell_type": "code",
   "execution_count": 43,
   "metadata": {},
   "outputs": [
    {
     "output_type": "execute_result",
     "data": {
      "text/plain": [
       "  Name Unnamed: 1 Unnamed: 2 Unnamed: 3 Unnamed: 4 Unnamed: 5 Unnamed: 6  \\\n",
       "0    1          M          R          Y          I          R          L   \n",
       "1    2          M          R          Y          I          R          L   \n",
       "\n",
       "  Unnamed: 7 Unnamed: 8 Unnamed: 9  ... Unnamed: 279 280 Unnamed: 281  \\\n",
       "0          C          I          I  ...            A   L            I   \n",
       "1          C          I          ?  ...            -   -            -   \n",
       "\n",
       "  Unnamed: 282 Unnamed: 283 Unnamed: 284 Unnamed: 285 Unnamed: 286  \\\n",
       "0            E            H            W            Q            R   \n",
       "1            -            -            -            -            -   \n",
       "\n",
       "  Unnamed: 287                                               ones  \n",
       "0            X  [-1, -1, -1, -1, -1, -1, -1, -1, -1, -1, -1, -...  \n",
       "1            -  [-1, -1, -1, -1, -1, -1, -1, -1, 1, 1, 1, 1, 1...  \n",
       "\n",
       "[2 rows x 289 columns]"
      ],
      "text/html": "<div>\n<style scoped>\n    .dataframe tbody tr th:only-of-type {\n        vertical-align: middle;\n    }\n\n    .dataframe tbody tr th {\n        vertical-align: top;\n    }\n\n    .dataframe thead th {\n        text-align: right;\n    }\n</style>\n<table border=\"1\" class=\"dataframe\">\n  <thead>\n    <tr style=\"text-align: right;\">\n      <th></th>\n      <th>Name</th>\n      <th>Unnamed: 1</th>\n      <th>Unnamed: 2</th>\n      <th>Unnamed: 3</th>\n      <th>Unnamed: 4</th>\n      <th>Unnamed: 5</th>\n      <th>Unnamed: 6</th>\n      <th>Unnamed: 7</th>\n      <th>Unnamed: 8</th>\n      <th>Unnamed: 9</th>\n      <th>...</th>\n      <th>Unnamed: 279</th>\n      <th>280</th>\n      <th>Unnamed: 281</th>\n      <th>Unnamed: 282</th>\n      <th>Unnamed: 283</th>\n      <th>Unnamed: 284</th>\n      <th>Unnamed: 285</th>\n      <th>Unnamed: 286</th>\n      <th>Unnamed: 287</th>\n      <th>ones</th>\n    </tr>\n  </thead>\n  <tbody>\n    <tr>\n      <th>0</th>\n      <td>1</td>\n      <td>M</td>\n      <td>R</td>\n      <td>Y</td>\n      <td>I</td>\n      <td>R</td>\n      <td>L</td>\n      <td>C</td>\n      <td>I</td>\n      <td>I</td>\n      <td>...</td>\n      <td>A</td>\n      <td>L</td>\n      <td>I</td>\n      <td>E</td>\n      <td>H</td>\n      <td>W</td>\n      <td>Q</td>\n      <td>R</td>\n      <td>X</td>\n      <td>[-1, -1, -1, -1, -1, -1, -1, -1, -1, -1, -1, -...</td>\n    </tr>\n    <tr>\n      <th>1</th>\n      <td>2</td>\n      <td>M</td>\n      <td>R</td>\n      <td>Y</td>\n      <td>I</td>\n      <td>R</td>\n      <td>L</td>\n      <td>C</td>\n      <td>I</td>\n      <td>?</td>\n      <td>...</td>\n      <td>-</td>\n      <td>-</td>\n      <td>-</td>\n      <td>-</td>\n      <td>-</td>\n      <td>-</td>\n      <td>-</td>\n      <td>-</td>\n      <td>-</td>\n      <td>[-1, -1, -1, -1, -1, -1, -1, -1, 1, 1, 1, 1, 1...</td>\n    </tr>\n  </tbody>\n</table>\n<p>2 rows × 289 columns</p>\n</div>"
     },
     "metadata": {},
     "execution_count": 43
    }
   ],
   "source": [
    "msa_df.head()"
   ]
  },
  {
   "source": [
    "## Remove all gene columns\n",
    "Now that we have the ones list created, we can now remove all other gene columns."
   ],
   "cell_type": "markdown",
   "metadata": {}
  },
  {
   "cell_type": "code",
   "execution_count": 44,
   "metadata": {},
   "outputs": [],
   "source": [
    "msa_df = msa_df.drop(msa_df.columns[[x not in ['Name', 'ones'] for x in msa_df.columns]], axis=1)"
   ]
  },
  {
   "cell_type": "code",
   "execution_count": 45,
   "metadata": {},
   "outputs": [
    {
     "output_type": "execute_result",
     "data": {
      "text/plain": [
       "  Name                                               ones\n",
       "0    1  [-1, -1, -1, -1, -1, -1, -1, -1, -1, -1, -1, -...\n",
       "1    2  [-1, -1, -1, -1, -1, -1, -1, -1, 1, 1, 1, 1, 1..."
      ],
      "text/html": "<div>\n<style scoped>\n    .dataframe tbody tr th:only-of-type {\n        vertical-align: middle;\n    }\n\n    .dataframe tbody tr th {\n        vertical-align: top;\n    }\n\n    .dataframe thead th {\n        text-align: right;\n    }\n</style>\n<table border=\"1\" class=\"dataframe\">\n  <thead>\n    <tr style=\"text-align: right;\">\n      <th></th>\n      <th>Name</th>\n      <th>ones</th>\n    </tr>\n  </thead>\n  <tbody>\n    <tr>\n      <th>0</th>\n      <td>1</td>\n      <td>[-1, -1, -1, -1, -1, -1, -1, -1, -1, -1, -1, -...</td>\n    </tr>\n    <tr>\n      <th>1</th>\n      <td>2</td>\n      <td>[-1, -1, -1, -1, -1, -1, -1, -1, 1, 1, 1, 1, 1...</td>\n    </tr>\n  </tbody>\n</table>\n</div>"
     },
     "metadata": {},
     "execution_count": 45
    }
   ],
   "source": [
    "msa_df.head()"
   ]
  },
  {
   "source": [
    "## To CSV\n",
    "Lastly, we want to export as CSV without the indecies. We do not need the pandas pre-made indicies, so we can remove them from the CSV file. Since this file is just testing, it will be saved to the current folder."
   ],
   "cell_type": "markdown",
   "metadata": {}
  },
  {
   "cell_type": "code",
   "execution_count": 168,
   "metadata": {},
   "outputs": [],
   "source": [
    "msa_df.to_csv('form_2.csv', index=False)"
   ]
  },
  {
   "source": [
    "Test to see if the file can be loaded, and what it will look like if it is."
   ],
   "cell_type": "markdown",
   "metadata": {}
  },
  {
   "cell_type": "code",
   "execution_count": 169,
   "metadata": {},
   "outputs": [
    {
     "output_type": "execute_result",
     "data": {
      "text/plain": [
       "   Name                                               ones\n",
       "0     1  [-1, -1, -1, -1, -1, -1, -1, -1, -1, -1, -1, -...\n",
       "1     2  [-1, -1, -1, -1, -1, -1, -1, -1, 1, 1, 1, 1, 1..."
      ],
      "text/html": "<div>\n<style scoped>\n    .dataframe tbody tr th:only-of-type {\n        vertical-align: middle;\n    }\n\n    .dataframe tbody tr th {\n        vertical-align: top;\n    }\n\n    .dataframe thead th {\n        text-align: right;\n    }\n</style>\n<table border=\"1\" class=\"dataframe\">\n  <thead>\n    <tr style=\"text-align: right;\">\n      <th></th>\n      <th>Name</th>\n      <th>ones</th>\n    </tr>\n  </thead>\n  <tbody>\n    <tr>\n      <th>0</th>\n      <td>1</td>\n      <td>[-1, -1, -1, -1, -1, -1, -1, -1, -1, -1, -1, -...</td>\n    </tr>\n    <tr>\n      <th>1</th>\n      <td>2</td>\n      <td>[-1, -1, -1, -1, -1, -1, -1, -1, 1, 1, 1, 1, 1...</td>\n    </tr>\n  </tbody>\n</table>\n</div>"
     },
     "metadata": {},
     "execution_count": 169
    }
   ],
   "source": [
    "pd.read_csv('form_2.csv').head()"
   ]
  },
  {
   "source": [
    "## Update 1\n",
    "The sequences need to be padded to all be the same length (similar to form 1). In order to pad, we need to have a default length that all sequences should be. We will use the reference sequence to figure out that max length."
   ],
   "cell_type": "markdown",
   "metadata": {}
  },
  {
   "cell_type": "code",
   "execution_count": 48,
   "metadata": {},
   "outputs": [],
   "source": [
    "# If there are any '-' in the reference sequence, remove it\n",
    "reference = [x for x in reference if x != '-']\n",
    "\n",
    "# Used for max length in padding\n",
    "reference_length = len(reference)"
   ]
  },
  {
   "cell_type": "code",
   "execution_count": 49,
   "metadata": {},
   "outputs": [],
   "source": [
    "new_lists = pd.DataFrame(pad_sequences(msa_df[\"ones\"], padding='post', maxlen=reference_length, value=-99, truncating='post'))"
   ]
  },
  {
   "cell_type": "code",
   "execution_count": 50,
   "metadata": {},
   "outputs": [],
   "source": [
    "# Concatenate old and new dataframe so that rows match up.\n",
    "msa_df = pd.concat([msa_df, new_lists], axis=1)"
   ]
  },
  {
   "cell_type": "code",
   "execution_count": 51,
   "metadata": {},
   "outputs": [
    {
     "output_type": "execute_result",
     "data": {
      "text/plain": [
       "  Name                                               ones  0  1  2  3  4  5  \\\n",
       "0    1  [-1, -1, -1, -1, -1, -1, -1, -1, -1, -1, -1, -... -1 -1 -1 -1 -1 -1   \n",
       "1    2  [-1, -1, -1, -1, -1, -1, -1, -1, 1, 1, 1, 1, 1... -1 -1 -1 -1 -1 -1   \n",
       "\n",
       "   6  7  ...  277  278  279  280  281  282  283  284  285  286  \n",
       "0 -1 -1  ...   -1   -1   -1   -1   -1   -1   -1   -1   -1   -1  \n",
       "1 -1 -1  ...    1    1    1    1    1    1    1    1    1    1  \n",
       "\n",
       "[2 rows x 289 columns]"
      ],
      "text/html": "<div>\n<style scoped>\n    .dataframe tbody tr th:only-of-type {\n        vertical-align: middle;\n    }\n\n    .dataframe tbody tr th {\n        vertical-align: top;\n    }\n\n    .dataframe thead th {\n        text-align: right;\n    }\n</style>\n<table border=\"1\" class=\"dataframe\">\n  <thead>\n    <tr style=\"text-align: right;\">\n      <th></th>\n      <th>Name</th>\n      <th>ones</th>\n      <th>0</th>\n      <th>1</th>\n      <th>2</th>\n      <th>3</th>\n      <th>4</th>\n      <th>5</th>\n      <th>6</th>\n      <th>7</th>\n      <th>...</th>\n      <th>277</th>\n      <th>278</th>\n      <th>279</th>\n      <th>280</th>\n      <th>281</th>\n      <th>282</th>\n      <th>283</th>\n      <th>284</th>\n      <th>285</th>\n      <th>286</th>\n    </tr>\n  </thead>\n  <tbody>\n    <tr>\n      <th>0</th>\n      <td>1</td>\n      <td>[-1, -1, -1, -1, -1, -1, -1, -1, -1, -1, -1, -...</td>\n      <td>-1</td>\n      <td>-1</td>\n      <td>-1</td>\n      <td>-1</td>\n      <td>-1</td>\n      <td>-1</td>\n      <td>-1</td>\n      <td>-1</td>\n      <td>...</td>\n      <td>-1</td>\n      <td>-1</td>\n      <td>-1</td>\n      <td>-1</td>\n      <td>-1</td>\n      <td>-1</td>\n      <td>-1</td>\n      <td>-1</td>\n      <td>-1</td>\n      <td>-1</td>\n    </tr>\n    <tr>\n      <th>1</th>\n      <td>2</td>\n      <td>[-1, -1, -1, -1, -1, -1, -1, -1, 1, 1, 1, 1, 1...</td>\n      <td>-1</td>\n      <td>-1</td>\n      <td>-1</td>\n      <td>-1</td>\n      <td>-1</td>\n      <td>-1</td>\n      <td>-1</td>\n      <td>-1</td>\n      <td>...</td>\n      <td>1</td>\n      <td>1</td>\n      <td>1</td>\n      <td>1</td>\n      <td>1</td>\n      <td>1</td>\n      <td>1</td>\n      <td>1</td>\n      <td>1</td>\n      <td>1</td>\n    </tr>\n  </tbody>\n</table>\n<p>2 rows × 289 columns</p>\n</div>"
     },
     "metadata": {},
     "execution_count": 51
    }
   ],
   "source": [
    "msa_df.head()"
   ]
  },
  {
   "cell_type": "code",
   "execution_count": 52,
   "metadata": {},
   "outputs": [],
   "source": [
    "# Drop the old list column\n",
    "msa_df = msa_df.drop(['ones'], axis=1)"
   ]
  },
  {
   "cell_type": "code",
   "execution_count": 53,
   "metadata": {},
   "outputs": [
    {
     "output_type": "execute_result",
     "data": {
      "text/plain": [
       "  Name  0  1  2  3  4  5  6  7  8  ...  277  278  279  280  281  282  283  \\\n",
       "0    1 -1 -1 -1 -1 -1 -1 -1 -1 -1  ...   -1   -1   -1   -1   -1   -1   -1   \n",
       "1    2 -1 -1 -1 -1 -1 -1 -1 -1  1  ...    1    1    1    1    1    1    1   \n",
       "\n",
       "   284  285  286  \n",
       "0   -1   -1   -1  \n",
       "1    1    1    1  \n",
       "\n",
       "[2 rows x 288 columns]"
      ],
      "text/html": "<div>\n<style scoped>\n    .dataframe tbody tr th:only-of-type {\n        vertical-align: middle;\n    }\n\n    .dataframe tbody tr th {\n        vertical-align: top;\n    }\n\n    .dataframe thead th {\n        text-align: right;\n    }\n</style>\n<table border=\"1\" class=\"dataframe\">\n  <thead>\n    <tr style=\"text-align: right;\">\n      <th></th>\n      <th>Name</th>\n      <th>0</th>\n      <th>1</th>\n      <th>2</th>\n      <th>3</th>\n      <th>4</th>\n      <th>5</th>\n      <th>6</th>\n      <th>7</th>\n      <th>8</th>\n      <th>...</th>\n      <th>277</th>\n      <th>278</th>\n      <th>279</th>\n      <th>280</th>\n      <th>281</th>\n      <th>282</th>\n      <th>283</th>\n      <th>284</th>\n      <th>285</th>\n      <th>286</th>\n    </tr>\n  </thead>\n  <tbody>\n    <tr>\n      <th>0</th>\n      <td>1</td>\n      <td>-1</td>\n      <td>-1</td>\n      <td>-1</td>\n      <td>-1</td>\n      <td>-1</td>\n      <td>-1</td>\n      <td>-1</td>\n      <td>-1</td>\n      <td>-1</td>\n      <td>...</td>\n      <td>-1</td>\n      <td>-1</td>\n      <td>-1</td>\n      <td>-1</td>\n      <td>-1</td>\n      <td>-1</td>\n      <td>-1</td>\n      <td>-1</td>\n      <td>-1</td>\n      <td>-1</td>\n    </tr>\n    <tr>\n      <th>1</th>\n      <td>2</td>\n      <td>-1</td>\n      <td>-1</td>\n      <td>-1</td>\n      <td>-1</td>\n      <td>-1</td>\n      <td>-1</td>\n      <td>-1</td>\n      <td>-1</td>\n      <td>1</td>\n      <td>...</td>\n      <td>1</td>\n      <td>1</td>\n      <td>1</td>\n      <td>1</td>\n      <td>1</td>\n      <td>1</td>\n      <td>1</td>\n      <td>1</td>\n      <td>1</td>\n      <td>1</td>\n    </tr>\n  </tbody>\n</table>\n<p>2 rows × 288 columns</p>\n</div>"
     },
     "metadata": {},
     "execution_count": 53
    }
   ],
   "source": [
    "msa_df.head()"
   ]
  },
  {
   "cell_type": "code",
   "execution_count": 54,
   "metadata": {},
   "outputs": [],
   "source": [
    "msa_df.to_csv('form_2.csv', index=False)"
   ]
  },
  {
   "source": [
    "# Form 3\n",
    "Create input form 3 where the annotated Amino Acid sequences will be converted a sequence of numbers corresponding to the character that occurres in the annotated sequence.\n",
    "\n",
    "NOTE: It does not rely on the reference sequence\n",
    "\n",
    "## Start\n",
    "To start, we will do the same things as we did for form 2 up to the reference. We will be removing the reference column and not using it."
   ],
   "cell_type": "markdown",
   "metadata": {}
  },
  {
   "cell_type": "code",
   "execution_count": 178,
   "metadata": {},
   "outputs": [],
   "source": [
    "msa_df = pd.read_csv(f'{data_dir}.csv', index_col=0)\n",
    "msa_df = msa_df[msa_df.index != 'consensus']\n",
    "msa_df = msa_df[msa_df.index != 'reference']"
   ]
  },
  {
   "cell_type": "code",
   "execution_count": 179,
   "metadata": {},
   "outputs": [
    {
     "output_type": "execute_result",
     "data": {
      "text/plain": [
       "     Unnamed: 1 Unnamed: 2 Unnamed: 3 Unnamed: 4 Unnamed: 5 Unnamed: 6  \\\n",
       "Name                                                                     \n",
       "1             M          R          Y          I          R          L   \n",
       "2             M          R          Y          I          R          L   \n",
       "\n",
       "     Unnamed: 7 Unnamed: 8 Unnamed: 9 10  ... Unnamed: 278 Unnamed: 279 280  \\\n",
       "Name                                      ...                                 \n",
       "1             C          I          I  S  ...            A            A   L   \n",
       "2             C          I          ?  -  ...            -            -   -   \n",
       "\n",
       "     Unnamed: 281 Unnamed: 282 Unnamed: 283 Unnamed: 284 Unnamed: 285  \\\n",
       "Name                                                                    \n",
       "1               I            E            H            W            Q   \n",
       "2               -            -            -            -            -   \n",
       "\n",
       "     Unnamed: 286 Unnamed: 287  \n",
       "Name                            \n",
       "1               R            X  \n",
       "2               -            -  \n",
       "\n",
       "[2 rows x 287 columns]"
      ],
      "text/html": "<div>\n<style scoped>\n    .dataframe tbody tr th:only-of-type {\n        vertical-align: middle;\n    }\n\n    .dataframe tbody tr th {\n        vertical-align: top;\n    }\n\n    .dataframe thead th {\n        text-align: right;\n    }\n</style>\n<table border=\"1\" class=\"dataframe\">\n  <thead>\n    <tr style=\"text-align: right;\">\n      <th></th>\n      <th>Unnamed: 1</th>\n      <th>Unnamed: 2</th>\n      <th>Unnamed: 3</th>\n      <th>Unnamed: 4</th>\n      <th>Unnamed: 5</th>\n      <th>Unnamed: 6</th>\n      <th>Unnamed: 7</th>\n      <th>Unnamed: 8</th>\n      <th>Unnamed: 9</th>\n      <th>10</th>\n      <th>...</th>\n      <th>Unnamed: 278</th>\n      <th>Unnamed: 279</th>\n      <th>280</th>\n      <th>Unnamed: 281</th>\n      <th>Unnamed: 282</th>\n      <th>Unnamed: 283</th>\n      <th>Unnamed: 284</th>\n      <th>Unnamed: 285</th>\n      <th>Unnamed: 286</th>\n      <th>Unnamed: 287</th>\n    </tr>\n    <tr>\n      <th>Name</th>\n      <th></th>\n      <th></th>\n      <th></th>\n      <th></th>\n      <th></th>\n      <th></th>\n      <th></th>\n      <th></th>\n      <th></th>\n      <th></th>\n      <th></th>\n      <th></th>\n      <th></th>\n      <th></th>\n      <th></th>\n      <th></th>\n      <th></th>\n      <th></th>\n      <th></th>\n      <th></th>\n      <th></th>\n    </tr>\n  </thead>\n  <tbody>\n    <tr>\n      <th>1</th>\n      <td>M</td>\n      <td>R</td>\n      <td>Y</td>\n      <td>I</td>\n      <td>R</td>\n      <td>L</td>\n      <td>C</td>\n      <td>I</td>\n      <td>I</td>\n      <td>S</td>\n      <td>...</td>\n      <td>A</td>\n      <td>A</td>\n      <td>L</td>\n      <td>I</td>\n      <td>E</td>\n      <td>H</td>\n      <td>W</td>\n      <td>Q</td>\n      <td>R</td>\n      <td>X</td>\n    </tr>\n    <tr>\n      <th>2</th>\n      <td>M</td>\n      <td>R</td>\n      <td>Y</td>\n      <td>I</td>\n      <td>R</td>\n      <td>L</td>\n      <td>C</td>\n      <td>I</td>\n      <td>?</td>\n      <td>-</td>\n      <td>...</td>\n      <td>-</td>\n      <td>-</td>\n      <td>-</td>\n      <td>-</td>\n      <td>-</td>\n      <td>-</td>\n      <td>-</td>\n      <td>-</td>\n      <td>-</td>\n      <td>-</td>\n    </tr>\n  </tbody>\n</table>\n<p>2 rows × 287 columns</p>\n</div>"
     },
     "metadata": {},
     "execution_count": 179
    }
   ],
   "source": [
    "msa_df.head()"
   ]
  },
  {
   "source": [
    "## Create function for values\n",
    "We need to create a conversion function that will take in an Amino Acid (plus a few extra characters) and return an index of that character."
   ],
   "cell_type": "markdown",
   "metadata": {}
  },
  {
   "cell_type": "code",
   "execution_count": 187,
   "metadata": {},
   "outputs": [],
   "source": [
    "def convert(col):\n",
    "    characters = {\n",
    "        'A': 0,\n",
    "        'R': 1, \n",
    "        'N': 2,\n",
    "        'D': 3,\n",
    "        'C': 4,\n",
    "        'Q': 5,\n",
    "        'E': 6,\n",
    "        'G': 7,\n",
    "        'H': 8,\n",
    "        'I': 9,\n",
    "        'L': 10,\n",
    "        'K': 11,\n",
    "        'M': 12,\n",
    "        'F': 13,\n",
    "        'P': 14,\n",
    "        'S': 15,\n",
    "        'T': 16,\n",
    "        'W': 17,\n",
    "        'Y': 18,\n",
    "        'V': 19,\n",
    "        'B': 20,\n",
    "        'Z': 21,\n",
    "        'X': 22,\n",
    "        '?': 23,\n",
    "        '-': 24\n",
    "    }\n",
    "\n",
    "    new_col = []\n",
    "    for c in col:\n",
    "        tmp = characters.get(c, None)\n",
    "        if tmp is None:\n",
    "            raise ValueError(f'Value {c} does not exist in characters dictionary')\n",
    "\n",
    "        new_col.append(tmp)\n",
    "\n",
    "    return new_col"
   ]
  },
  {
   "cell_type": "code",
   "execution_count": 181,
   "metadata": {},
   "outputs": [
    {
     "output_type": "execute_result",
     "data": {
      "text/plain": [
       "     Unnamed: 1 Unnamed: 2 Unnamed: 3 Unnamed: 4 Unnamed: 5 Unnamed: 6  \\\n",
       "Name                                                                     \n",
       "1             M          R          Y          I          R          L   \n",
       "2             M          R          Y          I          R          L   \n",
       "\n",
       "     Unnamed: 7 Unnamed: 8 Unnamed: 9 10  ... Unnamed: 278 Unnamed: 279 280  \\\n",
       "Name                                      ...                                 \n",
       "1             C          I          I  S  ...            A            A   L   \n",
       "2             C          I          ?  -  ...            -            -   -   \n",
       "\n",
       "     Unnamed: 281 Unnamed: 282 Unnamed: 283 Unnamed: 284 Unnamed: 285  \\\n",
       "Name                                                                    \n",
       "1               I            E            H            W            Q   \n",
       "2               -            -            -            -            -   \n",
       "\n",
       "     Unnamed: 286 Unnamed: 287  \n",
       "Name                            \n",
       "1               R            X  \n",
       "2               -            -  \n",
       "\n",
       "[2 rows x 287 columns]"
      ],
      "text/html": "<div>\n<style scoped>\n    .dataframe tbody tr th:only-of-type {\n        vertical-align: middle;\n    }\n\n    .dataframe tbody tr th {\n        vertical-align: top;\n    }\n\n    .dataframe thead th {\n        text-align: right;\n    }\n</style>\n<table border=\"1\" class=\"dataframe\">\n  <thead>\n    <tr style=\"text-align: right;\">\n      <th></th>\n      <th>Unnamed: 1</th>\n      <th>Unnamed: 2</th>\n      <th>Unnamed: 3</th>\n      <th>Unnamed: 4</th>\n      <th>Unnamed: 5</th>\n      <th>Unnamed: 6</th>\n      <th>Unnamed: 7</th>\n      <th>Unnamed: 8</th>\n      <th>Unnamed: 9</th>\n      <th>10</th>\n      <th>...</th>\n      <th>Unnamed: 278</th>\n      <th>Unnamed: 279</th>\n      <th>280</th>\n      <th>Unnamed: 281</th>\n      <th>Unnamed: 282</th>\n      <th>Unnamed: 283</th>\n      <th>Unnamed: 284</th>\n      <th>Unnamed: 285</th>\n      <th>Unnamed: 286</th>\n      <th>Unnamed: 287</th>\n    </tr>\n    <tr>\n      <th>Name</th>\n      <th></th>\n      <th></th>\n      <th></th>\n      <th></th>\n      <th></th>\n      <th></th>\n      <th></th>\n      <th></th>\n      <th></th>\n      <th></th>\n      <th></th>\n      <th></th>\n      <th></th>\n      <th></th>\n      <th></th>\n      <th></th>\n      <th></th>\n      <th></th>\n      <th></th>\n      <th></th>\n      <th></th>\n    </tr>\n  </thead>\n  <tbody>\n    <tr>\n      <th>1</th>\n      <td>M</td>\n      <td>R</td>\n      <td>Y</td>\n      <td>I</td>\n      <td>R</td>\n      <td>L</td>\n      <td>C</td>\n      <td>I</td>\n      <td>I</td>\n      <td>S</td>\n      <td>...</td>\n      <td>A</td>\n      <td>A</td>\n      <td>L</td>\n      <td>I</td>\n      <td>E</td>\n      <td>H</td>\n      <td>W</td>\n      <td>Q</td>\n      <td>R</td>\n      <td>X</td>\n    </tr>\n    <tr>\n      <th>2</th>\n      <td>M</td>\n      <td>R</td>\n      <td>Y</td>\n      <td>I</td>\n      <td>R</td>\n      <td>L</td>\n      <td>C</td>\n      <td>I</td>\n      <td>?</td>\n      <td>-</td>\n      <td>...</td>\n      <td>-</td>\n      <td>-</td>\n      <td>-</td>\n      <td>-</td>\n      <td>-</td>\n      <td>-</td>\n      <td>-</td>\n      <td>-</td>\n      <td>-</td>\n      <td>-</td>\n    </tr>\n  </tbody>\n</table>\n<p>2 rows × 287 columns</p>\n</div>"
     },
     "metadata": {},
     "execution_count": 181
    }
   ],
   "source": [
    "# See old head of dataframe\n",
    "msa_df.head()"
   ]
  },
  {
   "cell_type": "code",
   "execution_count": 189,
   "metadata": {},
   "outputs": [],
   "source": [
    "# Apply function\n",
    "msa_df = msa_df.apply(convert, axis=1, result_type='broadcast')"
   ]
  },
  {
   "cell_type": "code",
   "execution_count": 190,
   "metadata": {},
   "outputs": [
    {
     "output_type": "execute_result",
     "data": {
      "text/plain": [
       "     Unnamed: 1 Unnamed: 2 Unnamed: 3 Unnamed: 4 Unnamed: 5 Unnamed: 6  \\\n",
       "Name                                                                     \n",
       "1            12          1         18          9          1         10   \n",
       "2            12          1         18          9          1         10   \n",
       "\n",
       "     Unnamed: 7 Unnamed: 8 Unnamed: 9  10  ... Unnamed: 278 Unnamed: 279 280  \\\n",
       "Name                                       ...                                 \n",
       "1             4          9          9  15  ...            0            0  10   \n",
       "2             4          9         23  24  ...           24           24  24   \n",
       "\n",
       "     Unnamed: 281 Unnamed: 282 Unnamed: 283 Unnamed: 284 Unnamed: 285  \\\n",
       "Name                                                                    \n",
       "1               9            6            8           17            5   \n",
       "2              24           24           24           24           24   \n",
       "\n",
       "     Unnamed: 286 Unnamed: 287  \n",
       "Name                            \n",
       "1               1           22  \n",
       "2              24           24  \n",
       "\n",
       "[2 rows x 287 columns]"
      ],
      "text/html": "<div>\n<style scoped>\n    .dataframe tbody tr th:only-of-type {\n        vertical-align: middle;\n    }\n\n    .dataframe tbody tr th {\n        vertical-align: top;\n    }\n\n    .dataframe thead th {\n        text-align: right;\n    }\n</style>\n<table border=\"1\" class=\"dataframe\">\n  <thead>\n    <tr style=\"text-align: right;\">\n      <th></th>\n      <th>Unnamed: 1</th>\n      <th>Unnamed: 2</th>\n      <th>Unnamed: 3</th>\n      <th>Unnamed: 4</th>\n      <th>Unnamed: 5</th>\n      <th>Unnamed: 6</th>\n      <th>Unnamed: 7</th>\n      <th>Unnamed: 8</th>\n      <th>Unnamed: 9</th>\n      <th>10</th>\n      <th>...</th>\n      <th>Unnamed: 278</th>\n      <th>Unnamed: 279</th>\n      <th>280</th>\n      <th>Unnamed: 281</th>\n      <th>Unnamed: 282</th>\n      <th>Unnamed: 283</th>\n      <th>Unnamed: 284</th>\n      <th>Unnamed: 285</th>\n      <th>Unnamed: 286</th>\n      <th>Unnamed: 287</th>\n    </tr>\n    <tr>\n      <th>Name</th>\n      <th></th>\n      <th></th>\n      <th></th>\n      <th></th>\n      <th></th>\n      <th></th>\n      <th></th>\n      <th></th>\n      <th></th>\n      <th></th>\n      <th></th>\n      <th></th>\n      <th></th>\n      <th></th>\n      <th></th>\n      <th></th>\n      <th></th>\n      <th></th>\n      <th></th>\n      <th></th>\n      <th></th>\n    </tr>\n  </thead>\n  <tbody>\n    <tr>\n      <th>1</th>\n      <td>12</td>\n      <td>1</td>\n      <td>18</td>\n      <td>9</td>\n      <td>1</td>\n      <td>10</td>\n      <td>4</td>\n      <td>9</td>\n      <td>9</td>\n      <td>15</td>\n      <td>...</td>\n      <td>0</td>\n      <td>0</td>\n      <td>10</td>\n      <td>9</td>\n      <td>6</td>\n      <td>8</td>\n      <td>17</td>\n      <td>5</td>\n      <td>1</td>\n      <td>22</td>\n    </tr>\n    <tr>\n      <th>2</th>\n      <td>12</td>\n      <td>1</td>\n      <td>18</td>\n      <td>9</td>\n      <td>1</td>\n      <td>10</td>\n      <td>4</td>\n      <td>9</td>\n      <td>23</td>\n      <td>24</td>\n      <td>...</td>\n      <td>24</td>\n      <td>24</td>\n      <td>24</td>\n      <td>24</td>\n      <td>24</td>\n      <td>24</td>\n      <td>24</td>\n      <td>24</td>\n      <td>24</td>\n      <td>24</td>\n    </tr>\n  </tbody>\n</table>\n<p>2 rows × 287 columns</p>\n</div>"
     },
     "metadata": {},
     "execution_count": 190
    }
   ],
   "source": [
    "msa_df.head()"
   ]
  },
  {
   "source": [
    "## To CSV\n",
    "Lastly, we want to export as CSV without the indecies. We do not need the pandas pre-made indicies, so we can remove them from the CSV file. Since this file is just testing, it will be saved to the current folder."
   ],
   "cell_type": "markdown",
   "metadata": {}
  },
  {
   "cell_type": "code",
   "execution_count": 193,
   "metadata": {},
   "outputs": [],
   "source": [
    "msa_df.to_csv('form_3.csv')"
   ]
  },
  {
   "source": [
    "Test to see if the file can be loaded, and what it will look like if it is."
   ],
   "cell_type": "markdown",
   "metadata": {}
  },
  {
   "cell_type": "code",
   "execution_count": 194,
   "metadata": {},
   "outputs": [
    {
     "output_type": "execute_result",
     "data": {
      "text/plain": [
       "   Name  Unnamed: 1  Unnamed: 2  Unnamed: 3  Unnamed: 4  Unnamed: 5  \\\n",
       "0     1          12           1          18           9           1   \n",
       "1     2          12           1          18           9           1   \n",
       "\n",
       "   Unnamed: 6  Unnamed: 7  Unnamed: 8  Unnamed: 9  ...  Unnamed: 278  \\\n",
       "0          10           4           9           9  ...             0   \n",
       "1          10           4           9          23  ...            24   \n",
       "\n",
       "   Unnamed: 279  280  Unnamed: 281  Unnamed: 282  Unnamed: 283  Unnamed: 284  \\\n",
       "0             0   10             9             6             8            17   \n",
       "1            24   24            24            24            24            24   \n",
       "\n",
       "   Unnamed: 285  Unnamed: 286  Unnamed: 287  \n",
       "0             5             1            22  \n",
       "1            24            24            24  \n",
       "\n",
       "[2 rows x 288 columns]"
      ],
      "text/html": "<div>\n<style scoped>\n    .dataframe tbody tr th:only-of-type {\n        vertical-align: middle;\n    }\n\n    .dataframe tbody tr th {\n        vertical-align: top;\n    }\n\n    .dataframe thead th {\n        text-align: right;\n    }\n</style>\n<table border=\"1\" class=\"dataframe\">\n  <thead>\n    <tr style=\"text-align: right;\">\n      <th></th>\n      <th>Name</th>\n      <th>Unnamed: 1</th>\n      <th>Unnamed: 2</th>\n      <th>Unnamed: 3</th>\n      <th>Unnamed: 4</th>\n      <th>Unnamed: 5</th>\n      <th>Unnamed: 6</th>\n      <th>Unnamed: 7</th>\n      <th>Unnamed: 8</th>\n      <th>Unnamed: 9</th>\n      <th>...</th>\n      <th>Unnamed: 278</th>\n      <th>Unnamed: 279</th>\n      <th>280</th>\n      <th>Unnamed: 281</th>\n      <th>Unnamed: 282</th>\n      <th>Unnamed: 283</th>\n      <th>Unnamed: 284</th>\n      <th>Unnamed: 285</th>\n      <th>Unnamed: 286</th>\n      <th>Unnamed: 287</th>\n    </tr>\n  </thead>\n  <tbody>\n    <tr>\n      <th>0</th>\n      <td>1</td>\n      <td>12</td>\n      <td>1</td>\n      <td>18</td>\n      <td>9</td>\n      <td>1</td>\n      <td>10</td>\n      <td>4</td>\n      <td>9</td>\n      <td>9</td>\n      <td>...</td>\n      <td>0</td>\n      <td>0</td>\n      <td>10</td>\n      <td>9</td>\n      <td>6</td>\n      <td>8</td>\n      <td>17</td>\n      <td>5</td>\n      <td>1</td>\n      <td>22</td>\n    </tr>\n    <tr>\n      <th>1</th>\n      <td>2</td>\n      <td>12</td>\n      <td>1</td>\n      <td>18</td>\n      <td>9</td>\n      <td>1</td>\n      <td>10</td>\n      <td>4</td>\n      <td>9</td>\n      <td>23</td>\n      <td>...</td>\n      <td>24</td>\n      <td>24</td>\n      <td>24</td>\n      <td>24</td>\n      <td>24</td>\n      <td>24</td>\n      <td>24</td>\n      <td>24</td>\n      <td>24</td>\n      <td>24</td>\n    </tr>\n  </tbody>\n</table>\n<p>2 rows × 288 columns</p>\n</div>"
     },
     "metadata": {},
     "execution_count": 194
    }
   ],
   "source": [
    "pd.read_csv('form_3.csv').head()"
   ]
  },
  {
   "cell_type": "code",
   "execution_count": null,
   "metadata": {},
   "outputs": [],
   "source": []
  }
 ]
}