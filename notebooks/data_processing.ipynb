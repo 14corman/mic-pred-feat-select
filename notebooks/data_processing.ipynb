{
 "metadata": {
  "language_info": {
   "codemirror_mode": {
    "name": "ipython",
    "version": 3
   },
   "file_extension": ".py",
   "mimetype": "text/x-python",
   "name": "python",
   "nbconvert_exporter": "python",
   "pygments_lexer": "ipython3",
   "version": "3.8.6-final"
  },
  "orig_nbformat": 2,
  "kernelspec": {
   "name": "python3",
   "display_name": "Python 3.8.6 64-bit",
   "metadata": {
    "interpreter": {
     "hash": "bf66385a5a9217b7f25761b49aa1592adf2d33bc32343798c341d18f58413a49"
    }
   }
  }
 },
 "nbformat": 4,
 "nbformat_minor": 2,
 "cells": [
  {
   "cell_type": "code",
   "execution_count": 78,
   "metadata": {},
   "outputs": [],
   "source": [
    "# Processing\n",
    "This notebook will walk through what the processing is for the 3 different forms, and the trial and error taken to get to those forms."
   ]
  },
  {
   "cell_type": "code",
   "execution_count": 77,
   "metadata": {},
   "outputs": [
    {
     "output_type": "stream",
     "name": "stdout",
     "text": [
      "Requirement already satisfied: numpy in c:\\users\\cory\\appdata\\local\\programs\\python\\python38\\lib\\site-packages (1.20.2)\n",
      "Requirement already satisfied: matplotlib in c:\\users\\cory\\appdata\\local\\programs\\python\\python38\\lib\\site-packages (3.4.0)\n",
      "Requirement already satisfied: pandas in c:\\users\\cory\\appdata\\local\\programs\\python\\python38\\lib\\site-packages (1.2.3)\n",
      "Requirement already satisfied: biopython in c:\\users\\cory\\appdata\\local\\programs\\python\\python38\\lib\\site-packages (1.78)\n",
      "Requirement already satisfied: cycler>=0.10 in c:\\users\\cory\\appdata\\local\\programs\\python\\python38\\lib\\site-packages (from matplotlib) (0.10.0)\n",
      "Requirement already satisfied: pyparsing>=2.2.1 in c:\\users\\cory\\appdata\\local\\programs\\python\\python38\\lib\\site-packages (from matplotlib) (2.4.7)\n",
      "Requirement already satisfied: python-dateutil>=2.7 in c:\\users\\cory\\appdata\\roaming\\python\\python38\\site-packages (from matplotlib) (2.8.1)\n",
      "Requirement already satisfied: pillow>=6.2.0 in c:\\users\\cory\\appdata\\local\\programs\\python\\python38\\lib\\site-packages (from matplotlib) (8.1.2)\n",
      "Requirement already satisfied: kiwisolver>=1.0.1 in c:\\users\\cory\\appdata\\local\\programs\\python\\python38\\lib\\site-packages (from matplotlib) (1.3.1)\n",
      "Requirement already satisfied: pytz>=2017.3 in c:\\users\\cory\\appdata\\local\\programs\\python\\python38\\lib\\site-packages (from pandas) (2021.1)\n",
      "Requirement already satisfied: six in c:\\users\\cory\\appdata\\roaming\\python\\python38\\site-packages (from cycler>=0.10->matplotlib) (1.15.0)\n",
      "Note: you may need to restart the kernel to use updated packages.\n",
      "WARNING: You are using pip version 20.2.1; however, version 21.0.1 is available.\n",
      "You should consider upgrading via the 'C:\\Users\\Cory\\AppData\\Local\\Programs\\Python\\Python38\\python.exe -m pip install --upgrade pip' command.\n"
     ]
    }
   ],
   "source": [
    "%pip install numpy matplotlib pandas biopython"
   ]
  },
  {
   "source": [
    "# Load all neccessary libraries\n",
    "import numpy as np\n",
    "import pandas as pd\n",
    "import matplotlib.pyplot as plt\n",
    "%matplotlib inline\n",
    "\n",
    "# Bio libraries needed\n",
    "from Bio.Align import substitution_matrices"
   ],
   "cell_type": "markdown",
   "metadata": {}
  },
  {
   "source": [
    "**Load needed variables**"
   ],
   "cell_type": "markdown",
   "metadata": {}
  },
  {
   "cell_type": "code",
   "execution_count": 79,
   "metadata": {},
   "outputs": [],
   "source": [
    "data_dir = \"../data/test/\"\n",
    "blosum62 = substitution_matrices.load('BLOSUM62')"
   ]
  },
  {
   "source": [
    "# Form 1\n",
    "The list of annotations are created into a list of scores using the following methods:\n",
    "- comparing substitutions using BLOSUM-62 matrix\n",
    "- Frame shifts                    = -10\n",
    "- Inserts (no matter length)      = -5\n",
    "- Deletions (no matter length)    = -5\n",
    "- Duplications (no matter length) = -2\n",
    "\n",
    "## Getting data\n",
    "First, we need to get the data. The first column of the CSV file should have Isolate_ID, but this may not be unique as 1 isolate could have many annotations."
   ],
   "cell_type": "markdown",
   "metadata": {}
  },
  {
   "cell_type": "code",
   "execution_count": 80,
   "metadata": {},
   "outputs": [],
   "source": [
    "ann_df = pd.read_csv(f'{data_dir}export_62.csv')"
   ]
  },
  {
   "cell_type": "code",
   "execution_count": 81,
   "metadata": {},
   "outputs": [
    {
     "output_type": "execute_result",
     "data": {
      "text/plain": [
       "   Isolate_ID                             Gene Type Ref Position(s) AA  \\\n",
       "0           1  OMPK35_YP002239423.1_OMPK35_KPN  sub   A         182  S   \n",
       "1           1  OMPK35_YP002239423.1_OMPK35_KPN  sub   V         183  I   \n",
       "2           1  OMPK35_YP002239423.1_OMPK35_KPN  sub   R         184  H   \n",
       "3           1  OMPK35_YP002239423.1_OMPK35_KPN  sub   E         257  N   \n",
       "4           1  OMPK35_YP002239423.1_OMPK35_KPN  sub   D         258  Q   \n",
       "\n",
       "   % coverage  \n",
       "0       100.0  \n",
       "1       100.0  \n",
       "2       100.0  \n",
       "3       100.0  \n",
       "4       100.0  "
      ],
      "text/html": "<div>\n<style scoped>\n    .dataframe tbody tr th:only-of-type {\n        vertical-align: middle;\n    }\n\n    .dataframe tbody tr th {\n        vertical-align: top;\n    }\n\n    .dataframe thead th {\n        text-align: right;\n    }\n</style>\n<table border=\"1\" class=\"dataframe\">\n  <thead>\n    <tr style=\"text-align: right;\">\n      <th></th>\n      <th>Isolate_ID</th>\n      <th>Gene</th>\n      <th>Type</th>\n      <th>Ref</th>\n      <th>Position(s)</th>\n      <th>AA</th>\n      <th>% coverage</th>\n    </tr>\n  </thead>\n  <tbody>\n    <tr>\n      <th>0</th>\n      <td>1</td>\n      <td>OMPK35_YP002239423.1_OMPK35_KPN</td>\n      <td>sub</td>\n      <td>A</td>\n      <td>182</td>\n      <td>S</td>\n      <td>100.0</td>\n    </tr>\n    <tr>\n      <th>1</th>\n      <td>1</td>\n      <td>OMPK35_YP002239423.1_OMPK35_KPN</td>\n      <td>sub</td>\n      <td>V</td>\n      <td>183</td>\n      <td>I</td>\n      <td>100.0</td>\n    </tr>\n    <tr>\n      <th>2</th>\n      <td>1</td>\n      <td>OMPK35_YP002239423.1_OMPK35_KPN</td>\n      <td>sub</td>\n      <td>R</td>\n      <td>184</td>\n      <td>H</td>\n      <td>100.0</td>\n    </tr>\n    <tr>\n      <th>3</th>\n      <td>1</td>\n      <td>OMPK35_YP002239423.1_OMPK35_KPN</td>\n      <td>sub</td>\n      <td>E</td>\n      <td>257</td>\n      <td>N</td>\n      <td>100.0</td>\n    </tr>\n    <tr>\n      <th>4</th>\n      <td>1</td>\n      <td>OMPK35_YP002239423.1_OMPK35_KPN</td>\n      <td>sub</td>\n      <td>D</td>\n      <td>258</td>\n      <td>Q</td>\n      <td>100.0</td>\n    </tr>\n  </tbody>\n</table>\n</div>"
     },
     "metadata": {},
     "execution_count": 81
    }
   ],
   "source": [
    "# See what the original data annotations look like\n",
    "ann_df.head()"
   ]
  },
  {
   "source": [
    "## Dropping columns\n",
    "We do not care about the column \\[%], so we can drop that. Even though Isolate_ID is not unique, we still want to include it so we can group by this column later as each datapoint will be a list of annotations using this column."
   ],
   "cell_type": "markdown",
   "metadata": {}
  },
  {
   "cell_type": "code",
   "execution_count": 82,
   "metadata": {},
   "outputs": [
    {
     "output_type": "execute_result",
     "data": {
      "text/plain": [
       "   Isolate_ID                             Gene Type Ref Position(s) AA\n",
       "0           1  OMPK35_YP002239423.1_OMPK35_KPN  sub   A         182  S\n",
       "1           1  OMPK35_YP002239423.1_OMPK35_KPN  sub   V         183  I\n",
       "2           1  OMPK35_YP002239423.1_OMPK35_KPN  sub   R         184  H\n",
       "3           1  OMPK35_YP002239423.1_OMPK35_KPN  sub   E         257  N\n",
       "4           1  OMPK35_YP002239423.1_OMPK35_KPN  sub   D         258  Q"
      ],
      "text/html": "<div>\n<style scoped>\n    .dataframe tbody tr th:only-of-type {\n        vertical-align: middle;\n    }\n\n    .dataframe tbody tr th {\n        vertical-align: top;\n    }\n\n    .dataframe thead th {\n        text-align: right;\n    }\n</style>\n<table border=\"1\" class=\"dataframe\">\n  <thead>\n    <tr style=\"text-align: right;\">\n      <th></th>\n      <th>Isolate_ID</th>\n      <th>Gene</th>\n      <th>Type</th>\n      <th>Ref</th>\n      <th>Position(s)</th>\n      <th>AA</th>\n    </tr>\n  </thead>\n  <tbody>\n    <tr>\n      <th>0</th>\n      <td>1</td>\n      <td>OMPK35_YP002239423.1_OMPK35_KPN</td>\n      <td>sub</td>\n      <td>A</td>\n      <td>182</td>\n      <td>S</td>\n    </tr>\n    <tr>\n      <th>1</th>\n      <td>1</td>\n      <td>OMPK35_YP002239423.1_OMPK35_KPN</td>\n      <td>sub</td>\n      <td>V</td>\n      <td>183</td>\n      <td>I</td>\n    </tr>\n    <tr>\n      <th>2</th>\n      <td>1</td>\n      <td>OMPK35_YP002239423.1_OMPK35_KPN</td>\n      <td>sub</td>\n      <td>R</td>\n      <td>184</td>\n      <td>H</td>\n    </tr>\n    <tr>\n      <th>3</th>\n      <td>1</td>\n      <td>OMPK35_YP002239423.1_OMPK35_KPN</td>\n      <td>sub</td>\n      <td>E</td>\n      <td>257</td>\n      <td>N</td>\n    </tr>\n    <tr>\n      <th>4</th>\n      <td>1</td>\n      <td>OMPK35_YP002239423.1_OMPK35_KPN</td>\n      <td>sub</td>\n      <td>D</td>\n      <td>258</td>\n      <td>Q</td>\n    </tr>\n  </tbody>\n</table>\n</div>"
     },
     "metadata": {},
     "execution_count": 82
    }
   ],
   "source": [
    "ann_df = ann_df.drop(['% coverage'], axis=1)\n",
    "ann_df.head()"
   ]
  },
  {
   "source": [
    "## Create Score column\n",
    "Next, we need to create the score column that we will use later.\n",
    "\n",
    "### Score function\n",
    "To make it more clear, we can make a score function that will calculate each annotation's score."
   ],
   "cell_type": "markdown",
   "metadata": {}
  },
  {
   "cell_type": "code",
   "execution_count": 83,
   "metadata": {},
   "outputs": [],
   "source": [
    "def calc_score(row):\n",
    "    if row.Type == 'sub':\n",
    "        return blosum62[row.Ref, row.AA]    # Matrix is square, so ref and aa are interchangable\n",
    "    elif row.Type == 'fs':\n",
    "        return -10\n",
    "    elif row.Type == 'ins':\n",
    "        return -5\n",
    "    elif row.Type == 'del':\n",
    "        return -5\n",
    "    elif row.Type == 'dup':\n",
    "        return -2"
   ]
  },
  {
   "source": [
    "### Apply the score function\n",
    "Here, the score function is applied over all rows (axis = 1)."
   ],
   "cell_type": "markdown",
   "metadata": {}
  },
  {
   "cell_type": "code",
   "execution_count": 84,
   "metadata": {},
   "outputs": [],
   "source": [
    "ann_df['Score'] = ann_df.apply(calc_score, axis=1)"
   ]
  },
  {
   "cell_type": "code",
   "execution_count": 85,
   "metadata": {},
   "outputs": [
    {
     "output_type": "execute_result",
     "data": {
      "text/plain": [
       "   Isolate_ID                             Gene Type Ref Position(s) AA  Score\n",
       "0           1  OMPK35_YP002239423.1_OMPK35_KPN  sub   A         182  S    1.0\n",
       "1           1  OMPK35_YP002239423.1_OMPK35_KPN  sub   V         183  I    3.0\n",
       "2           1  OMPK35_YP002239423.1_OMPK35_KPN  sub   R         184  H    0.0\n",
       "3           1  OMPK35_YP002239423.1_OMPK35_KPN  sub   E         257  N    0.0\n",
       "4           1  OMPK35_YP002239423.1_OMPK35_KPN  sub   D         258  Q    0.0"
      ],
      "text/html": "<div>\n<style scoped>\n    .dataframe tbody tr th:only-of-type {\n        vertical-align: middle;\n    }\n\n    .dataframe tbody tr th {\n        vertical-align: top;\n    }\n\n    .dataframe thead th {\n        text-align: right;\n    }\n</style>\n<table border=\"1\" class=\"dataframe\">\n  <thead>\n    <tr style=\"text-align: right;\">\n      <th></th>\n      <th>Isolate_ID</th>\n      <th>Gene</th>\n      <th>Type</th>\n      <th>Ref</th>\n      <th>Position(s)</th>\n      <th>AA</th>\n      <th>Score</th>\n    </tr>\n  </thead>\n  <tbody>\n    <tr>\n      <th>0</th>\n      <td>1</td>\n      <td>OMPK35_YP002239423.1_OMPK35_KPN</td>\n      <td>sub</td>\n      <td>A</td>\n      <td>182</td>\n      <td>S</td>\n      <td>1.0</td>\n    </tr>\n    <tr>\n      <th>1</th>\n      <td>1</td>\n      <td>OMPK35_YP002239423.1_OMPK35_KPN</td>\n      <td>sub</td>\n      <td>V</td>\n      <td>183</td>\n      <td>I</td>\n      <td>3.0</td>\n    </tr>\n    <tr>\n      <th>2</th>\n      <td>1</td>\n      <td>OMPK35_YP002239423.1_OMPK35_KPN</td>\n      <td>sub</td>\n      <td>R</td>\n      <td>184</td>\n      <td>H</td>\n      <td>0.0</td>\n    </tr>\n    <tr>\n      <th>3</th>\n      <td>1</td>\n      <td>OMPK35_YP002239423.1_OMPK35_KPN</td>\n      <td>sub</td>\n      <td>E</td>\n      <td>257</td>\n      <td>N</td>\n      <td>0.0</td>\n    </tr>\n    <tr>\n      <th>4</th>\n      <td>1</td>\n      <td>OMPK35_YP002239423.1_OMPK35_KPN</td>\n      <td>sub</td>\n      <td>D</td>\n      <td>258</td>\n      <td>Q</td>\n      <td>0.0</td>\n    </tr>\n  </tbody>\n</table>\n</div>"
     },
     "metadata": {},
     "execution_count": 85
    }
   ],
   "source": [
    "ann_df.head()"
   ]
  },
  {
   "source": [
    "## Drop columns\n",
    "Now, we do not need Type, Ref, Position(s), and AA."
   ],
   "cell_type": "markdown",
   "metadata": {}
  },
  {
   "cell_type": "code",
   "execution_count": 86,
   "metadata": {},
   "outputs": [],
   "source": [
    "ann_df = ann_df.drop(['Type', 'Ref', 'Position(s)', 'AA'], axis=1)"
   ]
  },
  {
   "cell_type": "code",
   "execution_count": 87,
   "metadata": {},
   "outputs": [
    {
     "output_type": "execute_result",
     "data": {
      "text/plain": [
       "   Isolate_ID                             Gene  Score\n",
       "0           1  OMPK35_YP002239423.1_OMPK35_KPN    1.0\n",
       "1           1  OMPK35_YP002239423.1_OMPK35_KPN    3.0\n",
       "2           1  OMPK35_YP002239423.1_OMPK35_KPN    0.0\n",
       "3           1  OMPK35_YP002239423.1_OMPK35_KPN    0.0\n",
       "4           1  OMPK35_YP002239423.1_OMPK35_KPN    0.0"
      ],
      "text/html": "<div>\n<style scoped>\n    .dataframe tbody tr th:only-of-type {\n        vertical-align: middle;\n    }\n\n    .dataframe tbody tr th {\n        vertical-align: top;\n    }\n\n    .dataframe thead th {\n        text-align: right;\n    }\n</style>\n<table border=\"1\" class=\"dataframe\">\n  <thead>\n    <tr style=\"text-align: right;\">\n      <th></th>\n      <th>Isolate_ID</th>\n      <th>Gene</th>\n      <th>Score</th>\n    </tr>\n  </thead>\n  <tbody>\n    <tr>\n      <th>0</th>\n      <td>1</td>\n      <td>OMPK35_YP002239423.1_OMPK35_KPN</td>\n      <td>1.0</td>\n    </tr>\n    <tr>\n      <th>1</th>\n      <td>1</td>\n      <td>OMPK35_YP002239423.1_OMPK35_KPN</td>\n      <td>3.0</td>\n    </tr>\n    <tr>\n      <th>2</th>\n      <td>1</td>\n      <td>OMPK35_YP002239423.1_OMPK35_KPN</td>\n      <td>0.0</td>\n    </tr>\n    <tr>\n      <th>3</th>\n      <td>1</td>\n      <td>OMPK35_YP002239423.1_OMPK35_KPN</td>\n      <td>0.0</td>\n    </tr>\n    <tr>\n      <th>4</th>\n      <td>1</td>\n      <td>OMPK35_YP002239423.1_OMPK35_KPN</td>\n      <td>0.0</td>\n    </tr>\n  </tbody>\n</table>\n</div>"
     },
     "metadata": {},
     "execution_count": 87
    }
   ],
   "source": [
    "ann_df.head()"
   ]
  },
  {
   "source": [
    "## Group all scores into a list per isolate/gene\n",
    "Our final dataframe needs to have each row being a single datapoint representing an isolate and gene combination. The datapoint's value should be the list of annotations found. We want to go over a few options to see which is more efficient for the amount of data we have.\n",
    "\n",
    "Code below found in [this StackOverflow answer](https://stackoverflow.com/a/22221675)."
   ],
   "cell_type": "markdown",
   "metadata": {}
  },
  {
   "cell_type": "code",
   "execution_count": 93,
   "metadata": {},
   "outputs": [
    {
     "output_type": "stream",
     "name": "stdout",
     "text": [
      "7.74 ms ± 99.8 µs per loop (mean ± std. dev. of 7 runs, 100 loops each)\n"
     ]
    }
   ],
   "source": [
    "# First, we want to groub by id and gene so we get all combined scores\n",
    "# Second, we want to get the made list of Score rows\n",
    "# Third, we want to make want to make each row into a list\n",
    "# Finally, we want to reset the index for each row so that we get individual rows per each element in the group\n",
    "%timeit ann_df.groupby(['Isolate_ID', 'Gene'])['Score'].apply(list).reset_index(name='ann_lists')"
   ]
  },
  {
   "source": [
    "This next option is more convienent, but it is twice as slow and has weird output ([found here](https://stackoverflow.com/a/66853746))."
   ],
   "cell_type": "markdown",
   "metadata": {}
  },
  {
   "cell_type": "code",
   "execution_count": 92,
   "metadata": {},
   "outputs": [
    {
     "output_type": "stream",
     "name": "stdout",
     "text": [
      "14.1 ms ± 196 µs per loop (mean ± std. dev. of 7 runs, 100 loops each)\n"
     ]
    }
   ],
   "source": [
    "%timeit pd.pivot_table(ann_df, values='Score', index=['Isolate_ID', 'Gene'], aggfunc={'Score': list})"
   ]
  },
  {
   "source": [
    "Trying the same line as the first one, but this time using `np.array` instead of `list`. It seems to be about the same time as just using `list`."
   ],
   "cell_type": "markdown",
   "metadata": {}
  },
  {
   "cell_type": "code",
   "execution_count": 95,
   "metadata": {},
   "outputs": [
    {
     "output_type": "stream",
     "name": "stdout",
     "text": [
      "7.94 ms ± 126 µs per loop (mean ± std. dev. of 7 runs, 100 loops each)\n"
     ]
    }
   ],
   "source": [
    "%timeit ann_df.groupby(['Isolate_ID', 'Gene'])['Score'].apply(np.array).reset_index(name='ann_lists')"
   ]
  },
  {
   "source": [
    "Since this will only be run once to generate the datasets, I will use the first option for convienence and ease of reading."
   ],
   "cell_type": "markdown",
   "metadata": {}
  },
  {
   "source": [
    "ann_df = ann_df.groupby(['Isolate_ID', 'Gene'])['Score'].apply(list).reset_index(name='ann_lists')"
   ],
   "cell_type": "code",
   "metadata": {},
   "execution_count": 96,
   "outputs": []
  },
  {
   "cell_type": "code",
   "execution_count": 97,
   "metadata": {},
   "outputs": [
    {
     "output_type": "execute_result",
     "data": {
      "text/plain": [
       "   Isolate_ID                             Gene  \\\n",
       "0           1  OMPK35_YP002239423.1_OMPK35_KPN   \n",
       "1           1  OMPK36_YP002237369.1_OMPK36_KPN   \n",
       "2           1  OMPK37_YP002238854.1_OMPK37_KPN   \n",
       "3           2  OMPK35_YP002239423.1_OMPK35_KPN   \n",
       "4           2  OMPK36_YP002237369.1_OMPK36_KPN   \n",
       "\n",
       "                                           ann_lists  \n",
       "0  [1.0, 3.0, 0.0, 0.0, 0.0, -5.0, 2.0, 1.0, 0.0,...  \n",
       "1                                    [1.0, 3.0, 2.0]  \n",
       "2  [0.0, 1.0, 1.0, 0.0, 1.0, 0.0, 2.0, 3.0, 1.0, ...  \n",
       "3                [-1.0, -10.0, -10.0, 3.0, 0.0, 3.0]  \n",
       "4  [-3.0, 0.0, 3.0, 1.0, 1.0, 2.0, 1.0, 1.0, -5.0...  "
      ],
      "text/html": "<div>\n<style scoped>\n    .dataframe tbody tr th:only-of-type {\n        vertical-align: middle;\n    }\n\n    .dataframe tbody tr th {\n        vertical-align: top;\n    }\n\n    .dataframe thead th {\n        text-align: right;\n    }\n</style>\n<table border=\"1\" class=\"dataframe\">\n  <thead>\n    <tr style=\"text-align: right;\">\n      <th></th>\n      <th>Isolate_ID</th>\n      <th>Gene</th>\n      <th>ann_lists</th>\n    </tr>\n  </thead>\n  <tbody>\n    <tr>\n      <th>0</th>\n      <td>1</td>\n      <td>OMPK35_YP002239423.1_OMPK35_KPN</td>\n      <td>[1.0, 3.0, 0.0, 0.0, 0.0, -5.0, 2.0, 1.0, 0.0,...</td>\n    </tr>\n    <tr>\n      <th>1</th>\n      <td>1</td>\n      <td>OMPK36_YP002237369.1_OMPK36_KPN</td>\n      <td>[1.0, 3.0, 2.0]</td>\n    </tr>\n    <tr>\n      <th>2</th>\n      <td>1</td>\n      <td>OMPK37_YP002238854.1_OMPK37_KPN</td>\n      <td>[0.0, 1.0, 1.0, 0.0, 1.0, 0.0, 2.0, 3.0, 1.0, ...</td>\n    </tr>\n    <tr>\n      <th>3</th>\n      <td>2</td>\n      <td>OMPK35_YP002239423.1_OMPK35_KPN</td>\n      <td>[-1.0, -10.0, -10.0, 3.0, 0.0, 3.0]</td>\n    </tr>\n    <tr>\n      <th>4</th>\n      <td>2</td>\n      <td>OMPK36_YP002237369.1_OMPK36_KPN</td>\n      <td>[-3.0, 0.0, 3.0, 1.0, 1.0, 2.0, 1.0, 1.0, -5.0...</td>\n    </tr>\n  </tbody>\n</table>\n</div>"
     },
     "metadata": {},
     "execution_count": 97
    }
   ],
   "source": [
    "ann_df.head()"
   ]
  },
  {
   "source": [
    "## To CSV\n",
    "Lastly, we want to export as CSV without the indecies. We do not need the pandas pre-made indicies, so we can remove them from the CSV file. Since this file is just testing, it will be saved to the current folder."
   ],
   "cell_type": "markdown",
   "metadata": {}
  },
  {
   "cell_type": "code",
   "execution_count": 99,
   "metadata": {},
   "outputs": [],
   "source": [
    "ann_df.to_csv('form_1.csv', index=False)"
   ]
  },
  {
   "source": [
    "Test to see if the file can be loaded, and what it will look like if it is."
   ],
   "cell_type": "markdown",
   "metadata": {}
  },
  {
   "cell_type": "code",
   "execution_count": 100,
   "metadata": {},
   "outputs": [
    {
     "output_type": "execute_result",
     "data": {
      "text/plain": [
       "   Isolate_ID                             Gene  \\\n",
       "0           1  OMPK35_YP002239423.1_OMPK35_KPN   \n",
       "1           1  OMPK36_YP002237369.1_OMPK36_KPN   \n",
       "2           1  OMPK37_YP002238854.1_OMPK37_KPN   \n",
       "3           2  OMPK35_YP002239423.1_OMPK35_KPN   \n",
       "4           2  OMPK36_YP002237369.1_OMPK36_KPN   \n",
       "\n",
       "                                           ann_lists  \n",
       "0  [1.0, 3.0, 0.0, 0.0, 0.0, -5.0, 2.0, 1.0, 0.0,...  \n",
       "1                                    [1.0, 3.0, 2.0]  \n",
       "2  [0.0, 1.0, 1.0, 0.0, 1.0, 0.0, 2.0, 3.0, 1.0, ...  \n",
       "3                [-1.0, -10.0, -10.0, 3.0, 0.0, 3.0]  \n",
       "4  [-3.0, 0.0, 3.0, 1.0, 1.0, 2.0, 1.0, 1.0, -5.0...  "
      ],
      "text/html": "<div>\n<style scoped>\n    .dataframe tbody tr th:only-of-type {\n        vertical-align: middle;\n    }\n\n    .dataframe tbody tr th {\n        vertical-align: top;\n    }\n\n    .dataframe thead th {\n        text-align: right;\n    }\n</style>\n<table border=\"1\" class=\"dataframe\">\n  <thead>\n    <tr style=\"text-align: right;\">\n      <th></th>\n      <th>Isolate_ID</th>\n      <th>Gene</th>\n      <th>ann_lists</th>\n    </tr>\n  </thead>\n  <tbody>\n    <tr>\n      <th>0</th>\n      <td>1</td>\n      <td>OMPK35_YP002239423.1_OMPK35_KPN</td>\n      <td>[1.0, 3.0, 0.0, 0.0, 0.0, -5.0, 2.0, 1.0, 0.0,...</td>\n    </tr>\n    <tr>\n      <th>1</th>\n      <td>1</td>\n      <td>OMPK36_YP002237369.1_OMPK36_KPN</td>\n      <td>[1.0, 3.0, 2.0]</td>\n    </tr>\n    <tr>\n      <th>2</th>\n      <td>1</td>\n      <td>OMPK37_YP002238854.1_OMPK37_KPN</td>\n      <td>[0.0, 1.0, 1.0, 0.0, 1.0, 0.0, 2.0, 3.0, 1.0, ...</td>\n    </tr>\n    <tr>\n      <th>3</th>\n      <td>2</td>\n      <td>OMPK35_YP002239423.1_OMPK35_KPN</td>\n      <td>[-1.0, -10.0, -10.0, 3.0, 0.0, 3.0]</td>\n    </tr>\n    <tr>\n      <th>4</th>\n      <td>2</td>\n      <td>OMPK36_YP002237369.1_OMPK36_KPN</td>\n      <td>[-3.0, 0.0, 3.0, 1.0, 1.0, 2.0, 1.0, 1.0, -5.0...</td>\n    </tr>\n  </tbody>\n</table>\n</div>"
     },
     "metadata": {},
     "execution_count": 100
    }
   ],
   "source": [
    "pd.read_csv('form_1.csv').head()"
   ]
  },
  {
   "source": [
    "# Form 2\n",
    "Create input form 2 where the annotated Amino Acid sequences will be converted into either -1 or 1 given the following criteria:\n",
    "- -1 if:\n",
    "    1. The Amino Acid had no mutation\n",
    "- 1 if:\n",
    "    1. A SNP occurred at the position\n",
    "    2. An insertion occurred (no matter how long the inserted sequence was, only a single -1 is given)\n",
    "    2. A deletion occurred (no matter how long the deleted sequence was, only a single -1 is given)"
   ],
   "cell_type": "markdown",
   "metadata": {}
  }
 ]
}