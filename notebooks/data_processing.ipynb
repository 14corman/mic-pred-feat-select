{
 "metadata": {
  "language_info": {
   "codemirror_mode": {
    "name": "ipython",
    "version": 3
   },
   "file_extension": ".py",
   "mimetype": "text/x-python",
   "name": "python",
   "nbconvert_exporter": "python",
   "pygments_lexer": "ipython3",
   "version": "3.8.6-final"
  },
  "orig_nbformat": 2,
  "kernelspec": {
   "name": "python3",
   "display_name": "Python 3.8.6 64-bit",
   "metadata": {
    "interpreter": {
     "hash": "bf66385a5a9217b7f25761b49aa1592adf2d33bc32343798c341d18f58413a49"
    }
   }
  }
 },
 "nbformat": 4,
 "nbformat_minor": 2,
 "cells": [
  {
   "cell_type": "code",
   "execution_count": 108,
   "metadata": {},
   "outputs": [],
   "source": [
    "# Processing\n",
    "This notebook will walk through what the processing is for the 3 different forms, and the trial and error taken to get to those forms."
   ]
  },
  {
   "cell_type": "code",
   "execution_count": 107,
   "metadata": {},
   "outputs": [
    {
     "output_type": "stream",
     "name": "stdout",
     "text": [
      "Requirement already satisfied: numpy in c:\\users\\cory\\appdata\\local\\programs\\python\\python38\\lib\\site-packages (1.20.2)\n",
      "Requirement already satisfied: matplotlib in c:\\users\\cory\\appdata\\local\\programs\\python\\python38\\lib\\site-packages (3.4.0)\n",
      "Requirement already satisfied: pandas in c:\\users\\cory\\appdata\\local\\programs\\python\\python38\\lib\\site-packages (1.2.3)\n",
      "Requirement already satisfied: biopython in c:\\users\\cory\\appdata\\local\\programs\\python\\python38\\lib\\site-packages (1.78)\n",
      "Requirement already satisfied: cycler>=0.10 in c:\\users\\cory\\appdata\\local\\programs\\python\\python38\\lib\\site-packages (from matplotlib) (0.10.0)\n",
      "Requirement already satisfied: kiwisolver>=1.0.1 in c:\\users\\cory\\appdata\\local\\programs\\python\\python38\\lib\\site-packages (from matplotlib) (1.3.1)\n",
      "Requirement already satisfied: pyparsing>=2.2.1 in c:\\users\\cory\\appdata\\local\\programs\\python\\python38\\lib\\site-packages (from matplotlib) (2.4.7)\n",
      "Requirement already satisfied: pillow>=6.2.0 in c:\\users\\cory\\appdata\\local\\programs\\python\\python38\\lib\\site-packages (from matplotlib) (8.1.2)\n",
      "Requirement already satisfied: python-dateutil>=2.7 in c:\\users\\cory\\appdata\\roaming\\python\\python38\\site-packages (from matplotlib) (2.8.1)\n",
      "Requirement already satisfied: pytz>=2017.3 in c:\\users\\cory\\appdata\\local\\programs\\python\\python38\\lib\\site-packages (from pandas) (2021.1)\n",
      "Requirement already satisfied: six in c:\\users\\cory\\appdata\\roaming\\python\\python38\\site-packages (from cycler>=0.10->matplotlib) (1.15.0)\n",
      "Note: you may need to restart the kernel to use updated packages.\n",
      "WARNING: You are using pip version 20.2.1; however, version 21.0.1 is available.\n",
      "You should consider upgrading via the 'C:\\Users\\Cory\\AppData\\Local\\Programs\\Python\\Python38\\python.exe -m pip install --upgrade pip' command.\n"
     ]
    }
   ],
   "source": [
    "%pip install numpy matplotlib pandas biopython"
   ]
  },
  {
   "source": [
    "# Load all neccessary libraries\n",
    "import numpy as np\n",
    "import pandas as pd\n",
    "\n",
    "# Bio libraries needed\n",
    "from Bio.Align import substitution_matrices"
   ],
   "cell_type": "markdown",
   "metadata": {}
  },
  {
   "source": [
    "**Load needed variables**"
   ],
   "cell_type": "markdown",
   "metadata": {}
  },
  {
   "cell_type": "code",
   "execution_count": 109,
   "metadata": {},
   "outputs": [],
   "source": [
    "data_dir = \"../data/test/\"\n",
    "blosum62 = substitution_matrices.load('BLOSUM62')"
   ]
  },
  {
   "source": [
    "# Form 1\n",
    "The list of annotations are created into a list of scores using the following methods:\n",
    "- comparing substitutions using BLOSUM-62 matrix\n",
    "- Frame shifts                    = -10\n",
    "- Inserts (no matter length)      = -5\n",
    "- Deletions (no matter length)    = -5\n",
    "- Duplications (no matter length) = -2\n",
    "\n",
    "## Getting data\n",
    "First, we need to get the data. The first column of the CSV file should have Isolate_ID, but this may not be unique as 1 isolate could have many annotations."
   ],
   "cell_type": "markdown",
   "metadata": {}
  },
  {
   "cell_type": "code",
   "execution_count": 110,
   "metadata": {},
   "outputs": [],
   "source": [
    "ann_df = pd.read_csv(f'{data_dir}export_69.csv')"
   ]
  },
  {
   "cell_type": "code",
   "execution_count": 111,
   "metadata": {},
   "outputs": [
    {
     "output_type": "execute_result",
     "data": {
      "text/plain": [
       "   Isolate_ID    Gene Type Ref  Position(s)   AA  % coverage\n",
       "0           1  SHV-12  sub   G          232    R          25\n",
       "1           2  SHV-12   fs   I            9  NaN         100"
      ],
      "text/html": "<div>\n<style scoped>\n    .dataframe tbody tr th:only-of-type {\n        vertical-align: middle;\n    }\n\n    .dataframe tbody tr th {\n        vertical-align: top;\n    }\n\n    .dataframe thead th {\n        text-align: right;\n    }\n</style>\n<table border=\"1\" class=\"dataframe\">\n  <thead>\n    <tr style=\"text-align: right;\">\n      <th></th>\n      <th>Isolate_ID</th>\n      <th>Gene</th>\n      <th>Type</th>\n      <th>Ref</th>\n      <th>Position(s)</th>\n      <th>AA</th>\n      <th>% coverage</th>\n    </tr>\n  </thead>\n  <tbody>\n    <tr>\n      <th>0</th>\n      <td>1</td>\n      <td>SHV-12</td>\n      <td>sub</td>\n      <td>G</td>\n      <td>232</td>\n      <td>R</td>\n      <td>25</td>\n    </tr>\n    <tr>\n      <th>1</th>\n      <td>2</td>\n      <td>SHV-12</td>\n      <td>fs</td>\n      <td>I</td>\n      <td>9</td>\n      <td>NaN</td>\n      <td>100</td>\n    </tr>\n  </tbody>\n</table>\n</div>"
     },
     "metadata": {},
     "execution_count": 111
    }
   ],
   "source": [
    "# See what the original data annotations look like\n",
    "ann_df.head()"
   ]
  },
  {
   "source": [
    "## Dropping columns\n",
    "We do not care about the column \\[%], so we can drop that. Even though Isolate_ID is not unique, we still want to include it so we can group by this column later as each datapoint will be a list of annotations using this column."
   ],
   "cell_type": "markdown",
   "metadata": {}
  },
  {
   "cell_type": "code",
   "execution_count": 112,
   "metadata": {},
   "outputs": [
    {
     "output_type": "execute_result",
     "data": {
      "text/plain": [
       "   Isolate_ID    Gene Type Ref  Position(s)   AA\n",
       "0           1  SHV-12  sub   G          232    R\n",
       "1           2  SHV-12   fs   I            9  NaN"
      ],
      "text/html": "<div>\n<style scoped>\n    .dataframe tbody tr th:only-of-type {\n        vertical-align: middle;\n    }\n\n    .dataframe tbody tr th {\n        vertical-align: top;\n    }\n\n    .dataframe thead th {\n        text-align: right;\n    }\n</style>\n<table border=\"1\" class=\"dataframe\">\n  <thead>\n    <tr style=\"text-align: right;\">\n      <th></th>\n      <th>Isolate_ID</th>\n      <th>Gene</th>\n      <th>Type</th>\n      <th>Ref</th>\n      <th>Position(s)</th>\n      <th>AA</th>\n    </tr>\n  </thead>\n  <tbody>\n    <tr>\n      <th>0</th>\n      <td>1</td>\n      <td>SHV-12</td>\n      <td>sub</td>\n      <td>G</td>\n      <td>232</td>\n      <td>R</td>\n    </tr>\n    <tr>\n      <th>1</th>\n      <td>2</td>\n      <td>SHV-12</td>\n      <td>fs</td>\n      <td>I</td>\n      <td>9</td>\n      <td>NaN</td>\n    </tr>\n  </tbody>\n</table>\n</div>"
     },
     "metadata": {},
     "execution_count": 112
    }
   ],
   "source": [
    "ann_df = ann_df.drop(['% coverage'], axis=1)\n",
    "ann_df.head()"
   ]
  },
  {
   "source": [
    "## Create Score column\n",
    "Next, we need to create the score column that we will use later.\n",
    "\n",
    "### Score function\n",
    "To make it more clear, we can make a score function that will calculate each annotation's score."
   ],
   "cell_type": "markdown",
   "metadata": {}
  },
  {
   "cell_type": "code",
   "execution_count": 113,
   "metadata": {},
   "outputs": [],
   "source": [
    "def calc_score(row):\n",
    "    if row.Type == 'sub':\n",
    "        return blosum62[row.Ref, row.AA]    # Matrix is square, so ref and aa are interchangable\n",
    "    elif row.Type == 'fs':\n",
    "        return -10\n",
    "    elif row.Type == 'ins':\n",
    "        return -5\n",
    "    elif row.Type == 'del':\n",
    "        return -5\n",
    "    elif row.Type == 'dup':\n",
    "        return -2"
   ]
  },
  {
   "source": [
    "### Apply the score function\n",
    "Here, the score function is applied over all rows (axis = 1)."
   ],
   "cell_type": "markdown",
   "metadata": {}
  },
  {
   "cell_type": "code",
   "execution_count": 114,
   "metadata": {},
   "outputs": [],
   "source": [
    "ann_df['Score'] = ann_df.apply(calc_score, axis=1)"
   ]
  },
  {
   "cell_type": "code",
   "execution_count": 115,
   "metadata": {},
   "outputs": [
    {
     "output_type": "execute_result",
     "data": {
      "text/plain": [
       "   Isolate_ID    Gene Type Ref  Position(s)   AA  Score\n",
       "0           1  SHV-12  sub   G          232    R   -2.0\n",
       "1           2  SHV-12   fs   I            9  NaN  -10.0"
      ],
      "text/html": "<div>\n<style scoped>\n    .dataframe tbody tr th:only-of-type {\n        vertical-align: middle;\n    }\n\n    .dataframe tbody tr th {\n        vertical-align: top;\n    }\n\n    .dataframe thead th {\n        text-align: right;\n    }\n</style>\n<table border=\"1\" class=\"dataframe\">\n  <thead>\n    <tr style=\"text-align: right;\">\n      <th></th>\n      <th>Isolate_ID</th>\n      <th>Gene</th>\n      <th>Type</th>\n      <th>Ref</th>\n      <th>Position(s)</th>\n      <th>AA</th>\n      <th>Score</th>\n    </tr>\n  </thead>\n  <tbody>\n    <tr>\n      <th>0</th>\n      <td>1</td>\n      <td>SHV-12</td>\n      <td>sub</td>\n      <td>G</td>\n      <td>232</td>\n      <td>R</td>\n      <td>-2.0</td>\n    </tr>\n    <tr>\n      <th>1</th>\n      <td>2</td>\n      <td>SHV-12</td>\n      <td>fs</td>\n      <td>I</td>\n      <td>9</td>\n      <td>NaN</td>\n      <td>-10.0</td>\n    </tr>\n  </tbody>\n</table>\n</div>"
     },
     "metadata": {},
     "execution_count": 115
    }
   ],
   "source": [
    "ann_df.head()"
   ]
  },
  {
   "source": [
    "## Drop columns\n",
    "Now, we do not need Type, Ref, Position(s), and AA."
   ],
   "cell_type": "markdown",
   "metadata": {}
  },
  {
   "cell_type": "code",
   "execution_count": 116,
   "metadata": {},
   "outputs": [],
   "source": [
    "ann_df = ann_df.drop(['Type', 'Ref', 'Position(s)', 'AA'], axis=1)"
   ]
  },
  {
   "cell_type": "code",
   "execution_count": 117,
   "metadata": {},
   "outputs": [
    {
     "output_type": "execute_result",
     "data": {
      "text/plain": [
       "   Isolate_ID    Gene  Score\n",
       "0           1  SHV-12   -2.0\n",
       "1           2  SHV-12  -10.0"
      ],
      "text/html": "<div>\n<style scoped>\n    .dataframe tbody tr th:only-of-type {\n        vertical-align: middle;\n    }\n\n    .dataframe tbody tr th {\n        vertical-align: top;\n    }\n\n    .dataframe thead th {\n        text-align: right;\n    }\n</style>\n<table border=\"1\" class=\"dataframe\">\n  <thead>\n    <tr style=\"text-align: right;\">\n      <th></th>\n      <th>Isolate_ID</th>\n      <th>Gene</th>\n      <th>Score</th>\n    </tr>\n  </thead>\n  <tbody>\n    <tr>\n      <th>0</th>\n      <td>1</td>\n      <td>SHV-12</td>\n      <td>-2.0</td>\n    </tr>\n    <tr>\n      <th>1</th>\n      <td>2</td>\n      <td>SHV-12</td>\n      <td>-10.0</td>\n    </tr>\n  </tbody>\n</table>\n</div>"
     },
     "metadata": {},
     "execution_count": 117
    }
   ],
   "source": [
    "ann_df.head()"
   ]
  },
  {
   "source": [
    "## Group all scores into a list per isolate/gene\n",
    "Our final dataframe needs to have each row being a single datapoint representing an isolate and gene combination. The datapoint's value should be the list of annotations found. We want to go over a few options to see which is more efficient for the amount of data we have.\n",
    "\n",
    "Code below found in [this StackOverflow answer](https://stackoverflow.com/a/22221675)."
   ],
   "cell_type": "markdown",
   "metadata": {}
  },
  {
   "cell_type": "code",
   "execution_count": 118,
   "metadata": {},
   "outputs": [
    {
     "output_type": "stream",
     "name": "stdout",
     "text": [
      "6.84 ms ± 101 µs per loop (mean ± std. dev. of 7 runs, 100 loops each)\n"
     ]
    }
   ],
   "source": [
    "# First, we want to groub by id and gene so we get all combined scores\n",
    "# Second, we want to get the made list of Score rows\n",
    "# Third, we want to make want to make each row into a list\n",
    "# Finally, we want to reset the index for each row so that we get individual rows per each element in the group\n",
    "%timeit ann_df.groupby(['Isolate_ID', 'Gene'])['Score'].apply(list).reset_index(name='ann_lists')"
   ]
  },
  {
   "source": [
    "This next option is more convienent, but it is twice as slow and has weird output ([found here](https://stackoverflow.com/a/66853746))."
   ],
   "cell_type": "markdown",
   "metadata": {}
  },
  {
   "cell_type": "code",
   "execution_count": 119,
   "metadata": {},
   "outputs": [
    {
     "output_type": "stream",
     "name": "stdout",
     "text": [
      "13.2 ms ± 188 µs per loop (mean ± std. dev. of 7 runs, 100 loops each)\n"
     ]
    }
   ],
   "source": [
    "%timeit pd.pivot_table(ann_df, values='Score', index=['Isolate_ID', 'Gene'], aggfunc={'Score': list})"
   ]
  },
  {
   "source": [
    "Trying the same line as the first one, but this time using `np.array` instead of `list`. It seems to be about the same time as just using `list`."
   ],
   "cell_type": "markdown",
   "metadata": {}
  },
  {
   "cell_type": "code",
   "execution_count": 120,
   "metadata": {},
   "outputs": [
    {
     "output_type": "stream",
     "name": "stdout",
     "text": [
      "6.97 ms ± 98.4 µs per loop (mean ± std. dev. of 7 runs, 100 loops each)\n"
     ]
    }
   ],
   "source": [
    "%timeit ann_df.groupby(['Isolate_ID', 'Gene'])['Score'].apply(np.array).reset_index(name='ann_lists')"
   ]
  },
  {
   "source": [
    "Since this will only be run once to generate the datasets, I will use the first option for convienence and ease of reading."
   ],
   "cell_type": "markdown",
   "metadata": {}
  },
  {
   "source": [
    "ann_df = ann_df.groupby(['Isolate_ID', 'Gene'])['Score'].apply(list).reset_index(name='ann_lists')"
   ],
   "cell_type": "code",
   "metadata": {},
   "execution_count": 121,
   "outputs": []
  },
  {
   "cell_type": "code",
   "execution_count": 122,
   "metadata": {},
   "outputs": [
    {
     "output_type": "execute_result",
     "data": {
      "text/plain": [
       "   Isolate_ID    Gene ann_lists\n",
       "0           1  SHV-12    [-2.0]\n",
       "1           2  SHV-12   [-10.0]"
      ],
      "text/html": "<div>\n<style scoped>\n    .dataframe tbody tr th:only-of-type {\n        vertical-align: middle;\n    }\n\n    .dataframe tbody tr th {\n        vertical-align: top;\n    }\n\n    .dataframe thead th {\n        text-align: right;\n    }\n</style>\n<table border=\"1\" class=\"dataframe\">\n  <thead>\n    <tr style=\"text-align: right;\">\n      <th></th>\n      <th>Isolate_ID</th>\n      <th>Gene</th>\n      <th>ann_lists</th>\n    </tr>\n  </thead>\n  <tbody>\n    <tr>\n      <th>0</th>\n      <td>1</td>\n      <td>SHV-12</td>\n      <td>[-2.0]</td>\n    </tr>\n    <tr>\n      <th>1</th>\n      <td>2</td>\n      <td>SHV-12</td>\n      <td>[-10.0]</td>\n    </tr>\n  </tbody>\n</table>\n</div>"
     },
     "metadata": {},
     "execution_count": 122
    }
   ],
   "source": [
    "ann_df.head()"
   ]
  },
  {
   "source": [
    "## To CSV\n",
    "Lastly, we want to export as CSV without the indecies. We do not need the pandas pre-made indicies, so we can remove them from the CSV file. Since this file is just testing, it will be saved to the current folder."
   ],
   "cell_type": "markdown",
   "metadata": {}
  },
  {
   "cell_type": "code",
   "execution_count": 123,
   "metadata": {},
   "outputs": [],
   "source": [
    "ann_df.to_csv('form_1.csv', index=False)"
   ]
  },
  {
   "source": [
    "Test to see if the file can be loaded, and what it will look like if it is."
   ],
   "cell_type": "markdown",
   "metadata": {}
  },
  {
   "cell_type": "code",
   "execution_count": 124,
   "metadata": {},
   "outputs": [
    {
     "output_type": "execute_result",
     "data": {
      "text/plain": [
       "   Isolate_ID    Gene ann_lists\n",
       "0           1  SHV-12    [-2.0]\n",
       "1           2  SHV-12   [-10.0]"
      ],
      "text/html": "<div>\n<style scoped>\n    .dataframe tbody tr th:only-of-type {\n        vertical-align: middle;\n    }\n\n    .dataframe tbody tr th {\n        vertical-align: top;\n    }\n\n    .dataframe thead th {\n        text-align: right;\n    }\n</style>\n<table border=\"1\" class=\"dataframe\">\n  <thead>\n    <tr style=\"text-align: right;\">\n      <th></th>\n      <th>Isolate_ID</th>\n      <th>Gene</th>\n      <th>ann_lists</th>\n    </tr>\n  </thead>\n  <tbody>\n    <tr>\n      <th>0</th>\n      <td>1</td>\n      <td>SHV-12</td>\n      <td>[-2.0]</td>\n    </tr>\n    <tr>\n      <th>1</th>\n      <td>2</td>\n      <td>SHV-12</td>\n      <td>[-10.0]</td>\n    </tr>\n  </tbody>\n</table>\n</div>"
     },
     "metadata": {},
     "execution_count": 124
    }
   ],
   "source": [
    "pd.read_csv('form_1.csv').head()"
   ]
  },
  {
   "source": [
    "# Form 2\n",
    "Create input form 2 where the annotated Amino Acid sequences will be converted into either -1 or 1 given the following criteria:\n",
    "- -1 if:\n",
    "    1. The Amino Acid had no mutation\n",
    "- 1 if:\n",
    "    1. A SNP occurred at the position\n",
    "    2. An insertion occurred (no matter how long the inserted sequence was, only a single -1 is given)\n",
    "    2. A deletion occurred (no matter how long the deleted sequence was, only a single -1 is given)\n",
    "- Duplications are considered (-1) for the unmuttated Amino Acid and then the rest of the dupplication is treated as a single insert (1).\n",
    "- Frameshifts are considered a 1 for every position beyond where the frameshift occurred.\n",
    "\n",
    "\n",
    "## Get and show\n",
    "First, let's get and see what the data looks like as a dataframe."
   ],
   "cell_type": "markdown",
   "metadata": {}
  },
  {
   "cell_type": "code",
   "execution_count": 126,
   "metadata": {},
   "outputs": [],
   "source": [
    "msa_df = pd.read_csv(f'{data_dir}export_msa_69.csv')"
   ]
  },
  {
   "cell_type": "code",
   "execution_count": 127,
   "metadata": {},
   "outputs": [
    {
     "output_type": "execute_result",
     "data": {
      "text/plain": [
       "        Name Unnamed: 1 Unnamed: 2 Unnamed: 3 Unnamed: 4 Unnamed: 5  \\\n",
       "0          1          M          R          Y          I          R   \n",
       "1          2          M          R          Y          I          R   \n",
       "2  consensus          M          R          Y          I          R   \n",
       "3  reference          M          R          Y          I          R   \n",
       "\n",
       "  Unnamed: 6 Unnamed: 7 Unnamed: 8 Unnamed: 9  ... Unnamed: 278 Unnamed: 279  \\\n",
       "0          L          C          I          I  ...            A            A   \n",
       "1          L          C          I          ?  ...            -            -   \n",
       "2          L          C          I          I  ...            A            A   \n",
       "3          L          C          I          I  ...            A            A   \n",
       "\n",
       "  280 Unnamed: 281 Unnamed: 282 Unnamed: 283 Unnamed: 284 Unnamed: 285  \\\n",
       "0   L            I            E            H            W            Q   \n",
       "1   -            -            -            -            -            -   \n",
       "2   L            I            E            H            W            Q   \n",
       "3   L            I            E            H            W            Q   \n",
       "\n",
       "  Unnamed: 286 Unnamed: 287  \n",
       "0            R            X  \n",
       "1            -            -  \n",
       "2            R            X  \n",
       "3            R            X  \n",
       "\n",
       "[4 rows x 288 columns]"
      ],
      "text/html": "<div>\n<style scoped>\n    .dataframe tbody tr th:only-of-type {\n        vertical-align: middle;\n    }\n\n    .dataframe tbody tr th {\n        vertical-align: top;\n    }\n\n    .dataframe thead th {\n        text-align: right;\n    }\n</style>\n<table border=\"1\" class=\"dataframe\">\n  <thead>\n    <tr style=\"text-align: right;\">\n      <th></th>\n      <th>Name</th>\n      <th>Unnamed: 1</th>\n      <th>Unnamed: 2</th>\n      <th>Unnamed: 3</th>\n      <th>Unnamed: 4</th>\n      <th>Unnamed: 5</th>\n      <th>Unnamed: 6</th>\n      <th>Unnamed: 7</th>\n      <th>Unnamed: 8</th>\n      <th>Unnamed: 9</th>\n      <th>...</th>\n      <th>Unnamed: 278</th>\n      <th>Unnamed: 279</th>\n      <th>280</th>\n      <th>Unnamed: 281</th>\n      <th>Unnamed: 282</th>\n      <th>Unnamed: 283</th>\n      <th>Unnamed: 284</th>\n      <th>Unnamed: 285</th>\n      <th>Unnamed: 286</th>\n      <th>Unnamed: 287</th>\n    </tr>\n  </thead>\n  <tbody>\n    <tr>\n      <th>0</th>\n      <td>1</td>\n      <td>M</td>\n      <td>R</td>\n      <td>Y</td>\n      <td>I</td>\n      <td>R</td>\n      <td>L</td>\n      <td>C</td>\n      <td>I</td>\n      <td>I</td>\n      <td>...</td>\n      <td>A</td>\n      <td>A</td>\n      <td>L</td>\n      <td>I</td>\n      <td>E</td>\n      <td>H</td>\n      <td>W</td>\n      <td>Q</td>\n      <td>R</td>\n      <td>X</td>\n    </tr>\n    <tr>\n      <th>1</th>\n      <td>2</td>\n      <td>M</td>\n      <td>R</td>\n      <td>Y</td>\n      <td>I</td>\n      <td>R</td>\n      <td>L</td>\n      <td>C</td>\n      <td>I</td>\n      <td>?</td>\n      <td>...</td>\n      <td>-</td>\n      <td>-</td>\n      <td>-</td>\n      <td>-</td>\n      <td>-</td>\n      <td>-</td>\n      <td>-</td>\n      <td>-</td>\n      <td>-</td>\n      <td>-</td>\n    </tr>\n    <tr>\n      <th>2</th>\n      <td>consensus</td>\n      <td>M</td>\n      <td>R</td>\n      <td>Y</td>\n      <td>I</td>\n      <td>R</td>\n      <td>L</td>\n      <td>C</td>\n      <td>I</td>\n      <td>I</td>\n      <td>...</td>\n      <td>A</td>\n      <td>A</td>\n      <td>L</td>\n      <td>I</td>\n      <td>E</td>\n      <td>H</td>\n      <td>W</td>\n      <td>Q</td>\n      <td>R</td>\n      <td>X</td>\n    </tr>\n    <tr>\n      <th>3</th>\n      <td>reference</td>\n      <td>M</td>\n      <td>R</td>\n      <td>Y</td>\n      <td>I</td>\n      <td>R</td>\n      <td>L</td>\n      <td>C</td>\n      <td>I</td>\n      <td>I</td>\n      <td>...</td>\n      <td>A</td>\n      <td>A</td>\n      <td>L</td>\n      <td>I</td>\n      <td>E</td>\n      <td>H</td>\n      <td>W</td>\n      <td>Q</td>\n      <td>R</td>\n      <td>X</td>\n    </tr>\n  </tbody>\n</table>\n<p>4 rows × 288 columns</p>\n</div>"
     },
     "metadata": {},
     "execution_count": 127
    }
   ],
   "source": [
    "msa_df.head()"
   ]
  },
  {
   "source": [
    "## Remove consensus row\n",
    "We do not need the consensus row, so we can remove that"
   ],
   "cell_type": "markdown",
   "metadata": {}
  },
  {
   "cell_type": "code",
   "execution_count": 132,
   "metadata": {},
   "outputs": [],
   "source": [
    "msa_df = msa_df[msa_df.Name != 'consensus']"
   ]
  },
  {
   "source": [
    "msa_df.head()"
   ],
   "cell_type": "code",
   "metadata": {},
   "execution_count": 133,
   "outputs": [
    {
     "output_type": "execute_result",
     "data": {
      "text/plain": [
       "        Name Unnamed: 1 Unnamed: 2 Unnamed: 3 Unnamed: 4 Unnamed: 5  \\\n",
       "0          1          M          R          Y          I          R   \n",
       "1          2          M          R          Y          I          R   \n",
       "3  reference          M          R          Y          I          R   \n",
       "\n",
       "  Unnamed: 6 Unnamed: 7 Unnamed: 8 Unnamed: 9  ... Unnamed: 278 Unnamed: 279  \\\n",
       "0          L          C          I          I  ...            A            A   \n",
       "1          L          C          I          ?  ...            -            -   \n",
       "3          L          C          I          I  ...            A            A   \n",
       "\n",
       "  280 Unnamed: 281 Unnamed: 282 Unnamed: 283 Unnamed: 284 Unnamed: 285  \\\n",
       "0   L            I            E            H            W            Q   \n",
       "1   -            -            -            -            -            -   \n",
       "3   L            I            E            H            W            Q   \n",
       "\n",
       "  Unnamed: 286 Unnamed: 287  \n",
       "0            R            X  \n",
       "1            -            -  \n",
       "3            R            X  \n",
       "\n",
       "[3 rows x 288 columns]"
      ],
      "text/html": "<div>\n<style scoped>\n    .dataframe tbody tr th:only-of-type {\n        vertical-align: middle;\n    }\n\n    .dataframe tbody tr th {\n        vertical-align: top;\n    }\n\n    .dataframe thead th {\n        text-align: right;\n    }\n</style>\n<table border=\"1\" class=\"dataframe\">\n  <thead>\n    <tr style=\"text-align: right;\">\n      <th></th>\n      <th>Name</th>\n      <th>Unnamed: 1</th>\n      <th>Unnamed: 2</th>\n      <th>Unnamed: 3</th>\n      <th>Unnamed: 4</th>\n      <th>Unnamed: 5</th>\n      <th>Unnamed: 6</th>\n      <th>Unnamed: 7</th>\n      <th>Unnamed: 8</th>\n      <th>Unnamed: 9</th>\n      <th>...</th>\n      <th>Unnamed: 278</th>\n      <th>Unnamed: 279</th>\n      <th>280</th>\n      <th>Unnamed: 281</th>\n      <th>Unnamed: 282</th>\n      <th>Unnamed: 283</th>\n      <th>Unnamed: 284</th>\n      <th>Unnamed: 285</th>\n      <th>Unnamed: 286</th>\n      <th>Unnamed: 287</th>\n    </tr>\n  </thead>\n  <tbody>\n    <tr>\n      <th>0</th>\n      <td>1</td>\n      <td>M</td>\n      <td>R</td>\n      <td>Y</td>\n      <td>I</td>\n      <td>R</td>\n      <td>L</td>\n      <td>C</td>\n      <td>I</td>\n      <td>I</td>\n      <td>...</td>\n      <td>A</td>\n      <td>A</td>\n      <td>L</td>\n      <td>I</td>\n      <td>E</td>\n      <td>H</td>\n      <td>W</td>\n      <td>Q</td>\n      <td>R</td>\n      <td>X</td>\n    </tr>\n    <tr>\n      <th>1</th>\n      <td>2</td>\n      <td>M</td>\n      <td>R</td>\n      <td>Y</td>\n      <td>I</td>\n      <td>R</td>\n      <td>L</td>\n      <td>C</td>\n      <td>I</td>\n      <td>?</td>\n      <td>...</td>\n      <td>-</td>\n      <td>-</td>\n      <td>-</td>\n      <td>-</td>\n      <td>-</td>\n      <td>-</td>\n      <td>-</td>\n      <td>-</td>\n      <td>-</td>\n      <td>-</td>\n    </tr>\n    <tr>\n      <th>3</th>\n      <td>reference</td>\n      <td>M</td>\n      <td>R</td>\n      <td>Y</td>\n      <td>I</td>\n      <td>R</td>\n      <td>L</td>\n      <td>C</td>\n      <td>I</td>\n      <td>I</td>\n      <td>...</td>\n      <td>A</td>\n      <td>A</td>\n      <td>L</td>\n      <td>I</td>\n      <td>E</td>\n      <td>H</td>\n      <td>W</td>\n      <td>Q</td>\n      <td>R</td>\n      <td>X</td>\n    </tr>\n  </tbody>\n</table>\n<p>3 rows × 288 columns</p>\n</div>"
     },
     "metadata": {},
     "execution_count": 133
    }
   ]
  },
  {
   "source": [
    "## Change Amino Acids to 1's and -1's\n",
    "We will next need to remove the reference row and use it to turn the Amino Acid sequence into a sequence of 1's and -1's. The resulting list of numbers should be the same size as the reference."
   ],
   "cell_type": "markdown",
   "metadata": {}
  },
  {
   "cell_type": "code",
   "execution_count": 144,
   "metadata": {},
   "outputs": [],
   "source": [
    "# Get the reference row, turn it into a list of lists (there will only be 1 row, so 1 list)\n",
    "# Then, remove the first element which is the name of the row 'reference'\n",
    "reference = msa_df[msa_df.Name == 'reference'].values.tolist()[0][1:]\n",
    "\n",
    "# Remove reference row\n",
    "msa_df = msa_df[msa_df.Name != 'reference']"
   ]
  },
  {
   "source": [
    "There needs to be a function that can go over each row, create the list of 1's and -1's, and return that list to be readded to the df."
   ],
   "cell_type": "markdown",
   "metadata": {}
  },
  {
   "cell_type": "code",
   "execution_count": 154,
   "metadata": {},
   "outputs": [],
   "source": [
    "def create_ones_list(row, reference = []):\n",
    "    # The first element of the row is the isolate id, so we must remove that first\n",
    "    row = row[1:]\n",
    "\n",
    "    # Since both sequnces were part of a MSA, we can assume the lists are the same length.\n",
    "    frameshift = False\n",
    "    insert = False\n",
    "    delete = False\n",
    "    ones = []\n",
    "    for p, r in zip(row, reference):\n",
    "\n",
    "        # Frameshift occurred in the sequence\n",
    "        if frameshift:\n",
    "            ones.append(1)\n",
    "            continue\n",
    "        elif p == '?':\n",
    "            frameshift = True\n",
    "            ones.append(1)\n",
    "            continue\n",
    "\n",
    "        # Insert occurred in the sequence meaning reference has a -\n",
    "        if insert and r == '-':\n",
    "            continue\n",
    "        elif r == '-':\n",
    "            insert = True\n",
    "            ones.append(1)\n",
    "            continue\n",
    "        else:\n",
    "            insert = False\n",
    "\n",
    "        # Delete occurred in the sequence meaning sequence has a -\n",
    "        if delete and p == '-':\n",
    "            continue\n",
    "        elif p == '-':\n",
    "            delete = True\n",
    "            ones.append(1)\n",
    "            continue\n",
    "        else:\n",
    "            delete = False\n",
    "\n",
    "        # Either a substitution occurred or the 2 sequences are the same\n",
    "        if p != r:\n",
    "            ones.append(1)\n",
    "        else:\n",
    "            ones.append(-1)\n",
    "\n",
    "    return ones"
   ]
  },
  {
   "cell_type": "code",
   "execution_count": 159,
   "metadata": {},
   "outputs": [
    {
     "output_type": "execute_result",
     "data": {
      "text/plain": [
       "  Name Unnamed: 1 Unnamed: 2 Unnamed: 3 Unnamed: 4 Unnamed: 5 Unnamed: 6  \\\n",
       "0    1          M          R          Y          I          R          L   \n",
       "1    2          M          R          Y          I          R          L   \n",
       "\n",
       "  Unnamed: 7 Unnamed: 8 Unnamed: 9  ... Unnamed: 279 280 Unnamed: 281  \\\n",
       "0          C          I          I  ...            A   L            I   \n",
       "1          C          I          ?  ...            -   -            -   \n",
       "\n",
       "  Unnamed: 282 Unnamed: 283 Unnamed: 284 Unnamed: 285 Unnamed: 286  \\\n",
       "0            E            H            W            Q            R   \n",
       "1            -            -            -            -            -   \n",
       "\n",
       "  Unnamed: 287                                               ones  \n",
       "0            X  [-1, -1, -1, -1, -1, -1, -1, -1, -1, -1, -1, -...  \n",
       "1            -  [-1, -1, -1, -1, -1, -1, -1, -1, 1, 1, 1, 1, 1...  \n",
       "\n",
       "[2 rows x 289 columns]"
      ],
      "text/html": "<div>\n<style scoped>\n    .dataframe tbody tr th:only-of-type {\n        vertical-align: middle;\n    }\n\n    .dataframe tbody tr th {\n        vertical-align: top;\n    }\n\n    .dataframe thead th {\n        text-align: right;\n    }\n</style>\n<table border=\"1\" class=\"dataframe\">\n  <thead>\n    <tr style=\"text-align: right;\">\n      <th></th>\n      <th>Name</th>\n      <th>Unnamed: 1</th>\n      <th>Unnamed: 2</th>\n      <th>Unnamed: 3</th>\n      <th>Unnamed: 4</th>\n      <th>Unnamed: 5</th>\n      <th>Unnamed: 6</th>\n      <th>Unnamed: 7</th>\n      <th>Unnamed: 8</th>\n      <th>Unnamed: 9</th>\n      <th>...</th>\n      <th>Unnamed: 279</th>\n      <th>280</th>\n      <th>Unnamed: 281</th>\n      <th>Unnamed: 282</th>\n      <th>Unnamed: 283</th>\n      <th>Unnamed: 284</th>\n      <th>Unnamed: 285</th>\n      <th>Unnamed: 286</th>\n      <th>Unnamed: 287</th>\n      <th>ones</th>\n    </tr>\n  </thead>\n  <tbody>\n    <tr>\n      <th>0</th>\n      <td>1</td>\n      <td>M</td>\n      <td>R</td>\n      <td>Y</td>\n      <td>I</td>\n      <td>R</td>\n      <td>L</td>\n      <td>C</td>\n      <td>I</td>\n      <td>I</td>\n      <td>...</td>\n      <td>A</td>\n      <td>L</td>\n      <td>I</td>\n      <td>E</td>\n      <td>H</td>\n      <td>W</td>\n      <td>Q</td>\n      <td>R</td>\n      <td>X</td>\n      <td>[-1, -1, -1, -1, -1, -1, -1, -1, -1, -1, -1, -...</td>\n    </tr>\n    <tr>\n      <th>1</th>\n      <td>2</td>\n      <td>M</td>\n      <td>R</td>\n      <td>Y</td>\n      <td>I</td>\n      <td>R</td>\n      <td>L</td>\n      <td>C</td>\n      <td>I</td>\n      <td>?</td>\n      <td>...</td>\n      <td>-</td>\n      <td>-</td>\n      <td>-</td>\n      <td>-</td>\n      <td>-</td>\n      <td>-</td>\n      <td>-</td>\n      <td>-</td>\n      <td>-</td>\n      <td>[-1, -1, -1, -1, -1, -1, -1, -1, 1, 1, 1, 1, 1...</td>\n    </tr>\n  </tbody>\n</table>\n<p>2 rows × 289 columns</p>\n</div>"
     },
     "metadata": {},
     "execution_count": 159
    }
   ],
   "source": [
    "msa_df.head()"
   ]
  },
  {
   "cell_type": "code",
   "execution_count": 160,
   "metadata": {},
   "outputs": [],
   "source": [
    "\n",
    "msa_df['ones'] = msa_df.apply(create_ones_list, axis=1, reference=reference)"
   ]
  },
  {
   "cell_type": "code",
   "execution_count": 161,
   "metadata": {},
   "outputs": [
    {
     "output_type": "execute_result",
     "data": {
      "text/plain": [
       "  Name Unnamed: 1 Unnamed: 2 Unnamed: 3 Unnamed: 4 Unnamed: 5 Unnamed: 6  \\\n",
       "0    1          M          R          Y          I          R          L   \n",
       "1    2          M          R          Y          I          R          L   \n",
       "\n",
       "  Unnamed: 7 Unnamed: 8 Unnamed: 9  ... Unnamed: 279 280 Unnamed: 281  \\\n",
       "0          C          I          I  ...            A   L            I   \n",
       "1          C          I          ?  ...            -   -            -   \n",
       "\n",
       "  Unnamed: 282 Unnamed: 283 Unnamed: 284 Unnamed: 285 Unnamed: 286  \\\n",
       "0            E            H            W            Q            R   \n",
       "1            -            -            -            -            -   \n",
       "\n",
       "  Unnamed: 287                                               ones  \n",
       "0            X  [-1, -1, -1, -1, -1, -1, -1, -1, -1, -1, -1, -...  \n",
       "1            -  [-1, -1, -1, -1, -1, -1, -1, -1, 1, 1, 1, 1, 1...  \n",
       "\n",
       "[2 rows x 289 columns]"
      ],
      "text/html": "<div>\n<style scoped>\n    .dataframe tbody tr th:only-of-type {\n        vertical-align: middle;\n    }\n\n    .dataframe tbody tr th {\n        vertical-align: top;\n    }\n\n    .dataframe thead th {\n        text-align: right;\n    }\n</style>\n<table border=\"1\" class=\"dataframe\">\n  <thead>\n    <tr style=\"text-align: right;\">\n      <th></th>\n      <th>Name</th>\n      <th>Unnamed: 1</th>\n      <th>Unnamed: 2</th>\n      <th>Unnamed: 3</th>\n      <th>Unnamed: 4</th>\n      <th>Unnamed: 5</th>\n      <th>Unnamed: 6</th>\n      <th>Unnamed: 7</th>\n      <th>Unnamed: 8</th>\n      <th>Unnamed: 9</th>\n      <th>...</th>\n      <th>Unnamed: 279</th>\n      <th>280</th>\n      <th>Unnamed: 281</th>\n      <th>Unnamed: 282</th>\n      <th>Unnamed: 283</th>\n      <th>Unnamed: 284</th>\n      <th>Unnamed: 285</th>\n      <th>Unnamed: 286</th>\n      <th>Unnamed: 287</th>\n      <th>ones</th>\n    </tr>\n  </thead>\n  <tbody>\n    <tr>\n      <th>0</th>\n      <td>1</td>\n      <td>M</td>\n      <td>R</td>\n      <td>Y</td>\n      <td>I</td>\n      <td>R</td>\n      <td>L</td>\n      <td>C</td>\n      <td>I</td>\n      <td>I</td>\n      <td>...</td>\n      <td>A</td>\n      <td>L</td>\n      <td>I</td>\n      <td>E</td>\n      <td>H</td>\n      <td>W</td>\n      <td>Q</td>\n      <td>R</td>\n      <td>X</td>\n      <td>[-1, -1, -1, -1, -1, -1, -1, -1, -1, -1, -1, -...</td>\n    </tr>\n    <tr>\n      <th>1</th>\n      <td>2</td>\n      <td>M</td>\n      <td>R</td>\n      <td>Y</td>\n      <td>I</td>\n      <td>R</td>\n      <td>L</td>\n      <td>C</td>\n      <td>I</td>\n      <td>?</td>\n      <td>...</td>\n      <td>-</td>\n      <td>-</td>\n      <td>-</td>\n      <td>-</td>\n      <td>-</td>\n      <td>-</td>\n      <td>-</td>\n      <td>-</td>\n      <td>-</td>\n      <td>[-1, -1, -1, -1, -1, -1, -1, -1, 1, 1, 1, 1, 1...</td>\n    </tr>\n  </tbody>\n</table>\n<p>2 rows × 289 columns</p>\n</div>"
     },
     "metadata": {},
     "execution_count": 161
    }
   ],
   "source": [
    "msa_df.head()"
   ]
  },
  {
   "source": [
    "## Remove all gene columns\n",
    "Now that we have the ones list created, we can now remove all other gene columns."
   ],
   "cell_type": "markdown",
   "metadata": {}
  },
  {
   "cell_type": "code",
   "execution_count": 167,
   "metadata": {},
   "outputs": [],
   "source": [
    "msa_df = msa_df.drop(msa_df.columns[[x not in ['Name', 'ones'] for x in msa_df.columns]], axis=1)"
   ]
  },
  {
   "cell_type": "code",
   "execution_count": 170,
   "metadata": {},
   "outputs": [
    {
     "output_type": "execute_result",
     "data": {
      "text/plain": [
       "  Name                                               ones\n",
       "0    1  [-1, -1, -1, -1, -1, -1, -1, -1, -1, -1, -1, -...\n",
       "1    2  [-1, -1, -1, -1, -1, -1, -1, -1, 1, 1, 1, 1, 1..."
      ],
      "text/html": "<div>\n<style scoped>\n    .dataframe tbody tr th:only-of-type {\n        vertical-align: middle;\n    }\n\n    .dataframe tbody tr th {\n        vertical-align: top;\n    }\n\n    .dataframe thead th {\n        text-align: right;\n    }\n</style>\n<table border=\"1\" class=\"dataframe\">\n  <thead>\n    <tr style=\"text-align: right;\">\n      <th></th>\n      <th>Name</th>\n      <th>ones</th>\n    </tr>\n  </thead>\n  <tbody>\n    <tr>\n      <th>0</th>\n      <td>1</td>\n      <td>[-1, -1, -1, -1, -1, -1, -1, -1, -1, -1, -1, -...</td>\n    </tr>\n    <tr>\n      <th>1</th>\n      <td>2</td>\n      <td>[-1, -1, -1, -1, -1, -1, -1, -1, 1, 1, 1, 1, 1...</td>\n    </tr>\n  </tbody>\n</table>\n</div>"
     },
     "metadata": {},
     "execution_count": 170
    }
   ],
   "source": [
    "msa_df.head()"
   ]
  },
  {
   "source": [
    "## To CSV\n",
    "Lastly, we want to export as CSV without the indecies. We do not need the pandas pre-made indicies, so we can remove them from the CSV file. Since this file is just testing, it will be saved to the current folder."
   ],
   "cell_type": "markdown",
   "metadata": {}
  },
  {
   "cell_type": "code",
   "execution_count": 168,
   "metadata": {},
   "outputs": [],
   "source": [
    "msa_df.to_csv('form_2.csv', index=False)"
   ]
  },
  {
   "source": [
    "Test to see if the file can be loaded, and what it will look like if it is."
   ],
   "cell_type": "markdown",
   "metadata": {}
  },
  {
   "cell_type": "code",
   "execution_count": 169,
   "metadata": {},
   "outputs": [
    {
     "output_type": "execute_result",
     "data": {
      "text/plain": [
       "   Name                                               ones\n",
       "0     1  [-1, -1, -1, -1, -1, -1, -1, -1, -1, -1, -1, -...\n",
       "1     2  [-1, -1, -1, -1, -1, -1, -1, -1, 1, 1, 1, 1, 1..."
      ],
      "text/html": "<div>\n<style scoped>\n    .dataframe tbody tr th:only-of-type {\n        vertical-align: middle;\n    }\n\n    .dataframe tbody tr th {\n        vertical-align: top;\n    }\n\n    .dataframe thead th {\n        text-align: right;\n    }\n</style>\n<table border=\"1\" class=\"dataframe\">\n  <thead>\n    <tr style=\"text-align: right;\">\n      <th></th>\n      <th>Name</th>\n      <th>ones</th>\n    </tr>\n  </thead>\n  <tbody>\n    <tr>\n      <th>0</th>\n      <td>1</td>\n      <td>[-1, -1, -1, -1, -1, -1, -1, -1, -1, -1, -1, -...</td>\n    </tr>\n    <tr>\n      <th>1</th>\n      <td>2</td>\n      <td>[-1, -1, -1, -1, -1, -1, -1, -1, 1, 1, 1, 1, 1...</td>\n    </tr>\n  </tbody>\n</table>\n</div>"
     },
     "metadata": {},
     "execution_count": 169
    }
   ],
   "source": [
    "pd.read_csv('form_2.csv').head()"
   ]
  },
  {
   "source": [
    "# Form 3\n",
    "Create input form 3 where the annotated Amino Acid sequences will be converted a sequence of numbers corresponding to the character that occurres in the annotated sequence.\n",
    "\n",
    "NOTE: It does not rely on the reference sequence\n",
    "\n",
    "## Start\n",
    "To start, we will do the same things as we did for form 2 up to the reference. We will be removing the reference column and not using it."
   ],
   "cell_type": "markdown",
   "metadata": {}
  },
  {
   "cell_type": "code",
   "execution_count": 178,
   "metadata": {},
   "outputs": [],
   "source": [
    "msa_df = pd.read_csv(f'{data_dir}export_msa_69.csv', index_col=0)\n",
    "msa_df = msa_df[msa_df.index != 'consensus']\n",
    "msa_df = msa_df[msa_df.index != 'reference']"
   ]
  },
  {
   "cell_type": "code",
   "execution_count": 179,
   "metadata": {},
   "outputs": [
    {
     "output_type": "execute_result",
     "data": {
      "text/plain": [
       "     Unnamed: 1 Unnamed: 2 Unnamed: 3 Unnamed: 4 Unnamed: 5 Unnamed: 6  \\\n",
       "Name                                                                     \n",
       "1             M          R          Y          I          R          L   \n",
       "2             M          R          Y          I          R          L   \n",
       "\n",
       "     Unnamed: 7 Unnamed: 8 Unnamed: 9 10  ... Unnamed: 278 Unnamed: 279 280  \\\n",
       "Name                                      ...                                 \n",
       "1             C          I          I  S  ...            A            A   L   \n",
       "2             C          I          ?  -  ...            -            -   -   \n",
       "\n",
       "     Unnamed: 281 Unnamed: 282 Unnamed: 283 Unnamed: 284 Unnamed: 285  \\\n",
       "Name                                                                    \n",
       "1               I            E            H            W            Q   \n",
       "2               -            -            -            -            -   \n",
       "\n",
       "     Unnamed: 286 Unnamed: 287  \n",
       "Name                            \n",
       "1               R            X  \n",
       "2               -            -  \n",
       "\n",
       "[2 rows x 287 columns]"
      ],
      "text/html": "<div>\n<style scoped>\n    .dataframe tbody tr th:only-of-type {\n        vertical-align: middle;\n    }\n\n    .dataframe tbody tr th {\n        vertical-align: top;\n    }\n\n    .dataframe thead th {\n        text-align: right;\n    }\n</style>\n<table border=\"1\" class=\"dataframe\">\n  <thead>\n    <tr style=\"text-align: right;\">\n      <th></th>\n      <th>Unnamed: 1</th>\n      <th>Unnamed: 2</th>\n      <th>Unnamed: 3</th>\n      <th>Unnamed: 4</th>\n      <th>Unnamed: 5</th>\n      <th>Unnamed: 6</th>\n      <th>Unnamed: 7</th>\n      <th>Unnamed: 8</th>\n      <th>Unnamed: 9</th>\n      <th>10</th>\n      <th>...</th>\n      <th>Unnamed: 278</th>\n      <th>Unnamed: 279</th>\n      <th>280</th>\n      <th>Unnamed: 281</th>\n      <th>Unnamed: 282</th>\n      <th>Unnamed: 283</th>\n      <th>Unnamed: 284</th>\n      <th>Unnamed: 285</th>\n      <th>Unnamed: 286</th>\n      <th>Unnamed: 287</th>\n    </tr>\n    <tr>\n      <th>Name</th>\n      <th></th>\n      <th></th>\n      <th></th>\n      <th></th>\n      <th></th>\n      <th></th>\n      <th></th>\n      <th></th>\n      <th></th>\n      <th></th>\n      <th></th>\n      <th></th>\n      <th></th>\n      <th></th>\n      <th></th>\n      <th></th>\n      <th></th>\n      <th></th>\n      <th></th>\n      <th></th>\n      <th></th>\n    </tr>\n  </thead>\n  <tbody>\n    <tr>\n      <th>1</th>\n      <td>M</td>\n      <td>R</td>\n      <td>Y</td>\n      <td>I</td>\n      <td>R</td>\n      <td>L</td>\n      <td>C</td>\n      <td>I</td>\n      <td>I</td>\n      <td>S</td>\n      <td>...</td>\n      <td>A</td>\n      <td>A</td>\n      <td>L</td>\n      <td>I</td>\n      <td>E</td>\n      <td>H</td>\n      <td>W</td>\n      <td>Q</td>\n      <td>R</td>\n      <td>X</td>\n    </tr>\n    <tr>\n      <th>2</th>\n      <td>M</td>\n      <td>R</td>\n      <td>Y</td>\n      <td>I</td>\n      <td>R</td>\n      <td>L</td>\n      <td>C</td>\n      <td>I</td>\n      <td>?</td>\n      <td>-</td>\n      <td>...</td>\n      <td>-</td>\n      <td>-</td>\n      <td>-</td>\n      <td>-</td>\n      <td>-</td>\n      <td>-</td>\n      <td>-</td>\n      <td>-</td>\n      <td>-</td>\n      <td>-</td>\n    </tr>\n  </tbody>\n</table>\n<p>2 rows × 287 columns</p>\n</div>"
     },
     "metadata": {},
     "execution_count": 179
    }
   ],
   "source": [
    "msa_df.head()"
   ]
  },
  {
   "source": [
    "## Create function for values\n",
    "We need to create a conversion function that will take in an Amino Acid (plus a few extra characters) and return an index of that character."
   ],
   "cell_type": "markdown",
   "metadata": {}
  },
  {
   "cell_type": "code",
   "execution_count": 187,
   "metadata": {},
   "outputs": [],
   "source": [
    "def convert(col):\n",
    "    characters = {\n",
    "        'A': 0,\n",
    "        'R': 1, \n",
    "        'N': 2,\n",
    "        'D': 3,\n",
    "        'C': 4,\n",
    "        'Q': 5,\n",
    "        'E': 6,\n",
    "        'G': 7,\n",
    "        'H': 8,\n",
    "        'I': 9,\n",
    "        'L': 10,\n",
    "        'K': 11,\n",
    "        'M': 12,\n",
    "        'F': 13,\n",
    "        'P': 14,\n",
    "        'S': 15,\n",
    "        'T': 16,\n",
    "        'W': 17,\n",
    "        'Y': 18,\n",
    "        'V': 19,\n",
    "        'B': 20,\n",
    "        'Z': 21,\n",
    "        'X': 22,\n",
    "        '?': 23,\n",
    "        '-': 24\n",
    "    }\n",
    "\n",
    "    new_col = []\n",
    "    for c in col:\n",
    "        tmp = characters.get(c, None)\n",
    "        if tmp is None:\n",
    "            raise ValueError(f'Value {c} does not exist in characters dictionary')\n",
    "\n",
    "        new_col.append(tmp)\n",
    "\n",
    "    return new_col"
   ]
  },
  {
   "cell_type": "code",
   "execution_count": 181,
   "metadata": {},
   "outputs": [
    {
     "output_type": "execute_result",
     "data": {
      "text/plain": [
       "     Unnamed: 1 Unnamed: 2 Unnamed: 3 Unnamed: 4 Unnamed: 5 Unnamed: 6  \\\n",
       "Name                                                                     \n",
       "1             M          R          Y          I          R          L   \n",
       "2             M          R          Y          I          R          L   \n",
       "\n",
       "     Unnamed: 7 Unnamed: 8 Unnamed: 9 10  ... Unnamed: 278 Unnamed: 279 280  \\\n",
       "Name                                      ...                                 \n",
       "1             C          I          I  S  ...            A            A   L   \n",
       "2             C          I          ?  -  ...            -            -   -   \n",
       "\n",
       "     Unnamed: 281 Unnamed: 282 Unnamed: 283 Unnamed: 284 Unnamed: 285  \\\n",
       "Name                                                                    \n",
       "1               I            E            H            W            Q   \n",
       "2               -            -            -            -            -   \n",
       "\n",
       "     Unnamed: 286 Unnamed: 287  \n",
       "Name                            \n",
       "1               R            X  \n",
       "2               -            -  \n",
       "\n",
       "[2 rows x 287 columns]"
      ],
      "text/html": "<div>\n<style scoped>\n    .dataframe tbody tr th:only-of-type {\n        vertical-align: middle;\n    }\n\n    .dataframe tbody tr th {\n        vertical-align: top;\n    }\n\n    .dataframe thead th {\n        text-align: right;\n    }\n</style>\n<table border=\"1\" class=\"dataframe\">\n  <thead>\n    <tr style=\"text-align: right;\">\n      <th></th>\n      <th>Unnamed: 1</th>\n      <th>Unnamed: 2</th>\n      <th>Unnamed: 3</th>\n      <th>Unnamed: 4</th>\n      <th>Unnamed: 5</th>\n      <th>Unnamed: 6</th>\n      <th>Unnamed: 7</th>\n      <th>Unnamed: 8</th>\n      <th>Unnamed: 9</th>\n      <th>10</th>\n      <th>...</th>\n      <th>Unnamed: 278</th>\n      <th>Unnamed: 279</th>\n      <th>280</th>\n      <th>Unnamed: 281</th>\n      <th>Unnamed: 282</th>\n      <th>Unnamed: 283</th>\n      <th>Unnamed: 284</th>\n      <th>Unnamed: 285</th>\n      <th>Unnamed: 286</th>\n      <th>Unnamed: 287</th>\n    </tr>\n    <tr>\n      <th>Name</th>\n      <th></th>\n      <th></th>\n      <th></th>\n      <th></th>\n      <th></th>\n      <th></th>\n      <th></th>\n      <th></th>\n      <th></th>\n      <th></th>\n      <th></th>\n      <th></th>\n      <th></th>\n      <th></th>\n      <th></th>\n      <th></th>\n      <th></th>\n      <th></th>\n      <th></th>\n      <th></th>\n      <th></th>\n    </tr>\n  </thead>\n  <tbody>\n    <tr>\n      <th>1</th>\n      <td>M</td>\n      <td>R</td>\n      <td>Y</td>\n      <td>I</td>\n      <td>R</td>\n      <td>L</td>\n      <td>C</td>\n      <td>I</td>\n      <td>I</td>\n      <td>S</td>\n      <td>...</td>\n      <td>A</td>\n      <td>A</td>\n      <td>L</td>\n      <td>I</td>\n      <td>E</td>\n      <td>H</td>\n      <td>W</td>\n      <td>Q</td>\n      <td>R</td>\n      <td>X</td>\n    </tr>\n    <tr>\n      <th>2</th>\n      <td>M</td>\n      <td>R</td>\n      <td>Y</td>\n      <td>I</td>\n      <td>R</td>\n      <td>L</td>\n      <td>C</td>\n      <td>I</td>\n      <td>?</td>\n      <td>-</td>\n      <td>...</td>\n      <td>-</td>\n      <td>-</td>\n      <td>-</td>\n      <td>-</td>\n      <td>-</td>\n      <td>-</td>\n      <td>-</td>\n      <td>-</td>\n      <td>-</td>\n      <td>-</td>\n    </tr>\n  </tbody>\n</table>\n<p>2 rows × 287 columns</p>\n</div>"
     },
     "metadata": {},
     "execution_count": 181
    }
   ],
   "source": [
    "# See old head of dataframe\n",
    "msa_df.head()"
   ]
  },
  {
   "cell_type": "code",
   "execution_count": 189,
   "metadata": {},
   "outputs": [],
   "source": [
    "# Apply function\n",
    "msa_df = msa_df.apply(convert, axis=1, result_type='broadcast')"
   ]
  },
  {
   "cell_type": "code",
   "execution_count": 190,
   "metadata": {},
   "outputs": [
    {
     "output_type": "execute_result",
     "data": {
      "text/plain": [
       "     Unnamed: 1 Unnamed: 2 Unnamed: 3 Unnamed: 4 Unnamed: 5 Unnamed: 6  \\\n",
       "Name                                                                     \n",
       "1            12          1         18          9          1         10   \n",
       "2            12          1         18          9          1         10   \n",
       "\n",
       "     Unnamed: 7 Unnamed: 8 Unnamed: 9  10  ... Unnamed: 278 Unnamed: 279 280  \\\n",
       "Name                                       ...                                 \n",
       "1             4          9          9  15  ...            0            0  10   \n",
       "2             4          9         23  24  ...           24           24  24   \n",
       "\n",
       "     Unnamed: 281 Unnamed: 282 Unnamed: 283 Unnamed: 284 Unnamed: 285  \\\n",
       "Name                                                                    \n",
       "1               9            6            8           17            5   \n",
       "2              24           24           24           24           24   \n",
       "\n",
       "     Unnamed: 286 Unnamed: 287  \n",
       "Name                            \n",
       "1               1           22  \n",
       "2              24           24  \n",
       "\n",
       "[2 rows x 287 columns]"
      ],
      "text/html": "<div>\n<style scoped>\n    .dataframe tbody tr th:only-of-type {\n        vertical-align: middle;\n    }\n\n    .dataframe tbody tr th {\n        vertical-align: top;\n    }\n\n    .dataframe thead th {\n        text-align: right;\n    }\n</style>\n<table border=\"1\" class=\"dataframe\">\n  <thead>\n    <tr style=\"text-align: right;\">\n      <th></th>\n      <th>Unnamed: 1</th>\n      <th>Unnamed: 2</th>\n      <th>Unnamed: 3</th>\n      <th>Unnamed: 4</th>\n      <th>Unnamed: 5</th>\n      <th>Unnamed: 6</th>\n      <th>Unnamed: 7</th>\n      <th>Unnamed: 8</th>\n      <th>Unnamed: 9</th>\n      <th>10</th>\n      <th>...</th>\n      <th>Unnamed: 278</th>\n      <th>Unnamed: 279</th>\n      <th>280</th>\n      <th>Unnamed: 281</th>\n      <th>Unnamed: 282</th>\n      <th>Unnamed: 283</th>\n      <th>Unnamed: 284</th>\n      <th>Unnamed: 285</th>\n      <th>Unnamed: 286</th>\n      <th>Unnamed: 287</th>\n    </tr>\n    <tr>\n      <th>Name</th>\n      <th></th>\n      <th></th>\n      <th></th>\n      <th></th>\n      <th></th>\n      <th></th>\n      <th></th>\n      <th></th>\n      <th></th>\n      <th></th>\n      <th></th>\n      <th></th>\n      <th></th>\n      <th></th>\n      <th></th>\n      <th></th>\n      <th></th>\n      <th></th>\n      <th></th>\n      <th></th>\n      <th></th>\n    </tr>\n  </thead>\n  <tbody>\n    <tr>\n      <th>1</th>\n      <td>12</td>\n      <td>1</td>\n      <td>18</td>\n      <td>9</td>\n      <td>1</td>\n      <td>10</td>\n      <td>4</td>\n      <td>9</td>\n      <td>9</td>\n      <td>15</td>\n      <td>...</td>\n      <td>0</td>\n      <td>0</td>\n      <td>10</td>\n      <td>9</td>\n      <td>6</td>\n      <td>8</td>\n      <td>17</td>\n      <td>5</td>\n      <td>1</td>\n      <td>22</td>\n    </tr>\n    <tr>\n      <th>2</th>\n      <td>12</td>\n      <td>1</td>\n      <td>18</td>\n      <td>9</td>\n      <td>1</td>\n      <td>10</td>\n      <td>4</td>\n      <td>9</td>\n      <td>23</td>\n      <td>24</td>\n      <td>...</td>\n      <td>24</td>\n      <td>24</td>\n      <td>24</td>\n      <td>24</td>\n      <td>24</td>\n      <td>24</td>\n      <td>24</td>\n      <td>24</td>\n      <td>24</td>\n      <td>24</td>\n    </tr>\n  </tbody>\n</table>\n<p>2 rows × 287 columns</p>\n</div>"
     },
     "metadata": {},
     "execution_count": 190
    }
   ],
   "source": [
    "msa_df.head()"
   ]
  },
  {
   "source": [
    "## To CSV\n",
    "Lastly, we want to export as CSV without the indecies. We do not need the pandas pre-made indicies, so we can remove them from the CSV file. Since this file is just testing, it will be saved to the current folder."
   ],
   "cell_type": "markdown",
   "metadata": {}
  },
  {
   "cell_type": "code",
   "execution_count": 193,
   "metadata": {},
   "outputs": [],
   "source": [
    "msa_df.to_csv('form_3.csv')"
   ]
  },
  {
   "source": [
    "Test to see if the file can be loaded, and what it will look like if it is."
   ],
   "cell_type": "markdown",
   "metadata": {}
  },
  {
   "cell_type": "code",
   "execution_count": 194,
   "metadata": {},
   "outputs": [
    {
     "output_type": "execute_result",
     "data": {
      "text/plain": [
       "   Name  Unnamed: 1  Unnamed: 2  Unnamed: 3  Unnamed: 4  Unnamed: 5  \\\n",
       "0     1          12           1          18           9           1   \n",
       "1     2          12           1          18           9           1   \n",
       "\n",
       "   Unnamed: 6  Unnamed: 7  Unnamed: 8  Unnamed: 9  ...  Unnamed: 278  \\\n",
       "0          10           4           9           9  ...             0   \n",
       "1          10           4           9          23  ...            24   \n",
       "\n",
       "   Unnamed: 279  280  Unnamed: 281  Unnamed: 282  Unnamed: 283  Unnamed: 284  \\\n",
       "0             0   10             9             6             8            17   \n",
       "1            24   24            24            24            24            24   \n",
       "\n",
       "   Unnamed: 285  Unnamed: 286  Unnamed: 287  \n",
       "0             5             1            22  \n",
       "1            24            24            24  \n",
       "\n",
       "[2 rows x 288 columns]"
      ],
      "text/html": "<div>\n<style scoped>\n    .dataframe tbody tr th:only-of-type {\n        vertical-align: middle;\n    }\n\n    .dataframe tbody tr th {\n        vertical-align: top;\n    }\n\n    .dataframe thead th {\n        text-align: right;\n    }\n</style>\n<table border=\"1\" class=\"dataframe\">\n  <thead>\n    <tr style=\"text-align: right;\">\n      <th></th>\n      <th>Name</th>\n      <th>Unnamed: 1</th>\n      <th>Unnamed: 2</th>\n      <th>Unnamed: 3</th>\n      <th>Unnamed: 4</th>\n      <th>Unnamed: 5</th>\n      <th>Unnamed: 6</th>\n      <th>Unnamed: 7</th>\n      <th>Unnamed: 8</th>\n      <th>Unnamed: 9</th>\n      <th>...</th>\n      <th>Unnamed: 278</th>\n      <th>Unnamed: 279</th>\n      <th>280</th>\n      <th>Unnamed: 281</th>\n      <th>Unnamed: 282</th>\n      <th>Unnamed: 283</th>\n      <th>Unnamed: 284</th>\n      <th>Unnamed: 285</th>\n      <th>Unnamed: 286</th>\n      <th>Unnamed: 287</th>\n    </tr>\n  </thead>\n  <tbody>\n    <tr>\n      <th>0</th>\n      <td>1</td>\n      <td>12</td>\n      <td>1</td>\n      <td>18</td>\n      <td>9</td>\n      <td>1</td>\n      <td>10</td>\n      <td>4</td>\n      <td>9</td>\n      <td>9</td>\n      <td>...</td>\n      <td>0</td>\n      <td>0</td>\n      <td>10</td>\n      <td>9</td>\n      <td>6</td>\n      <td>8</td>\n      <td>17</td>\n      <td>5</td>\n      <td>1</td>\n      <td>22</td>\n    </tr>\n    <tr>\n      <th>1</th>\n      <td>2</td>\n      <td>12</td>\n      <td>1</td>\n      <td>18</td>\n      <td>9</td>\n      <td>1</td>\n      <td>10</td>\n      <td>4</td>\n      <td>9</td>\n      <td>23</td>\n      <td>...</td>\n      <td>24</td>\n      <td>24</td>\n      <td>24</td>\n      <td>24</td>\n      <td>24</td>\n      <td>24</td>\n      <td>24</td>\n      <td>24</td>\n      <td>24</td>\n      <td>24</td>\n    </tr>\n  </tbody>\n</table>\n<p>2 rows × 288 columns</p>\n</div>"
     },
     "metadata": {},
     "execution_count": 194
    }
   ],
   "source": [
    "pd.read_csv('form_3.csv').head()"
   ]
  },
  {
   "cell_type": "code",
   "execution_count": null,
   "metadata": {},
   "outputs": [],
   "source": []
  }
 ]
}