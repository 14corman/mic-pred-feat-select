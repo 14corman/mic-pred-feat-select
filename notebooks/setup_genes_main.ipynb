{
 "metadata": {
  "language_info": {
   "codemirror_mode": {
    "name": "ipython",
    "version": 3
   },
   "file_extension": ".py",
   "mimetype": "text/x-python",
   "name": "python",
   "nbconvert_exporter": "python",
   "pygments_lexer": "ipython3",
   "version": "3.8.6"
  },
  "orig_nbformat": 2,
  "kernelspec": {
   "name": "python386jvsc74a57bd0bf66385a5a9217b7f25761b49aa1592adf2d33bc32343798c341d18f58413a49",
   "display_name": "Python 3.8.6 64-bit"
  },
  "metadata": {
   "interpreter": {
    "hash": "bf66385a5a9217b7f25761b49aa1592adf2d33bc32343798c341d18f58413a49"
   }
  }
 },
 "nbformat": 4,
 "nbformat_minor": 2,
 "cells": [
  {
   "source": [
    "# Setting up preprocessed data\n",
    "Here, I will be going through the thought process in setting up and organizing the OMPK genes along with the labels."
   ],
   "cell_type": "markdown",
   "metadata": {}
  },
  {
   "cell_type": "code",
   "execution_count": 9,
   "metadata": {},
   "outputs": [
    {
     "output_type": "stream",
     "name": "stdout",
     "text": [
      "Requirement already satisfied: pandas in c:\\users\\cory\\appdata\\local\\programs\\python\\python38\\lib\\site-packages (1.2.3)\n",
      "Requirement already satisfied: numpy in c:\\users\\cory\\appdata\\local\\programs\\python\\python38\\lib\\site-packages (1.20.2)\n",
      "Requirement already satisfied: sklearn in c:\\users\\cory\\appdata\\local\\programs\\python\\python38\\lib\\site-packages (0.0)\n",
      "Requirement already satisfied: python-dateutil>=2.7.3 in c:\\users\\cory\\appdata\\roaming\\python\\python38\\site-packages (from pandas) (2.8.1)\n",
      "Requirement already satisfied: pytz>=2017.3 in c:\\users\\cory\\appdata\\local\\programs\\python\\python38\\lib\\site-packages (from pandas) (2021.1)\n",
      "Requirement already satisfied: scikit-learn in c:\\users\\cory\\appdata\\local\\programs\\python\\python38\\lib\\site-packages (from sklearn) (0.24.1)\n",
      "Requirement already satisfied: six>=1.5 in c:\\users\\cory\\appdata\\roaming\\python\\python38\\site-packages (from python-dateutil>=2.7.3->pandas) (1.15.0)\n",
      "Requirement already satisfied: joblib>=0.11 in c:\\users\\cory\\appdata\\local\\programs\\python\\python38\\lib\\site-packages (from scikit-learn->sklearn) (1.0.1)\n",
      "Requirement already satisfied: threadpoolctl>=2.0.0 in c:\\users\\cory\\appdata\\local\\programs\\python\\python38\\lib\\site-packages (from scikit-learn->sklearn) (2.1.0)\n",
      "Requirement already satisfied: scipy>=0.19.1 in c:\\users\\cory\\appdata\\local\\programs\\python\\python38\\lib\\site-packages (from scikit-learn->sklearn) (1.6.2)\n",
      "Note: you may need to restart the kernel to use updated packages.\n",
      "WARNING: You are using pip version 20.2.1; however, version 21.1.1 is available.\n",
      "You should consider upgrading via the 'C:\\Users\\Cory\\AppData\\Local\\Programs\\Python\\Python38\\python.exe -m pip install --upgrade pip' command.\n"
     ]
    }
   ],
   "source": [
    "%pip install pandas numpy sklearn"
   ]
  },
  {
   "cell_type": "code",
   "execution_count": 10,
   "metadata": {},
   "outputs": [],
   "source": [
    "import pandas as pd\n",
    "import numpy as np\n",
    "from sklearn.model_selection import train_test_split"
   ]
  },
  {
   "cell_type": "code",
   "execution_count": 3,
   "metadata": {},
   "outputs": [],
   "source": [
    "data_dir = \"../data/processed/\""
   ]
  },
  {
   "source": [
    "# Attempt 1\n",
    "This was the attempt done for class project. It did not work well (as expected) since it made too many features for the algorithms to work on. It concatenates the 3 genes together and gets a train/test split that way."
   ],
   "cell_type": "markdown",
   "metadata": {}
  },
  {
   "cell_type": "code",
   "execution_count": 4,
   "metadata": {},
   "outputs": [],
   "source": [
    "# Load all data\n",
    "ompk35 = pd.read_csv(f\"{data_dir}form_3_ompk35.csv\", index_col=0)\n",
    "ompk36 = pd.read_csv(f\"{data_dir}form_3_ompk36.csv\", index_col=0)\n",
    "ompk37 = pd.read_csv(f\"{data_dir}form_3_ompk37.csv\", index_col=0)\n",
    "labels = pd.read_csv(f\"{data_dir}labels.csv\", index_col=0)"
   ]
  },
  {
   "cell_type": "code",
   "execution_count": 11,
   "metadata": {},
   "outputs": [],
   "source": [
    "def set_columns(df, gene_name):\n",
    "    df = df.set_axis([i for i in range(len(df.columns))], axis=1)\n",
    "    df = df.add_prefix(f'{gene_name}_')\n",
    "    return df"
   ]
  },
  {
   "cell_type": "code",
   "execution_count": 12,
   "metadata": {
    "tags": []
   },
   "outputs": [],
   "source": [
    "# Set column names to distinguish between genes\n",
    "ompk35 = set_columns(ompk35, 'ompk35')\n",
    "ompk36 = set_columns(ompk36, 'ompk36')\n",
    "ompk37 = set_columns(ompk37, 'ompk37')\n",
    "\n",
    "# Concatenate genes together\n",
    "form_3 = pd.concat([ompk35, ompk36, ompk37], axis=1, join='inner')\n",
    "\n",
    "# Make sure labels and form_3 match\n",
    "labels = labels[labels.index.isin(form_3.index)]\n",
    "labels = labels.sort_index()\n",
    "form_3 = form_3.sort_index()\n",
    "\n",
    "x_train, x_test, y_train, y_test = train_test_split(form_3, labels, test_size=0.2, random_state=642)"
   ]
  },
  {
   "source": [
    "# Attempt 2\n",
    "This is what will be done going forward. Each gene will have a model trained on it, then the prediction pdf's of the 3 models will be brought together and given to a small Dense NN to get an overall MIC prediction pdf."
   ],
   "cell_type": "markdown",
   "metadata": {}
  },
  {
   "cell_type": "code",
   "execution_count": 31,
   "metadata": {},
   "outputs": [],
   "source": [
    "# Load all data\n",
    "ompk35 = pd.read_csv(f\"{data_dir}form_3_ompk35.csv\", index_col=0)\n",
    "ompk36 = pd.read_csv(f\"{data_dir}form_3_ompk36.csv\", index_col=0)\n",
    "ompk37 = pd.read_csv(f\"{data_dir}form_3_ompk37.csv\", index_col=0)\n",
    "labels = pd.read_csv(f\"{data_dir}labels.csv\", index_col=0)"
   ]
  },
  {
   "cell_type": "code",
   "execution_count": 32,
   "metadata": {},
   "outputs": [],
   "source": [
    "test_labels = labels.sample(frac=0.2)\n",
    "train_labels = labels.drop(test_labels.index)"
   ]
  },
  {
   "cell_type": "code",
   "execution_count": 33,
   "metadata": {},
   "outputs": [
    {
     "output_type": "stream",
     "name": "stdout",
     "text": [
      "573\n2291\n"
     ]
    }
   ],
   "source": [
    "print(len(test_labels.index))\n",
    "print(len(train_labels.index))"
   ]
  },
  {
   "cell_type": "code",
   "execution_count": 37,
   "metadata": {},
   "outputs": [],
   "source": [
    "ompk35_train = ompk35.drop(test_labels.index, errors='ignore')\n",
    "ompk35_test = ompk35.drop(train_labels.index, errors='ignore')\n",
    "\n",
    "ompk36_train = ompk36.drop(test_labels.index, errors='ignore')\n",
    "ompk36_test = ompk36.drop(train_labels.index, errors='ignore')\n",
    "\n",
    "ompk37_train = ompk37.drop(test_labels.index, errors='ignore')\n",
    "ompk37_test = ompk37.drop(train_labels.index, errors='ignore')"
   ]
  },
  {
   "cell_type": "code",
   "execution_count": 38,
   "metadata": {},
   "outputs": [
    {
     "output_type": "stream",
     "name": "stdout",
     "text": [
      "2044\n526\n\n2052\n517\n\n1156\n289\n"
     ]
    }
   ],
   "source": [
    "print(len(ompk35_train.index))\n",
    "print(len(ompk35_test.index))\n",
    "print()\n",
    "print(len(ompk36_train.index))\n",
    "print(len(ompk36_test.index))\n",
    "print()\n",
    "print(len(ompk37_train.index))\n",
    "print(len(ompk37_test.index))"
   ]
  },
  {
   "cell_type": "code",
   "execution_count": 39,
   "metadata": {},
   "outputs": [],
   "source": [
    "ompk_train = [ompk35_train, ompk36_train, ompk37_train]\n",
    "ompk_test = [ompk35_test, ompk36_test, ompk37_test]"
   ]
  },
  {
   "cell_type": "code",
   "execution_count": 40,
   "metadata": {},
   "outputs": [
    {
     "output_type": "stream",
     "name": "stdout",
     "text": [
      "[                     Unnamed: 1  Unnamed: 2  Unnamed: 3  Unnamed: 4  \\\nName                                                                  \nSentry-2016-958127           12          12          23          24   \nSentry-2016-965565           12          12          23          24   \nSentry-2016-965570           12          12          23          24   \nSentry-2016-965615           12          12          23          24   \nSentry-2016-977317           12          12          23          24   \n...                         ...         ...         ...         ...   \nSentry-2016-952494           12          12          11           1   \nSentry-2018-1057026          12          12          11           1   \nSentry-2018-1076289          12          12          11           1   \nSentry-2017-1001613          12          12          11           1   \nSentry-2018-1061140          12          12          11           1   \n\n                     Unnamed: 5  Unnamed: 6  Unnamed: 7  Unnamed: 8  \\\nName                                                                  \nSentry-2016-958127           24          24          24          24   \nSentry-2016-965565           24          24          24          24   \nSentry-2016-965570           24          24          24          24   \nSentry-2016-965615           24          24          24          24   \nSentry-2016-977317           24          24          24          24   \n...                         ...         ...         ...         ...   \nSentry-2016-952494            2           9          10           0   \nSentry-2018-1057026           2           9          10           0   \nSentry-2018-1076289           2           9          10           0   \nSentry-2017-1001613           2           9          10           0   \nSentry-2018-1061140           2           9          10           0   \n\n                     Unnamed: 9  10  ...  Unnamed: 352  Unnamed: 353  \\\nName                                 ...                               \nSentry-2016-958127           24  24  ...            24            24   \nSentry-2016-965565           24  24  ...            24            24   \nSentry-2016-965570           24  24  ...            24            24   \nSentry-2016-965615           24  24  ...            24            24   \nSentry-2016-977317           24  24  ...            24            24   \n...                         ...  ..  ...           ...           ...   \nSentry-2016-952494           19  19  ...            24            24   \nSentry-2018-1057026          19  19  ...            24            24   \nSentry-2018-1076289          19  19  ...            24            24   \nSentry-2017-1001613          19  19  ...            24            24   \nSentry-2018-1061140          19  19  ...            24            24   \n\n                     Unnamed: 354  Unnamed: 355  Unnamed: 356  Unnamed: 357  \\\nName                                                                          \nSentry-2016-958127             24            24            24            24   \nSentry-2016-965565             24            24            24            24   \nSentry-2016-965570             24            24            24            24   \nSentry-2016-965615             24            24            24            24   \nSentry-2016-977317             24            24            24            24   \n...                           ...           ...           ...           ...   \nSentry-2016-952494             24            24            24            24   \nSentry-2018-1057026            24            24            24            24   \nSentry-2018-1076289            24            24            24            24   \nSentry-2017-1001613            24            24            24            24   \nSentry-2018-1061140            24            24            24            24   \n\n                     Unnamed: 358  Unnamed: 359  360  Unnamed: 361  \nName                                                                \nSentry-2016-958127             24            24   24            24  \nSentry-2016-965565             24            24   24            24  \nSentry-2016-965570             24            24   24            24  \nSentry-2016-965615             24            24   24            24  \nSentry-2016-977317             24            24   24            24  \n...                           ...           ...  ...           ...  \nSentry-2016-952494             24            24   24            24  \nSentry-2018-1057026            24            24   24            24  \nSentry-2018-1076289            24            24   24            24  \nSentry-2017-1001613            24            24   24            24  \nSentry-2018-1061140            24            24   24            24  \n\n[2044 rows x 361 columns],                      Unnamed: 1  Unnamed: 2  Unnamed: 3  Unnamed: 4  \\\nName                                                                  \nSentry-2016-966360           12          11          19          11   \nSentry-2018-1087723          12          11          19          11   \nSentry-2017-1011396          12          11          19          23   \nSentry-2018-1081357          12          11          19          11   \nSentry-2018-1081291          12          11          19          11   \n...                         ...         ...         ...         ...   \nSentry-2018-1078672          12          11          19          11   \nSentry-2018-1078244          12          11          19          11   \nSentry-2018-1078310          12          11          19          11   \nSentry-2018-1078712          12          11          19          11   \nSentry-2016-969233           12          11          19          11   \n\n                     Unnamed: 5  Unnamed: 6  Unnamed: 7  Unnamed: 8  \\\nName                                                                  \nSentry-2016-966360           19          10          15          10   \nSentry-2018-1087723          19          10          15          10   \nSentry-2017-1011396          24          24          24          24   \nSentry-2018-1081357          19          10          15          10   \nSentry-2018-1081291          19          10          15          10   \n...                         ...         ...         ...         ...   \nSentry-2018-1078672          19          10          15          10   \nSentry-2018-1078244          19          10          15          10   \nSentry-2018-1078310          19          10          15          10   \nSentry-2018-1078712          19          10          15          10   \nSentry-2016-969233           19          10          15          10   \n\n                     Unnamed: 9  10  ...  Unnamed: 394  Unnamed: 395  \\\nName                                 ...                               \nSentry-2016-966360           10  19  ...            24            24   \nSentry-2018-1087723          10  19  ...            24            24   \nSentry-2017-1011396          24  24  ...            24            24   \nSentry-2018-1081357          10  19  ...            19             0   \nSentry-2018-1081291          10  19  ...            19             0   \n...                         ...  ..  ...           ...           ...   \nSentry-2018-1078672          10  19  ...            19             0   \nSentry-2018-1078244          10  19  ...            19             0   \nSentry-2018-1078310          10  19  ...            19             0   \nSentry-2018-1078712          10  19  ...            19             0   \nSentry-2016-969233           10  19  ...            19             0   \n\n                     Unnamed: 396  Unnamed: 397  Unnamed: 398  Unnamed: 399  \\\nName                                                                          \nSentry-2016-966360             24            24            24            24   \nSentry-2018-1087723            24            24            24            24   \nSentry-2017-1011396            24            24            24            24   \nSentry-2018-1081357            10             7            10            19   \nSentry-2018-1081291            10             7            10            19   \n...                           ...           ...           ...           ...   \nSentry-2018-1078672            10             7            10            19   \nSentry-2018-1078244            10             7            10            19   \nSentry-2018-1078310            10             7            10            19   \nSentry-2018-1078712            10             7            10            19   \nSentry-2016-969233             10             7            10            19   \n\n                     400  Unnamed: 401  Unnamed: 402  Unnamed: 403  \nName                                                                \nSentry-2016-966360    24            24            24            24  \nSentry-2018-1087723   24            24            24            24  \nSentry-2017-1011396   24            24            24            24  \nSentry-2018-1081357   18             5            13            22  \nSentry-2018-1081291   18             5            13            22  \n...                  ...           ...           ...           ...  \nSentry-2018-1078672   18             5            13            22  \nSentry-2018-1078244   18             5            13            22  \nSentry-2018-1078310   18             5            13            22  \nSentry-2018-1078712   18             5            13            22  \nSentry-2016-969233    18             5            13            22  \n\n[2052 rows x 403 columns],                      Unnamed: 1  Unnamed: 2  Unnamed: 3  Unnamed: 4  \\\nName                                                                  \nSentry-2016-945111           12          11           1          11   \nSentry-2018-1058756          12          11           1          11   \nSentry-2018-1067956          12          11           1          11   \nSentry-2017-1012909          12          11           1          11   \nSentry-2018-1055047          12          11           1          11   \n...                         ...         ...         ...         ...   \nSentry-2018-1086997          12          11           1          11   \nSentry-2018-1066943          12          11           1          11   \nSentry-2016-951076           12          11           1          11   \nSentry-2016-969356           12          11           1          11   \nSentry-2016-987584           12          11           1          11   \n\n                     Unnamed: 5  Unnamed: 6  Unnamed: 7  Unnamed: 8  \\\nName                                                                  \nSentry-2016-945111           19          10           0          10   \nSentry-2018-1058756          19          10           0          10   \nSentry-2018-1067956          19          10           0          10   \nSentry-2017-1012909          19          10           0          10   \nSentry-2018-1055047          19          10           0          10   \n...                         ...         ...         ...         ...   \nSentry-2018-1086997          19          10           0          10   \nSentry-2018-1066943          19          10           0          10   \nSentry-2016-951076           19          10           0          10   \nSentry-2016-969356           19          10           0          10   \nSentry-2016-987584           19          10           0          10   \n\n                     Unnamed: 9  10  ...  Unnamed: 376  Unnamed: 377  \\\nName                                 ...                               \nSentry-2016-945111           19   9  ...            19             0   \nSentry-2018-1058756          19   9  ...            19             0   \nSentry-2018-1067956          19   9  ...            19             0   \nSentry-2017-1012909          12  19  ...            19             0   \nSentry-2018-1055047          12  19  ...            19             0   \n...                         ...  ..  ...           ...           ...   \nSentry-2018-1086997          19   9  ...            24            24   \nSentry-2018-1066943          19   9  ...            24            24   \nSentry-2016-951076           19   9  ...            24            24   \nSentry-2016-969356           19   9  ...            24            24   \nSentry-2016-987584           19   9  ...            24            24   \n\n                     Unnamed: 378  Unnamed: 379  380  Unnamed: 381  \\\nName                                                                 \nSentry-2016-945111             10             7   10            19   \nSentry-2018-1058756            10             7   10            19   \nSentry-2018-1067956            10             7   10            19   \nSentry-2017-1012909            10             7   10            19   \nSentry-2018-1055047            10             7   10            19   \n...                           ...           ...  ...           ...   \nSentry-2018-1086997            24            24   24            24   \nSentry-2018-1066943            24            24   24            24   \nSentry-2016-951076             24            24   24            24   \nSentry-2016-969356             24            24   24            24   \nSentry-2016-987584             24            24   24            24   \n\n                     Unnamed: 382  Unnamed: 383  Unnamed: 384  Unnamed: 385  \nName                                                                         \nSentry-2016-945111             18             5            13            22  \nSentry-2018-1058756            18             5            13            22  \nSentry-2018-1067956            18             5            13            22  \nSentry-2017-1012909            18             5            13            22  \nSentry-2018-1055047            18             5            13            22  \n...                           ...           ...           ...           ...  \nSentry-2018-1086997            24            24            24            24  \nSentry-2018-1066943            24            24            24            24  \nSentry-2016-951076             24            24            24            24  \nSentry-2016-969356             24            24            24            24  \nSentry-2016-987584             24            24            24            24  \n\n[1156 rows x 385 columns]]\n"
     ]
    }
   ],
   "source": [
    "print(ompk_train)"
   ]
  },
  {
   "cell_type": "code",
   "execution_count": null,
   "metadata": {},
   "outputs": [],
   "source": []
  }
 ]
}