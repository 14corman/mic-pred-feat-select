{
 "metadata": {
  "language_info": {
   "codemirror_mode": {
    "name": "ipython",
    "version": 3
   },
   "file_extension": ".py",
   "mimetype": "text/x-python",
   "name": "python",
   "nbconvert_exporter": "python",
   "pygments_lexer": "ipython3",
   "version": "3.8.6-final"
  },
  "orig_nbformat": 2,
  "kernelspec": {
   "name": "python3",
   "display_name": "Python 3.8.6 64-bit",
   "metadata": {
    "interpreter": {
     "hash": "bf66385a5a9217b7f25761b49aa1592adf2d33bc32343798c341d18f58413a49"
    }
   }
  }
 },
 "nbformat": 4,
 "nbformat_minor": 2,
 "cells": [
  {
   "source": [
    "# Label processing\n",
    "This notebook will go over how processing for labels is done."
   ],
   "cell_type": "markdown",
   "metadata": {}
  },
  {
   "cell_type": "code",
   "execution_count": null,
   "metadata": {},
   "outputs": [],
   "source": [
    "%pip install pandas numpy"
   ]
  },
  {
   "cell_type": "code",
   "execution_count": 3,
   "metadata": {},
   "outputs": [],
   "source": [
    "import pandas as pd\n",
    "import numpy as np"
   ]
  },
  {
   "cell_type": "code",
   "execution_count": 4,
   "metadata": {},
   "outputs": [],
   "source": [
    "data_dir = \"../data/test/\"\n",
    "possible_mics = [0.001, 0.003, 0.007, 0.015, 0.03, 0.06, 0.12, 0.25, 0.5, 1., 2., 4., 8., 16., 32., 64., 128.,\n",
    "                 256., 512., 1024.]"
   ]
  },
  {
   "cell_type": "code",
   "execution_count": 5,
   "metadata": {},
   "outputs": [],
   "source": [
    "labels_df = pd.read_csv(f'{data_dir}antibiotics.tsv', sep='\\t', index_col=0)"
   ]
  },
  {
   "cell_type": "code",
   "execution_count": 6,
   "metadata": {},
   "outputs": [
    {
     "output_type": "execute_result",
     "data": {
      "text/plain": [
       "     Antibiotic_1  Antibiotic_2  Antibiotic_3  Antibiotic_4  Antibiotic_5  \\\n",
       "Name                                                                        \n",
       "1          >16.00           NaN          0.06          0.25           1.0   \n",
       "2          >16.00           NaN          0.50           NaN           8.0   \n",
       "\n",
       "     Antibiotic_6 Antibiotic_7  Antibiotic_8 Antibiotic_9  Antibiotic_10  \\\n",
       "Name                                                                       \n",
       "1             NaN       <=0.06          0.12       >64.00            4.0   \n",
       "2          >32.00        >4.00          0.25          NaN            NaN   \n",
       "\n",
       "     Antibiotic_11  \n",
       "Name                \n",
       "1             4.00  \n",
       "2           >16.00  "
      ],
      "text/html": "<div>\n<style scoped>\n    .dataframe tbody tr th:only-of-type {\n        vertical-align: middle;\n    }\n\n    .dataframe tbody tr th {\n        vertical-align: top;\n    }\n\n    .dataframe thead th {\n        text-align: right;\n    }\n</style>\n<table border=\"1\" class=\"dataframe\">\n  <thead>\n    <tr style=\"text-align: right;\">\n      <th></th>\n      <th>Antibiotic_1</th>\n      <th>Antibiotic_2</th>\n      <th>Antibiotic_3</th>\n      <th>Antibiotic_4</th>\n      <th>Antibiotic_5</th>\n      <th>Antibiotic_6</th>\n      <th>Antibiotic_7</th>\n      <th>Antibiotic_8</th>\n      <th>Antibiotic_9</th>\n      <th>Antibiotic_10</th>\n      <th>Antibiotic_11</th>\n    </tr>\n    <tr>\n      <th>Name</th>\n      <th></th>\n      <th></th>\n      <th></th>\n      <th></th>\n      <th></th>\n      <th></th>\n      <th></th>\n      <th></th>\n      <th></th>\n      <th></th>\n      <th></th>\n    </tr>\n  </thead>\n  <tbody>\n    <tr>\n      <th>1</th>\n      <td>&gt;16.00</td>\n      <td>NaN</td>\n      <td>0.06</td>\n      <td>0.25</td>\n      <td>1.0</td>\n      <td>NaN</td>\n      <td>&lt;=0.06</td>\n      <td>0.12</td>\n      <td>&gt;64.00</td>\n      <td>4.0</td>\n      <td>4.00</td>\n    </tr>\n    <tr>\n      <th>2</th>\n      <td>&gt;16.00</td>\n      <td>NaN</td>\n      <td>0.50</td>\n      <td>NaN</td>\n      <td>8.0</td>\n      <td>&gt;32.00</td>\n      <td>&gt;4.00</td>\n      <td>0.25</td>\n      <td>NaN</td>\n      <td>NaN</td>\n      <td>&gt;16.00</td>\n    </tr>\n  </tbody>\n</table>\n</div>"
     },
     "metadata": {},
     "execution_count": 6
    }
   ],
   "source": [
    "labels_df.head()"
   ]
  },
  {
   "source": [
    "## Dropping characters\n",
    "Now that we have the data in a dataframe, we need to drop the `>` and `<=` characters from all values. When these are present, the type is of string, but if it is not then the type could be int or float. We will need to check that and remove the characters if they are present. Then, make all output values floats. We will make a function to do this and apply that to all columns.\n",
    "\n",
    "Good help on efficient ways to accomplish this task can be found in [this StackOverflow answer](https://stackoverflow.com/a/54302517)"
   ],
   "cell_type": "markdown",
   "metadata": {}
  },
  {
   "cell_type": "code",
   "execution_count": 19,
   "metadata": {},
   "outputs": [],
   "source": [
    "def encode_mics(col):\n",
    "    def try_extract(x):\n",
    "        if isinstance(x, str):\n",
    "            return possible_mics.index(float(x.lstrip('<=').lstrip('>')))\n",
    "        elif np.isnan(x):\n",
    "            return -1\n",
    "        else:\n",
    "            return possible_mics.index(float(x))\n",
    "    return pd.Series([try_extract(x) for x in col], dtype=int)"
   ]
  },
  {
   "cell_type": "code",
   "execution_count": 20,
   "metadata": {},
   "outputs": [],
   "source": [
    "labels_df = labels_df.apply(encode_mics, axis=1, result_type='broadcast')"
   ]
  },
  {
   "cell_type": "code",
   "execution_count": 21,
   "metadata": {},
   "outputs": [
    {
     "output_type": "execute_result",
     "data": {
      "text/plain": [
       "     Antibiotic_1 Antibiotic_2 Antibiotic_3 Antibiotic_4 Antibiotic_5  \\\n",
       "Name                                                                    \n",
       "1              13           -1            5            7            9   \n",
       "2              13           -1            8           -1           12   \n",
       "\n",
       "     Antibiotic_6 Antibiotic_7 Antibiotic_8 Antibiotic_9 Antibiotic_10  \\\n",
       "Name                                                                     \n",
       "1              -1            5            6           15            11   \n",
       "2              14           11            7           -1            -1   \n",
       "\n",
       "     Antibiotic_11  \n",
       "Name                \n",
       "1               11  \n",
       "2               13  "
      ],
      "text/html": "<div>\n<style scoped>\n    .dataframe tbody tr th:only-of-type {\n        vertical-align: middle;\n    }\n\n    .dataframe tbody tr th {\n        vertical-align: top;\n    }\n\n    .dataframe thead th {\n        text-align: right;\n    }\n</style>\n<table border=\"1\" class=\"dataframe\">\n  <thead>\n    <tr style=\"text-align: right;\">\n      <th></th>\n      <th>Antibiotic_1</th>\n      <th>Antibiotic_2</th>\n      <th>Antibiotic_3</th>\n      <th>Antibiotic_4</th>\n      <th>Antibiotic_5</th>\n      <th>Antibiotic_6</th>\n      <th>Antibiotic_7</th>\n      <th>Antibiotic_8</th>\n      <th>Antibiotic_9</th>\n      <th>Antibiotic_10</th>\n      <th>Antibiotic_11</th>\n    </tr>\n    <tr>\n      <th>Name</th>\n      <th></th>\n      <th></th>\n      <th></th>\n      <th></th>\n      <th></th>\n      <th></th>\n      <th></th>\n      <th></th>\n      <th></th>\n      <th></th>\n      <th></th>\n    </tr>\n  </thead>\n  <tbody>\n    <tr>\n      <th>1</th>\n      <td>13</td>\n      <td>-1</td>\n      <td>5</td>\n      <td>7</td>\n      <td>9</td>\n      <td>-1</td>\n      <td>5</td>\n      <td>6</td>\n      <td>15</td>\n      <td>11</td>\n      <td>11</td>\n    </tr>\n    <tr>\n      <th>2</th>\n      <td>13</td>\n      <td>-1</td>\n      <td>8</td>\n      <td>-1</td>\n      <td>12</td>\n      <td>14</td>\n      <td>11</td>\n      <td>7</td>\n      <td>-1</td>\n      <td>-1</td>\n      <td>13</td>\n    </tr>\n  </tbody>\n</table>\n</div>"
     },
     "metadata": {},
     "execution_count": 21
    }
   ],
   "source": [
    "labels_df.head()"
   ]
  },
  {
   "source": [
    "## Saving\n",
    "Lastly, we just need to save the file."
   ],
   "cell_type": "markdown",
   "metadata": {}
  },
  {
   "cell_type": "code",
   "execution_count": 22,
   "metadata": {},
   "outputs": [],
   "source": [
    "labels_df.to_csv('labels.csv')"
   ]
  },
  {
   "cell_type": "code",
   "execution_count": 23,
   "metadata": {},
   "outputs": [
    {
     "output_type": "execute_result",
     "data": {
      "text/plain": [
       "   Name  Antibiotic_1  Antibiotic_2  Antibiotic_3  Antibiotic_4  Antibiotic_5  \\\n",
       "0     1            13            -1             5             7             9   \n",
       "1     2            13            -1             8            -1            12   \n",
       "\n",
       "   Antibiotic_6  Antibiotic_7  Antibiotic_8  Antibiotic_9  Antibiotic_10  \\\n",
       "0            -1             5             6            15             11   \n",
       "1            14            11             7            -1             -1   \n",
       "\n",
       "   Antibiotic_11  \n",
       "0             11  \n",
       "1             13  "
      ],
      "text/html": "<div>\n<style scoped>\n    .dataframe tbody tr th:only-of-type {\n        vertical-align: middle;\n    }\n\n    .dataframe tbody tr th {\n        vertical-align: top;\n    }\n\n    .dataframe thead th {\n        text-align: right;\n    }\n</style>\n<table border=\"1\" class=\"dataframe\">\n  <thead>\n    <tr style=\"text-align: right;\">\n      <th></th>\n      <th>Name</th>\n      <th>Antibiotic_1</th>\n      <th>Antibiotic_2</th>\n      <th>Antibiotic_3</th>\n      <th>Antibiotic_4</th>\n      <th>Antibiotic_5</th>\n      <th>Antibiotic_6</th>\n      <th>Antibiotic_7</th>\n      <th>Antibiotic_8</th>\n      <th>Antibiotic_9</th>\n      <th>Antibiotic_10</th>\n      <th>Antibiotic_11</th>\n    </tr>\n  </thead>\n  <tbody>\n    <tr>\n      <th>0</th>\n      <td>1</td>\n      <td>13</td>\n      <td>-1</td>\n      <td>5</td>\n      <td>7</td>\n      <td>9</td>\n      <td>-1</td>\n      <td>5</td>\n      <td>6</td>\n      <td>15</td>\n      <td>11</td>\n      <td>11</td>\n    </tr>\n    <tr>\n      <th>1</th>\n      <td>2</td>\n      <td>13</td>\n      <td>-1</td>\n      <td>8</td>\n      <td>-1</td>\n      <td>12</td>\n      <td>14</td>\n      <td>11</td>\n      <td>7</td>\n      <td>-1</td>\n      <td>-1</td>\n      <td>13</td>\n    </tr>\n  </tbody>\n</table>\n</div>"
     },
     "metadata": {},
     "execution_count": 23
    }
   ],
   "source": [
    "pd.read_csv('labels.csv').head()"
   ]
  },
  {
   "cell_type": "code",
   "execution_count": null,
   "metadata": {},
   "outputs": [],
   "source": []
  }
 ]
}