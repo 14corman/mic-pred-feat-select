{
 "metadata": {
  "orig_nbformat": 2,
  "kernelspec": {
   "name": "python379jvsc74a57bd04fdbac08e35db46f93f9f24af7ef411186416ad6130a2d5f834b4b0f2eafd49b",
   "display_name": "Python 3.7.9 64-bit"
  },
  "metadata": {
   "interpreter": {
    "hash": "4fdbac08e35db46f93f9f24af7ef411186416ad6130a2d5f834b4b0f2eafd49b"
   }
  }
 },
 "nbformat": 4,
 "nbformat_minor": 2,
 "cells": [
  {
   "source": [
    "# Label processing\n",
    "This notebook will go over how processing for labels is done."
   ],
   "cell_type": "markdown",
   "metadata": {}
  },
  {
   "cell_type": "code",
   "execution_count": 2,
   "metadata": {},
   "outputs": [
    {
     "output_type": "stream",
     "name": "stdout",
     "text": [
      "Requirement already satisfied: pandas in c:\\users\\cory\\appdata\\local\\programs\\python\\python37\\lib\\site-packages (1.2.4)\n",
      "Requirement already satisfied: numpy in c:\\users\\cory\\appdata\\local\\programs\\python\\python37\\lib\\site-packages (1.19.4)\n",
      "Requirement already satisfied: python-dateutil>=2.7.3 in c:\\users\\cory\\appdata\\local\\programs\\python\\python37\\lib\\site-packages (from pandas) (2.8.1)\n",
      "Requirement already satisfied: pytz>=2017.3 in c:\\users\\cory\\appdata\\local\\programs\\python\\python37\\lib\\site-packages (from pandas) (2021.1)\n",
      "Requirement already satisfied: six>=1.5 in c:\\users\\cory\\appdata\\local\\programs\\python\\python37\\lib\\site-packages (from python-dateutil>=2.7.3->pandas) (1.15.0)\n",
      "Note: you may need to restart the kernel to use updated packages.\n",
      "WARNING: You are using pip version 20.1.1; however, version 21.1.1 is available.\n",
      "You should consider upgrading via the 'C:\\Users\\Cory\\AppData\\Local\\Programs\\Python\\Python37\\python.exe -m pip install --upgrade pip' command.\n"
     ]
    }
   ],
   "source": [
    "%pip install pandas numpy"
   ]
  },
  {
   "cell_type": "code",
   "execution_count": 3,
   "metadata": {},
   "outputs": [],
   "source": [
    "import pandas as pd\n",
    "import numpy as np"
   ]
  },
  {
   "cell_type": "code",
   "execution_count": 5,
   "metadata": {},
   "outputs": [],
   "source": [
    "data_dir = \"../data/main/\"\n",
    "\n",
    "# DEPRECATED\n",
    "possible_mics = [0.001, 0.003, 0.007, 0.01, 0.015, 0.02, 0.03, 0.06, 0.12, 0.25, 0.5, 1., 2., 4., 8., 16., 32., 64., 128.,\n",
    "                 256., 512., 1024.]"
   ]
  },
  {
   "source": [
    "# Update 2\n",
    "We will be working over 3 genes. Each set of genes may have different sets of isolates being used since some isolates could have missing coverage for one gene and not another. If an isolate has missing coverage (or holes), then it is not included for that gene. We want to concatenate all antibiotic MIC values together though, so we will load all antibiotic files and concatenate them first."
   ],
   "cell_type": "markdown",
   "metadata": {}
  },
  {
   "cell_type": "code",
   "execution_count": 118,
   "metadata": {},
   "outputs": [],
   "source": [
    "ompk35 = pd.read_csv(f'{data_dir}antibiotics_OMPK35.tsv', sep='\\t', index_col=0)\n",
    "ompk36 = pd.read_csv(f'{data_dir}antibiotics_OMPK36.tsv', sep='\\t', index_col=0)\n",
    "ompk37 = pd.read_csv(f'{data_dir}antibiotics_OMPK37.tsv', sep='\\t', index_col=0)\n",
    "\n",
    "# This was attempt number 1, ends up making each column have a list of 3 values for each gene.\n",
    "#labels_df = pd.concat([ompk35, ompk36, ompk37], axis=0)\n",
    "\n",
    "# Attempt 2, really only keeps OMPK35 or OMPK36. Gets no MICs from OMPK37.\n",
    "# labels_df = pd.merge(ompk35, ompk36, how='outer', on='Name', suffixes=('', '_y'))\n",
    "# labels_df = pd.merge(labels_df, ompk37, how='outer', on='Name', suffixes=('', '_y'))\n",
    "\n",
    "# Code retrieved from: https://stackoverflow.com/a/38034085\n",
    "# labels_df.drop(labels_df.filter(regex='_y$').columns.tolist(),axis=1, inplace=True)\n",
    "\n",
    "# Attempt 3 (and correct way), merges all columns in each dataframe while keeping the non-null values.\n",
    "# We expect all isolates to have the same MIC over each gene, so it does not matter which\n",
    "# gene's MIC value is taken if both are not null.\n",
    "labels_df = ompk35\n",
    "labels_df = labels_df.combine_first(ompk36)\n",
    "labels_df = labels_df.combine_first(ompk37)\n",
    "labels_df = labels_df[labels_df.index != 'consensus']                   # Remove consensus row\n",
    "labels_df = labels_df[labels_df.index != 'reference']                   # Remove reference row\n"
   ]
  },
  {
   "cell_type": "code",
   "execution_count": 119,
   "metadata": {},
   "outputs": [
    {
     "output_type": "execute_result",
     "data": {
      "text/plain": [
       "Index(['Sentry-2016-933272', 'Sentry-2016-933582', 'Sentry-2016-934664',\n",
       "       'Sentry-2016-934829', 'Sentry-2016-934925', 'Sentry-2016-934954',\n",
       "       'Sentry-2016-935073', 'Sentry-2016-935482', 'Sentry-2016-935518',\n",
       "       'Sentry-2016-935521',\n",
       "       ...\n",
       "       'Sentry-2018-1087745', 'Sentry-2018-1087757', 'Sentry-2018-1087767',\n",
       "       'Sentry-2018-1087789', 'Sentry-2018-1087802', 'Sentry-2018-1087803',\n",
       "       'Sentry-2018-1087818', 'Sentry-2018-1087824', 'Sentry-2018-1087829',\n",
       "       'Sentry-2018-1087836'],\n",
       "      dtype='object', name='Name', length=2864)"
      ]
     },
     "metadata": {},
     "execution_count": 119
    }
   ],
   "source": [
    "# labels_df = pd.read_csv(f'{data_dir}antibiotics.tsv', sep='\\t', index_col=0)\n",
    "labels_df.index"
   ]
  },
  {
   "cell_type": "code",
   "execution_count": 120,
   "metadata": {},
   "outputs": [
    {
     "output_type": "execute_result",
     "data": {
      "text/plain": [
       "                   Meropenem Tetracycline Cephalexin TrimSulfa  \\\n",
       "Name                                                             \n",
       "Sentry-2016-933272      0.06            4        NaN         2   \n",
       "Sentry-2016-933582      0.03            1        NaN    <=0.50   \n",
       "Sentry-2016-934664      0.03            2        NaN    <=0.50   \n",
       "Sentry-2016-934829        32            8        NaN     >4.00   \n",
       "Sentry-2016-934925        32       >16.00        NaN     >4.00   \n",
       "\n",
       "                   Piperacillin-tazobactam Doxycycline Aztreonam Gentamicin  \\\n",
       "Name                                                                          \n",
       "Sentry-2016-933272                       4           4      0.12        0.5   \n",
       "Sentry-2016-933582                       2           1      0.06       0.25   \n",
       "Sentry-2016-934664                       2           1      0.06       0.25   \n",
       "Sentry-2016-934829                  >64.00           8    >16.00          2   \n",
       "Sentry-2016-934925                  >64.00       >8.00    >16.00      >8.00   \n",
       "\n",
       "                   Levofloxacin Tobramycin  ... Cefoperazone-sulbactam  \\\n",
       "Name                                        ...                          \n",
       "Sentry-2016-933272            1        0.5  ...                    0.5   \n",
       "Sentry-2016-933582         0.06       0.25  ...                 <=0.25   \n",
       "Sentry-2016-934664       <=0.03       0.25  ...                 <=0.25   \n",
       "Sentry-2016-934829        >4.00      >8.00  ...                 >32.00   \n",
       "Sentry-2016-934925        >4.00      >8.00  ...                 >32.00   \n",
       "\n",
       "                   Amikacin Delafloxacin Cefuroxime  TigecyclineMR Cefazolin  \\\n",
       "Name                                                                           \n",
       "Sentry-2016-933272        2            4        NaN            0.5       NaN   \n",
       "Sentry-2016-933582        1         0.06        NaN           0.25       NaN   \n",
       "Sentry-2016-934664        2         0.06        NaN            0.5       NaN   \n",
       "Sentry-2016-934829   >32.00        >8.00        NaN              1       NaN   \n",
       "Sentry-2016-934925        4        >8.00        NaN              1       NaN   \n",
       "\n",
       "                   Cefepime-tazobactam Doripenem Ceftazidime  \\\n",
       "Name                                                           \n",
       "Sentry-2016-933272                 NaN       0.5         0.5   \n",
       "Sentry-2016-933582                 NaN    <=0.06        0.12   \n",
       "Sentry-2016-934664                 NaN    <=0.06        0.12   \n",
       "Sentry-2016-934829                 NaN     >8.00      >32.00   \n",
       "Sentry-2016-934925                 NaN     >8.00      >32.00   \n",
       "\n",
       "                   MeroRPX7009_fixed8  \n",
       "Name                                   \n",
       "Sentry-2016-933272               0.12  \n",
       "Sentry-2016-933582               0.03  \n",
       "Sentry-2016-934664               0.03  \n",
       "Sentry-2016-934829               0.03  \n",
       "Sentry-2016-934925               0.06  \n",
       "\n",
       "[5 rows x 47 columns]"
      ],
      "text/html": "<div>\n<style scoped>\n    .dataframe tbody tr th:only-of-type {\n        vertical-align: middle;\n    }\n\n    .dataframe tbody tr th {\n        vertical-align: top;\n    }\n\n    .dataframe thead th {\n        text-align: right;\n    }\n</style>\n<table border=\"1\" class=\"dataframe\">\n  <thead>\n    <tr style=\"text-align: right;\">\n      <th></th>\n      <th>Meropenem</th>\n      <th>Tetracycline</th>\n      <th>Cephalexin</th>\n      <th>TrimSulfa</th>\n      <th>Piperacillin-tazobactam</th>\n      <th>Doxycycline</th>\n      <th>Aztreonam</th>\n      <th>Gentamicin</th>\n      <th>Levofloxacin</th>\n      <th>Tobramycin</th>\n      <th>...</th>\n      <th>Cefoperazone-sulbactam</th>\n      <th>Amikacin</th>\n      <th>Delafloxacin</th>\n      <th>Cefuroxime</th>\n      <th>TigecyclineMR</th>\n      <th>Cefazolin</th>\n      <th>Cefepime-tazobactam</th>\n      <th>Doripenem</th>\n      <th>Ceftazidime</th>\n      <th>MeroRPX7009_fixed8</th>\n    </tr>\n    <tr>\n      <th>Name</th>\n      <th></th>\n      <th></th>\n      <th></th>\n      <th></th>\n      <th></th>\n      <th></th>\n      <th></th>\n      <th></th>\n      <th></th>\n      <th></th>\n      <th></th>\n      <th></th>\n      <th></th>\n      <th></th>\n      <th></th>\n      <th></th>\n      <th></th>\n      <th></th>\n      <th></th>\n      <th></th>\n      <th></th>\n    </tr>\n  </thead>\n  <tbody>\n    <tr>\n      <th>Sentry-2016-933272</th>\n      <td>0.06</td>\n      <td>4</td>\n      <td>NaN</td>\n      <td>2</td>\n      <td>4</td>\n      <td>4</td>\n      <td>0.12</td>\n      <td>0.5</td>\n      <td>1</td>\n      <td>0.5</td>\n      <td>...</td>\n      <td>0.5</td>\n      <td>2</td>\n      <td>4</td>\n      <td>NaN</td>\n      <td>0.5</td>\n      <td>NaN</td>\n      <td>NaN</td>\n      <td>0.5</td>\n      <td>0.5</td>\n      <td>0.12</td>\n    </tr>\n    <tr>\n      <th>Sentry-2016-933582</th>\n      <td>0.03</td>\n      <td>1</td>\n      <td>NaN</td>\n      <td>&lt;=0.50</td>\n      <td>2</td>\n      <td>1</td>\n      <td>0.06</td>\n      <td>0.25</td>\n      <td>0.06</td>\n      <td>0.25</td>\n      <td>...</td>\n      <td>&lt;=0.25</td>\n      <td>1</td>\n      <td>0.06</td>\n      <td>NaN</td>\n      <td>0.25</td>\n      <td>NaN</td>\n      <td>NaN</td>\n      <td>&lt;=0.06</td>\n      <td>0.12</td>\n      <td>0.03</td>\n    </tr>\n    <tr>\n      <th>Sentry-2016-934664</th>\n      <td>0.03</td>\n      <td>2</td>\n      <td>NaN</td>\n      <td>&lt;=0.50</td>\n      <td>2</td>\n      <td>1</td>\n      <td>0.06</td>\n      <td>0.25</td>\n      <td>&lt;=0.03</td>\n      <td>0.25</td>\n      <td>...</td>\n      <td>&lt;=0.25</td>\n      <td>2</td>\n      <td>0.06</td>\n      <td>NaN</td>\n      <td>0.5</td>\n      <td>NaN</td>\n      <td>NaN</td>\n      <td>&lt;=0.06</td>\n      <td>0.12</td>\n      <td>0.03</td>\n    </tr>\n    <tr>\n      <th>Sentry-2016-934829</th>\n      <td>32</td>\n      <td>8</td>\n      <td>NaN</td>\n      <td>&gt;4.00</td>\n      <td>&gt;64.00</td>\n      <td>8</td>\n      <td>&gt;16.00</td>\n      <td>2</td>\n      <td>&gt;4.00</td>\n      <td>&gt;8.00</td>\n      <td>...</td>\n      <td>&gt;32.00</td>\n      <td>&gt;32.00</td>\n      <td>&gt;8.00</td>\n      <td>NaN</td>\n      <td>1</td>\n      <td>NaN</td>\n      <td>NaN</td>\n      <td>&gt;8.00</td>\n      <td>&gt;32.00</td>\n      <td>0.03</td>\n    </tr>\n    <tr>\n      <th>Sentry-2016-934925</th>\n      <td>32</td>\n      <td>&gt;16.00</td>\n      <td>NaN</td>\n      <td>&gt;4.00</td>\n      <td>&gt;64.00</td>\n      <td>&gt;8.00</td>\n      <td>&gt;16.00</td>\n      <td>&gt;8.00</td>\n      <td>&gt;4.00</td>\n      <td>&gt;8.00</td>\n      <td>...</td>\n      <td>&gt;32.00</td>\n      <td>4</td>\n      <td>&gt;8.00</td>\n      <td>NaN</td>\n      <td>1</td>\n      <td>NaN</td>\n      <td>NaN</td>\n      <td>&gt;8.00</td>\n      <td>&gt;32.00</td>\n      <td>0.06</td>\n    </tr>\n  </tbody>\n</table>\n<p>5 rows × 47 columns</p>\n</div>"
     },
     "metadata": {},
     "execution_count": 120
    }
   ],
   "source": [
    "labels_df.head()"
   ]
  },
  {
   "source": [
    "# Update 3 (Only include Beta-Lactams and antibiotics that were tested on at least 90%)\n",
    "For the research, we only want to test on Beta-lactam antibiotics, and we only want to include anitbiotics that have MIC values for at least 90% of the isolates. That means, that we want each column to have <10% 0's."
   ],
   "cell_type": "markdown",
   "metadata": {}
  },
  {
   "cell_type": "code",
   "execution_count": 121,
   "metadata": {},
   "outputs": [
    {
     "output_type": "stream",
     "name": "stdout",
     "text": [
      "47\n286.40000000000003\n27\n14\n"
     ]
    }
   ],
   "source": [
    "# Only get Beta-lactam antibiotics\n",
    "beta_lactams = ['Penicillin', 'Amoxicillin', 'Ampicillin', 'Piperacillin', 'Oxacillin', 'Mecillinam',\n",
    "                           'Amoxicillin-clavulanate', 'Ampicillin-sulbactam', 'Aztreonam-avibactam',\n",
    "                           'Cefepime-tazobactam', 'Cefepime-zidebactam', 'Cefoperazone-sulbactam',\n",
    "                           'Ceftaroline-avibactam', 'Ceftazidime-avibactam', 'Ceftibuten-clavulanate_fixed_2', 'Ceftibuten-clavulanate_2_to_1',\n",
    "                           'Ceftolozane-tazobactam', 'Meropenem-nacubactam', 'Meropenem-vaborbactam',\n",
    "                           'Piperacillin-tazobactam', 'Ticarcillin-clavulanate', 'Cefazolin', 'Cefuroxime',\n",
    "                           'Cefoperazone', 'Ceftazidime', 'Ceftriaxone', 'Cefepime', 'Ceftaroline', 'Ceftobiprole',\n",
    "                           'Cefoxitin', 'Cefiderocol', 'Cefpodoxime', 'Cefpodoxime_ETX1317', 'Ceftibuten', 'Cefuroxime', 'Cephalexin',\n",
    "                           'Aztreonam', 'Biapenem', 'Doripenem', 'Ertapenem', 'Imipenem', 'Meropenem', 'MeroRPX7009_fixed8', 'Razupenem',\n",
    "                           'Tebipenem', 'Faropenem', 'Sulopenem']\n",
    "\n",
    "print(len(labels_df.columns))\n",
    "labels_df = labels_df[[c for c in labels_df.columns if c in beta_lactams]]\n",
    "\n",
    "# Filter out columns with >=10% 0's (NaN's/null values)\n",
    "# Code found from: https://stackoverflow.com/a/31618099\n",
    "max_number_of_nans = len(labels_df.index) * 0.1\n",
    "print(max_number_of_nans)\n",
    "print(len(labels_df.columns))\n",
    "labels_df = labels_df.drop(labels_df.columns[labels_df.apply(lambda col: col.isnull().sum() >= max_number_of_nans)], axis=1)\n",
    "print(len(labels_df.columns))"
   ]
  },
  {
   "cell_type": "code",
   "execution_count": 122,
   "metadata": {},
   "outputs": [
    {
     "output_type": "execute_result",
     "data": {
      "text/plain": [
       "                   Meropenem Piperacillin-tazobactam Aztreonam Ceftriaxone  \\\n",
       "Name                                                                         \n",
       "Sentry-2016-933272      0.06                       4      0.12        0.12   \n",
       "Sentry-2016-933582      0.03                       2      0.06      <=0.06   \n",
       "Sentry-2016-934664      0.03                       2      0.06      <=0.06   \n",
       "Sentry-2016-934829        32                  >64.00    >16.00       >8.00   \n",
       "Sentry-2016-934925        32                  >64.00    >16.00       >8.00   \n",
       "\n",
       "                   Ceftaroline Cefepime Ampicillin-sulbactam  \\\n",
       "Name                                                           \n",
       "Sentry-2016-933272        0.25   <=0.12                   16   \n",
       "Sentry-2016-933582        0.06   <=0.12                    8   \n",
       "Sentry-2016-934664        0.06   <=0.12                    8   \n",
       "Sentry-2016-934829      >32.00   >16.00               >32.00   \n",
       "Sentry-2016-934925      >32.00   >16.00               >32.00   \n",
       "\n",
       "                   Ceftazidime-avibactam Ceftobiprole Imipenem  \\\n",
       "Name                                                             \n",
       "Sentry-2016-933272                  0.25         0.06        2   \n",
       "Sentry-2016-933582                  0.12         0.06   <=0.12   \n",
       "Sentry-2016-934664                  0.12         0.03   <=0.12   \n",
       "Sentry-2016-934829                   0.5       >16.00    >8.00   \n",
       "Sentry-2016-934925                     2       >16.00    >8.00   \n",
       "\n",
       "                   Ceftolozane-tazobactam Doripenem Ceftazidime  \\\n",
       "Name                                                              \n",
       "Sentry-2016-933272                    0.5       0.5         0.5   \n",
       "Sentry-2016-933582                   0.25    <=0.06        0.12   \n",
       "Sentry-2016-934664                   0.12    <=0.06        0.12   \n",
       "Sentry-2016-934829                 >32.00     >8.00      >32.00   \n",
       "Sentry-2016-934925                 >32.00     >8.00      >32.00   \n",
       "\n",
       "                   MeroRPX7009_fixed8  \n",
       "Name                                   \n",
       "Sentry-2016-933272               0.12  \n",
       "Sentry-2016-933582               0.03  \n",
       "Sentry-2016-934664               0.03  \n",
       "Sentry-2016-934829               0.03  \n",
       "Sentry-2016-934925               0.06  "
      ],
      "text/html": "<div>\n<style scoped>\n    .dataframe tbody tr th:only-of-type {\n        vertical-align: middle;\n    }\n\n    .dataframe tbody tr th {\n        vertical-align: top;\n    }\n\n    .dataframe thead th {\n        text-align: right;\n    }\n</style>\n<table border=\"1\" class=\"dataframe\">\n  <thead>\n    <tr style=\"text-align: right;\">\n      <th></th>\n      <th>Meropenem</th>\n      <th>Piperacillin-tazobactam</th>\n      <th>Aztreonam</th>\n      <th>Ceftriaxone</th>\n      <th>Ceftaroline</th>\n      <th>Cefepime</th>\n      <th>Ampicillin-sulbactam</th>\n      <th>Ceftazidime-avibactam</th>\n      <th>Ceftobiprole</th>\n      <th>Imipenem</th>\n      <th>Ceftolozane-tazobactam</th>\n      <th>Doripenem</th>\n      <th>Ceftazidime</th>\n      <th>MeroRPX7009_fixed8</th>\n    </tr>\n    <tr>\n      <th>Name</th>\n      <th></th>\n      <th></th>\n      <th></th>\n      <th></th>\n      <th></th>\n      <th></th>\n      <th></th>\n      <th></th>\n      <th></th>\n      <th></th>\n      <th></th>\n      <th></th>\n      <th></th>\n      <th></th>\n    </tr>\n  </thead>\n  <tbody>\n    <tr>\n      <th>Sentry-2016-933272</th>\n      <td>0.06</td>\n      <td>4</td>\n      <td>0.12</td>\n      <td>0.12</td>\n      <td>0.25</td>\n      <td>&lt;=0.12</td>\n      <td>16</td>\n      <td>0.25</td>\n      <td>0.06</td>\n      <td>2</td>\n      <td>0.5</td>\n      <td>0.5</td>\n      <td>0.5</td>\n      <td>0.12</td>\n    </tr>\n    <tr>\n      <th>Sentry-2016-933582</th>\n      <td>0.03</td>\n      <td>2</td>\n      <td>0.06</td>\n      <td>&lt;=0.06</td>\n      <td>0.06</td>\n      <td>&lt;=0.12</td>\n      <td>8</td>\n      <td>0.12</td>\n      <td>0.06</td>\n      <td>&lt;=0.12</td>\n      <td>0.25</td>\n      <td>&lt;=0.06</td>\n      <td>0.12</td>\n      <td>0.03</td>\n    </tr>\n    <tr>\n      <th>Sentry-2016-934664</th>\n      <td>0.03</td>\n      <td>2</td>\n      <td>0.06</td>\n      <td>&lt;=0.06</td>\n      <td>0.06</td>\n      <td>&lt;=0.12</td>\n      <td>8</td>\n      <td>0.12</td>\n      <td>0.03</td>\n      <td>&lt;=0.12</td>\n      <td>0.12</td>\n      <td>&lt;=0.06</td>\n      <td>0.12</td>\n      <td>0.03</td>\n    </tr>\n    <tr>\n      <th>Sentry-2016-934829</th>\n      <td>32</td>\n      <td>&gt;64.00</td>\n      <td>&gt;16.00</td>\n      <td>&gt;8.00</td>\n      <td>&gt;32.00</td>\n      <td>&gt;16.00</td>\n      <td>&gt;32.00</td>\n      <td>0.5</td>\n      <td>&gt;16.00</td>\n      <td>&gt;8.00</td>\n      <td>&gt;32.00</td>\n      <td>&gt;8.00</td>\n      <td>&gt;32.00</td>\n      <td>0.03</td>\n    </tr>\n    <tr>\n      <th>Sentry-2016-934925</th>\n      <td>32</td>\n      <td>&gt;64.00</td>\n      <td>&gt;16.00</td>\n      <td>&gt;8.00</td>\n      <td>&gt;32.00</td>\n      <td>&gt;16.00</td>\n      <td>&gt;32.00</td>\n      <td>2</td>\n      <td>&gt;16.00</td>\n      <td>&gt;8.00</td>\n      <td>&gt;32.00</td>\n      <td>&gt;8.00</td>\n      <td>&gt;32.00</td>\n      <td>0.06</td>\n    </tr>\n  </tbody>\n</table>\n</div>"
     },
     "metadata": {},
     "execution_count": 122
    }
   ],
   "source": [
    "labels_df.head()"
   ]
  },
  {
   "source": [
    "## Dropping characters\n",
    "Now that we have the data in a dataframe, we need to drop the `>` and `<=` characters from all values. When these are present, the type is of string, but if it is not then the type could be int or float. We will need to check that and remove the characters if they are present. Then, make all output values floats. We will make a function to do this and apply that to all columns.\n",
    "\n",
    "Good help on efficient ways to accomplish this task can be found in [this StackOverflow answer](https://stackoverflow.com/a/54302517)\n",
    "\n",
    "# Update 1 (for dropping characters and encoding)\n",
    "The `encode_mics` function has been separated out into `get_mics` and `encode_mics`. This is because there could be any number of MIC values within the dataframes. We will have to first drop all characters and make NaN values -1. Then, once we union all genes, we can get the set of MICs found and encode on that."
   ],
   "cell_type": "markdown",
   "metadata": {}
  },
  {
   "cell_type": "code",
   "execution_count": 123,
   "metadata": {},
   "outputs": [],
   "source": [
    "def get_mics(col):\n",
    "    def try_extract(x):\n",
    "        if isinstance(x, str):\n",
    "            return float(x.lstrip('<=').lstrip('>'))\n",
    "        elif np.isnan(x):\n",
    "            return -1.0\n",
    "        else:\n",
    "            return float(x)\n",
    "    \n",
    "    return pd.Series([try_extract(x) for x in col], dtype=float)\n",
    "\n",
    "def encode_mics(col, set_mics=[]):\n",
    "    return pd.Series([set_mics.index(x) for x in col], dtype=int)"
   ]
  },
  {
   "cell_type": "code",
   "execution_count": 124,
   "metadata": {},
   "outputs": [
    {
     "output_type": "execute_result",
     "data": {
      "text/plain": [
       "                   Meropenem Piperacillin-tazobactam Aztreonam Ceftriaxone  \\\n",
       "Name                                                                         \n",
       "Sentry-2016-933272      0.06                     4.0      0.12        0.12   \n",
       "Sentry-2016-933582      0.03                     2.0      0.06        0.06   \n",
       "Sentry-2016-934664      0.03                     2.0      0.06        0.06   \n",
       "Sentry-2016-934829      32.0                    64.0      16.0         8.0   \n",
       "Sentry-2016-934925      32.0                    64.0      16.0         8.0   \n",
       "\n",
       "                   Ceftaroline Cefepime Ampicillin-sulbactam  \\\n",
       "Name                                                           \n",
       "Sentry-2016-933272        0.25     0.12                 16.0   \n",
       "Sentry-2016-933582        0.06     0.12                  8.0   \n",
       "Sentry-2016-934664        0.06     0.12                  8.0   \n",
       "Sentry-2016-934829        32.0     16.0                 32.0   \n",
       "Sentry-2016-934925        32.0     16.0                 32.0   \n",
       "\n",
       "                   Ceftazidime-avibactam Ceftobiprole Imipenem  \\\n",
       "Name                                                             \n",
       "Sentry-2016-933272                  0.25         0.06      2.0   \n",
       "Sentry-2016-933582                  0.12         0.06     0.12   \n",
       "Sentry-2016-934664                  0.12         0.03     0.12   \n",
       "Sentry-2016-934829                   0.5         16.0      8.0   \n",
       "Sentry-2016-934925                   2.0         16.0      8.0   \n",
       "\n",
       "                   Ceftolozane-tazobactam Doripenem Ceftazidime  \\\n",
       "Name                                                              \n",
       "Sentry-2016-933272                    0.5       0.5         0.5   \n",
       "Sentry-2016-933582                   0.25      0.06        0.12   \n",
       "Sentry-2016-934664                   0.12      0.06        0.12   \n",
       "Sentry-2016-934829                   32.0       8.0        32.0   \n",
       "Sentry-2016-934925                   32.0       8.0        32.0   \n",
       "\n",
       "                   MeroRPX7009_fixed8  \n",
       "Name                                   \n",
       "Sentry-2016-933272               0.12  \n",
       "Sentry-2016-933582               0.03  \n",
       "Sentry-2016-934664               0.03  \n",
       "Sentry-2016-934829               0.03  \n",
       "Sentry-2016-934925               0.06  "
      ],
      "text/html": "<div>\n<style scoped>\n    .dataframe tbody tr th:only-of-type {\n        vertical-align: middle;\n    }\n\n    .dataframe tbody tr th {\n        vertical-align: top;\n    }\n\n    .dataframe thead th {\n        text-align: right;\n    }\n</style>\n<table border=\"1\" class=\"dataframe\">\n  <thead>\n    <tr style=\"text-align: right;\">\n      <th></th>\n      <th>Meropenem</th>\n      <th>Piperacillin-tazobactam</th>\n      <th>Aztreonam</th>\n      <th>Ceftriaxone</th>\n      <th>Ceftaroline</th>\n      <th>Cefepime</th>\n      <th>Ampicillin-sulbactam</th>\n      <th>Ceftazidime-avibactam</th>\n      <th>Ceftobiprole</th>\n      <th>Imipenem</th>\n      <th>Ceftolozane-tazobactam</th>\n      <th>Doripenem</th>\n      <th>Ceftazidime</th>\n      <th>MeroRPX7009_fixed8</th>\n    </tr>\n    <tr>\n      <th>Name</th>\n      <th></th>\n      <th></th>\n      <th></th>\n      <th></th>\n      <th></th>\n      <th></th>\n      <th></th>\n      <th></th>\n      <th></th>\n      <th></th>\n      <th></th>\n      <th></th>\n      <th></th>\n      <th></th>\n    </tr>\n  </thead>\n  <tbody>\n    <tr>\n      <th>Sentry-2016-933272</th>\n      <td>0.06</td>\n      <td>4.0</td>\n      <td>0.12</td>\n      <td>0.12</td>\n      <td>0.25</td>\n      <td>0.12</td>\n      <td>16.0</td>\n      <td>0.25</td>\n      <td>0.06</td>\n      <td>2.0</td>\n      <td>0.5</td>\n      <td>0.5</td>\n      <td>0.5</td>\n      <td>0.12</td>\n    </tr>\n    <tr>\n      <th>Sentry-2016-933582</th>\n      <td>0.03</td>\n      <td>2.0</td>\n      <td>0.06</td>\n      <td>0.06</td>\n      <td>0.06</td>\n      <td>0.12</td>\n      <td>8.0</td>\n      <td>0.12</td>\n      <td>0.06</td>\n      <td>0.12</td>\n      <td>0.25</td>\n      <td>0.06</td>\n      <td>0.12</td>\n      <td>0.03</td>\n    </tr>\n    <tr>\n      <th>Sentry-2016-934664</th>\n      <td>0.03</td>\n      <td>2.0</td>\n      <td>0.06</td>\n      <td>0.06</td>\n      <td>0.06</td>\n      <td>0.12</td>\n      <td>8.0</td>\n      <td>0.12</td>\n      <td>0.03</td>\n      <td>0.12</td>\n      <td>0.12</td>\n      <td>0.06</td>\n      <td>0.12</td>\n      <td>0.03</td>\n    </tr>\n    <tr>\n      <th>Sentry-2016-934829</th>\n      <td>32.0</td>\n      <td>64.0</td>\n      <td>16.0</td>\n      <td>8.0</td>\n      <td>32.0</td>\n      <td>16.0</td>\n      <td>32.0</td>\n      <td>0.5</td>\n      <td>16.0</td>\n      <td>8.0</td>\n      <td>32.0</td>\n      <td>8.0</td>\n      <td>32.0</td>\n      <td>0.03</td>\n    </tr>\n    <tr>\n      <th>Sentry-2016-934925</th>\n      <td>32.0</td>\n      <td>64.0</td>\n      <td>16.0</td>\n      <td>8.0</td>\n      <td>32.0</td>\n      <td>16.0</td>\n      <td>32.0</td>\n      <td>2.0</td>\n      <td>16.0</td>\n      <td>8.0</td>\n      <td>32.0</td>\n      <td>8.0</td>\n      <td>32.0</td>\n      <td>0.06</td>\n    </tr>\n  </tbody>\n</table>\n</div>"
     },
     "metadata": {},
     "execution_count": 124
    }
   ],
   "source": [
    "labels_df = labels_df.apply(get_mics, axis=1, result_type='broadcast')\n",
    "labels_df.head()"
   ]
  },
  {
   "cell_type": "code",
   "execution_count": 125,
   "metadata": {},
   "outputs": [],
   "source": [
    "set_mics = list(set(np.concatenate(labels_df.values)))\n",
    "set_mics.sort()\n",
    "labels_df = labels_df.apply(encode_mics, axis=1, result_type='broadcast', set_mics=set_mics)"
   ]
  },
  {
   "cell_type": "code",
   "execution_count": 126,
   "metadata": {},
   "outputs": [
    {
     "output_type": "execute_result",
     "data": {
      "text/plain": [
       "                   Meropenem Piperacillin-tazobactam Aztreonam Ceftriaxone  \\\n",
       "Name                                                                         \n",
       "Sentry-2016-933272         3                       9         4           4   \n",
       "Sentry-2016-933582         2                       8         3           3   \n",
       "Sentry-2016-934664         2                       8         3           3   \n",
       "Sentry-2016-934829        12                      13        11          10   \n",
       "Sentry-2016-934925        12                      13        11          10   \n",
       "\n",
       "                   Ceftaroline Cefepime Ampicillin-sulbactam  \\\n",
       "Name                                                           \n",
       "Sentry-2016-933272           5        4                   11   \n",
       "Sentry-2016-933582           3        4                   10   \n",
       "Sentry-2016-934664           3        4                   10   \n",
       "Sentry-2016-934829          12       11                   12   \n",
       "Sentry-2016-934925          12       11                   12   \n",
       "\n",
       "                   Ceftazidime-avibactam Ceftobiprole Imipenem  \\\n",
       "Name                                                             \n",
       "Sentry-2016-933272                     5            3        8   \n",
       "Sentry-2016-933582                     4            3        4   \n",
       "Sentry-2016-934664                     4            2        4   \n",
       "Sentry-2016-934829                     6           11       10   \n",
       "Sentry-2016-934925                     8           11       10   \n",
       "\n",
       "                   Ceftolozane-tazobactam Doripenem Ceftazidime  \\\n",
       "Name                                                              \n",
       "Sentry-2016-933272                      6         6           6   \n",
       "Sentry-2016-933582                      5         3           4   \n",
       "Sentry-2016-934664                      4         3           4   \n",
       "Sentry-2016-934829                     12        10          12   \n",
       "Sentry-2016-934925                     12        10          12   \n",
       "\n",
       "                   MeroRPX7009_fixed8  \n",
       "Name                                   \n",
       "Sentry-2016-933272                  4  \n",
       "Sentry-2016-933582                  2  \n",
       "Sentry-2016-934664                  2  \n",
       "Sentry-2016-934829                  2  \n",
       "Sentry-2016-934925                  3  "
      ],
      "text/html": "<div>\n<style scoped>\n    .dataframe tbody tr th:only-of-type {\n        vertical-align: middle;\n    }\n\n    .dataframe tbody tr th {\n        vertical-align: top;\n    }\n\n    .dataframe thead th {\n        text-align: right;\n    }\n</style>\n<table border=\"1\" class=\"dataframe\">\n  <thead>\n    <tr style=\"text-align: right;\">\n      <th></th>\n      <th>Meropenem</th>\n      <th>Piperacillin-tazobactam</th>\n      <th>Aztreonam</th>\n      <th>Ceftriaxone</th>\n      <th>Ceftaroline</th>\n      <th>Cefepime</th>\n      <th>Ampicillin-sulbactam</th>\n      <th>Ceftazidime-avibactam</th>\n      <th>Ceftobiprole</th>\n      <th>Imipenem</th>\n      <th>Ceftolozane-tazobactam</th>\n      <th>Doripenem</th>\n      <th>Ceftazidime</th>\n      <th>MeroRPX7009_fixed8</th>\n    </tr>\n    <tr>\n      <th>Name</th>\n      <th></th>\n      <th></th>\n      <th></th>\n      <th></th>\n      <th></th>\n      <th></th>\n      <th></th>\n      <th></th>\n      <th></th>\n      <th></th>\n      <th></th>\n      <th></th>\n      <th></th>\n      <th></th>\n    </tr>\n  </thead>\n  <tbody>\n    <tr>\n      <th>Sentry-2016-933272</th>\n      <td>3</td>\n      <td>9</td>\n      <td>4</td>\n      <td>4</td>\n      <td>5</td>\n      <td>4</td>\n      <td>11</td>\n      <td>5</td>\n      <td>3</td>\n      <td>8</td>\n      <td>6</td>\n      <td>6</td>\n      <td>6</td>\n      <td>4</td>\n    </tr>\n    <tr>\n      <th>Sentry-2016-933582</th>\n      <td>2</td>\n      <td>8</td>\n      <td>3</td>\n      <td>3</td>\n      <td>3</td>\n      <td>4</td>\n      <td>10</td>\n      <td>4</td>\n      <td>3</td>\n      <td>4</td>\n      <td>5</td>\n      <td>3</td>\n      <td>4</td>\n      <td>2</td>\n    </tr>\n    <tr>\n      <th>Sentry-2016-934664</th>\n      <td>2</td>\n      <td>8</td>\n      <td>3</td>\n      <td>3</td>\n      <td>3</td>\n      <td>4</td>\n      <td>10</td>\n      <td>4</td>\n      <td>2</td>\n      <td>4</td>\n      <td>4</td>\n      <td>3</td>\n      <td>4</td>\n      <td>2</td>\n    </tr>\n    <tr>\n      <th>Sentry-2016-934829</th>\n      <td>12</td>\n      <td>13</td>\n      <td>11</td>\n      <td>10</td>\n      <td>12</td>\n      <td>11</td>\n      <td>12</td>\n      <td>6</td>\n      <td>11</td>\n      <td>10</td>\n      <td>12</td>\n      <td>10</td>\n      <td>12</td>\n      <td>2</td>\n    </tr>\n    <tr>\n      <th>Sentry-2016-934925</th>\n      <td>12</td>\n      <td>13</td>\n      <td>11</td>\n      <td>10</td>\n      <td>12</td>\n      <td>11</td>\n      <td>12</td>\n      <td>8</td>\n      <td>11</td>\n      <td>10</td>\n      <td>12</td>\n      <td>10</td>\n      <td>12</td>\n      <td>3</td>\n    </tr>\n  </tbody>\n</table>\n</div>"
     },
     "metadata": {},
     "execution_count": 126
    }
   ],
   "source": [
    "labels_df.head()"
   ]
  },
  {
   "source": [
    "## Saving\n",
    "Lastly, we just need to save the file."
   ],
   "cell_type": "markdown",
   "metadata": {}
  },
  {
   "cell_type": "code",
   "execution_count": 127,
   "metadata": {},
   "outputs": [],
   "source": [
    "labels_df.to_csv('labels.csv')"
   ]
  },
  {
   "cell_type": "code",
   "execution_count": 128,
   "metadata": {},
   "outputs": [
    {
     "output_type": "execute_result",
     "data": {
      "text/plain": [
       "                 Name  Meropenem  Piperacillin-tazobactam  Aztreonam  \\\n",
       "0  Sentry-2016-933272          3                        9          4   \n",
       "1  Sentry-2016-933582          2                        8          3   \n",
       "2  Sentry-2016-934664          2                        8          3   \n",
       "3  Sentry-2016-934829         12                       13         11   \n",
       "4  Sentry-2016-934925         12                       13         11   \n",
       "\n",
       "   Ceftriaxone  Ceftaroline  Cefepime  Ampicillin-sulbactam  \\\n",
       "0            4            5         4                    11   \n",
       "1            3            3         4                    10   \n",
       "2            3            3         4                    10   \n",
       "3           10           12        11                    12   \n",
       "4           10           12        11                    12   \n",
       "\n",
       "   Ceftazidime-avibactam  Ceftobiprole  Imipenem  Ceftolozane-tazobactam  \\\n",
       "0                      5             3         8                       6   \n",
       "1                      4             3         4                       5   \n",
       "2                      4             2         4                       4   \n",
       "3                      6            11        10                      12   \n",
       "4                      8            11        10                      12   \n",
       "\n",
       "   Doripenem  Ceftazidime  MeroRPX7009_fixed8  \n",
       "0          6            6                   4  \n",
       "1          3            4                   2  \n",
       "2          3            4                   2  \n",
       "3         10           12                   2  \n",
       "4         10           12                   3  "
      ],
      "text/html": "<div>\n<style scoped>\n    .dataframe tbody tr th:only-of-type {\n        vertical-align: middle;\n    }\n\n    .dataframe tbody tr th {\n        vertical-align: top;\n    }\n\n    .dataframe thead th {\n        text-align: right;\n    }\n</style>\n<table border=\"1\" class=\"dataframe\">\n  <thead>\n    <tr style=\"text-align: right;\">\n      <th></th>\n      <th>Name</th>\n      <th>Meropenem</th>\n      <th>Piperacillin-tazobactam</th>\n      <th>Aztreonam</th>\n      <th>Ceftriaxone</th>\n      <th>Ceftaroline</th>\n      <th>Cefepime</th>\n      <th>Ampicillin-sulbactam</th>\n      <th>Ceftazidime-avibactam</th>\n      <th>Ceftobiprole</th>\n      <th>Imipenem</th>\n      <th>Ceftolozane-tazobactam</th>\n      <th>Doripenem</th>\n      <th>Ceftazidime</th>\n      <th>MeroRPX7009_fixed8</th>\n    </tr>\n  </thead>\n  <tbody>\n    <tr>\n      <th>0</th>\n      <td>Sentry-2016-933272</td>\n      <td>3</td>\n      <td>9</td>\n      <td>4</td>\n      <td>4</td>\n      <td>5</td>\n      <td>4</td>\n      <td>11</td>\n      <td>5</td>\n      <td>3</td>\n      <td>8</td>\n      <td>6</td>\n      <td>6</td>\n      <td>6</td>\n      <td>4</td>\n    </tr>\n    <tr>\n      <th>1</th>\n      <td>Sentry-2016-933582</td>\n      <td>2</td>\n      <td>8</td>\n      <td>3</td>\n      <td>3</td>\n      <td>3</td>\n      <td>4</td>\n      <td>10</td>\n      <td>4</td>\n      <td>3</td>\n      <td>4</td>\n      <td>5</td>\n      <td>3</td>\n      <td>4</td>\n      <td>2</td>\n    </tr>\n    <tr>\n      <th>2</th>\n      <td>Sentry-2016-934664</td>\n      <td>2</td>\n      <td>8</td>\n      <td>3</td>\n      <td>3</td>\n      <td>3</td>\n      <td>4</td>\n      <td>10</td>\n      <td>4</td>\n      <td>2</td>\n      <td>4</td>\n      <td>4</td>\n      <td>3</td>\n      <td>4</td>\n      <td>2</td>\n    </tr>\n    <tr>\n      <th>3</th>\n      <td>Sentry-2016-934829</td>\n      <td>12</td>\n      <td>13</td>\n      <td>11</td>\n      <td>10</td>\n      <td>12</td>\n      <td>11</td>\n      <td>12</td>\n      <td>6</td>\n      <td>11</td>\n      <td>10</td>\n      <td>12</td>\n      <td>10</td>\n      <td>12</td>\n      <td>2</td>\n    </tr>\n    <tr>\n      <th>4</th>\n      <td>Sentry-2016-934925</td>\n      <td>12</td>\n      <td>13</td>\n      <td>11</td>\n      <td>10</td>\n      <td>12</td>\n      <td>11</td>\n      <td>12</td>\n      <td>8</td>\n      <td>11</td>\n      <td>10</td>\n      <td>12</td>\n      <td>10</td>\n      <td>12</td>\n      <td>3</td>\n    </tr>\n  </tbody>\n</table>\n</div>"
     },
     "metadata": {},
     "execution_count": 128
    }
   ],
   "source": [
    "pd.read_csv('labels.csv').head()"
   ]
  },
  {
   "cell_type": "code",
   "execution_count": null,
   "metadata": {},
   "outputs": [],
   "source": []
  }
 ]
}