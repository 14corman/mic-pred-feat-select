{
 "metadata": {
  "language_info": {
   "codemirror_mode": {
    "name": "ipython",
    "version": 3
   },
   "file_extension": ".py",
   "mimetype": "text/x-python",
   "name": "python",
   "nbconvert_exporter": "python",
   "pygments_lexer": "ipython3",
   "version": "3.8.6-final"
  },
  "orig_nbformat": 2,
  "kernelspec": {
   "name": "python3",
   "display_name": "Python 3.8.6 64-bit",
   "metadata": {
    "interpreter": {
     "hash": "bf66385a5a9217b7f25761b49aa1592adf2d33bc32343798c341d18f58413a49"
    }
   }
  }
 },
 "nbformat": 4,
 "nbformat_minor": 2,
 "cells": [
  {
   "source": [
    "# Label processing\n",
    "This notebook will go over how processing for labels is done."
   ],
   "cell_type": "markdown",
   "metadata": {}
  },
  {
   "cell_type": "code",
   "execution_count": null,
   "metadata": {},
   "outputs": [],
   "source": [
    "%pip install pandas numpy"
   ]
  },
  {
   "cell_type": "code",
   "execution_count": 1,
   "metadata": {},
   "outputs": [],
   "source": [
    "import pandas as pd\n",
    "import numpy as np"
   ]
  },
  {
   "cell_type": "code",
   "execution_count": 56,
   "metadata": {},
   "outputs": [],
   "source": [
    "data_dir = \"../data/test/\"\n",
    "\n",
    "# DEPRECATED\n",
    "possible_mics = [0.001, 0.003, 0.007, 0.01, 0.015, 0.02, 0.03, 0.06, 0.12, 0.25, 0.5, 1., 2., 4., 8., 16., 32., 64., 128.,\n",
    "                 256., 512., 1024.]"
   ]
  },
  {
   "source": [
    "# Update 2\n",
    "We will be working over 3 genes. Each set of genes may have different sets of isolates being used since some isolates could have missing coverage for one gene and not another. If an isolate has missing coverage (or holes), then it is not included for that gene. We want to concatenate all antibiotic MIC values together though, so we will load all antibiotic files and concatenate them first."
   ],
   "cell_type": "markdown",
   "metadata": {}
  },
  {
   "cell_type": "code",
   "execution_count": 49,
   "metadata": {},
   "outputs": [],
   "source": [
    "#ompk35 = pd.read_csv(f'{data_dir}antibiotics_OMPK35.tsv', sep='\\t', index_col=0)\n",
    "#ompk36 = pd.read_csv(f'{data_dir}antibiotics_OMPK36.tsv', sep='\\t', index_col=0)\n",
    "#ompk37 = pd.read_csv(f'{data_dir}antibiotics_OMPK37.tsv', sep='\\t', index_col=0)"
   ]
  },
  {
   "cell_type": "code",
   "execution_count": 57,
   "metadata": {},
   "outputs": [],
   "source": [
    "#labels_df = pd.concat([ompk35, ompk36, ompk37], axis=1)\n",
    "labels_df = pd.read_csv(f'{data_dir}antibiotics.tsv', sep='\\t', index_col=0)"
   ]
  },
  {
   "cell_type": "code",
   "execution_count": 58,
   "metadata": {},
   "outputs": [
    {
     "output_type": "execute_result",
     "data": {
      "text/plain": [
       "     Antibiotic_1  Antibiotic_2  Antibiotic_3  Antibiotic_4  Antibiotic_5  \\\n",
       "Name                                                                        \n",
       "1          >16.00           NaN          0.06          0.25           1.0   \n",
       "2          >16.00           NaN          0.50           NaN           8.0   \n",
       "\n",
       "     Antibiotic_6 Antibiotic_7  Antibiotic_8 Antibiotic_9  Antibiotic_10  \\\n",
       "Name                                                                       \n",
       "1             NaN       <=0.06          0.12       >64.00            4.0   \n",
       "2          >32.00        >4.00          0.25          NaN            NaN   \n",
       "\n",
       "     Antibiotic_11  \n",
       "Name                \n",
       "1             4.00  \n",
       "2           >16.00  "
      ],
      "text/html": "<div>\n<style scoped>\n    .dataframe tbody tr th:only-of-type {\n        vertical-align: middle;\n    }\n\n    .dataframe tbody tr th {\n        vertical-align: top;\n    }\n\n    .dataframe thead th {\n        text-align: right;\n    }\n</style>\n<table border=\"1\" class=\"dataframe\">\n  <thead>\n    <tr style=\"text-align: right;\">\n      <th></th>\n      <th>Antibiotic_1</th>\n      <th>Antibiotic_2</th>\n      <th>Antibiotic_3</th>\n      <th>Antibiotic_4</th>\n      <th>Antibiotic_5</th>\n      <th>Antibiotic_6</th>\n      <th>Antibiotic_7</th>\n      <th>Antibiotic_8</th>\n      <th>Antibiotic_9</th>\n      <th>Antibiotic_10</th>\n      <th>Antibiotic_11</th>\n    </tr>\n    <tr>\n      <th>Name</th>\n      <th></th>\n      <th></th>\n      <th></th>\n      <th></th>\n      <th></th>\n      <th></th>\n      <th></th>\n      <th></th>\n      <th></th>\n      <th></th>\n      <th></th>\n    </tr>\n  </thead>\n  <tbody>\n    <tr>\n      <th>1</th>\n      <td>&gt;16.00</td>\n      <td>NaN</td>\n      <td>0.06</td>\n      <td>0.25</td>\n      <td>1.0</td>\n      <td>NaN</td>\n      <td>&lt;=0.06</td>\n      <td>0.12</td>\n      <td>&gt;64.00</td>\n      <td>4.0</td>\n      <td>4.00</td>\n    </tr>\n    <tr>\n      <th>2</th>\n      <td>&gt;16.00</td>\n      <td>NaN</td>\n      <td>0.50</td>\n      <td>NaN</td>\n      <td>8.0</td>\n      <td>&gt;32.00</td>\n      <td>&gt;4.00</td>\n      <td>0.25</td>\n      <td>NaN</td>\n      <td>NaN</td>\n      <td>&gt;16.00</td>\n    </tr>\n  </tbody>\n</table>\n</div>"
     },
     "metadata": {},
     "execution_count": 58
    }
   ],
   "source": [
    "labels_df.head()"
   ]
  },
  {
   "source": [
    "## Dropping characters\n",
    "Now that we have the data in a dataframe, we need to drop the `>` and `<=` characters from all values. When these are present, the type is of string, but if it is not then the type could be int or float. We will need to check that and remove the characters if they are present. Then, make all output values floats. We will make a function to do this and apply that to all columns.\n",
    "\n",
    "Good help on efficient ways to accomplish this task can be found in [this StackOverflow answer](https://stackoverflow.com/a/54302517)\n",
    "\n",
    "# Update 1 (for dropping characters and encoding)\n",
    "The `encode_mics` function has been separated out into `get_mics` and `encode_mics`. This is because there could be any number of MIC values within the dataframes. We will have to first drop all characters and make NaN values -1. Then, once we union all genes, we can get the set of MICs found and encode on that."
   ],
   "cell_type": "markdown",
   "metadata": {}
  },
  {
   "cell_type": "code",
   "execution_count": 59,
   "metadata": {},
   "outputs": [],
   "source": [
    "def get_mics(col):\n",
    "    def try_extract(x):\n",
    "        if isinstance(x, str):\n",
    "            return float(x.lstrip('<=').lstrip('>'))\n",
    "        elif np.isnan(x):\n",
    "            return -1.0\n",
    "        else:\n",
    "            return float(x)\n",
    "    return pd.Series([try_extract(x) for x in col], dtype=float)\n",
    "\n",
    "def encode_mics(col, set_mics=[]):\n",
    "    return pd.Series([set_mics.index(x) for x in col], dtype=int)"
   ]
  },
  {
   "cell_type": "code",
   "execution_count": 60,
   "metadata": {},
   "outputs": [
    {
     "output_type": "execute_result",
     "data": {
      "text/plain": [
       "     Antibiotic_1 Antibiotic_2 Antibiotic_3 Antibiotic_4 Antibiotic_5  \\\n",
       "Name                                                                    \n",
       "1            16.0         -1.0         0.06         0.25          1.0   \n",
       "2            16.0         -1.0          0.5         -1.0          8.0   \n",
       "\n",
       "     Antibiotic_6 Antibiotic_7 Antibiotic_8 Antibiotic_9 Antibiotic_10  \\\n",
       "Name                                                                     \n",
       "1            -1.0         0.06         0.12         64.0           4.0   \n",
       "2            32.0          4.0         0.25         -1.0          -1.0   \n",
       "\n",
       "     Antibiotic_11  \n",
       "Name                \n",
       "1              4.0  \n",
       "2             16.0  "
      ],
      "text/html": "<div>\n<style scoped>\n    .dataframe tbody tr th:only-of-type {\n        vertical-align: middle;\n    }\n\n    .dataframe tbody tr th {\n        vertical-align: top;\n    }\n\n    .dataframe thead th {\n        text-align: right;\n    }\n</style>\n<table border=\"1\" class=\"dataframe\">\n  <thead>\n    <tr style=\"text-align: right;\">\n      <th></th>\n      <th>Antibiotic_1</th>\n      <th>Antibiotic_2</th>\n      <th>Antibiotic_3</th>\n      <th>Antibiotic_4</th>\n      <th>Antibiotic_5</th>\n      <th>Antibiotic_6</th>\n      <th>Antibiotic_7</th>\n      <th>Antibiotic_8</th>\n      <th>Antibiotic_9</th>\n      <th>Antibiotic_10</th>\n      <th>Antibiotic_11</th>\n    </tr>\n    <tr>\n      <th>Name</th>\n      <th></th>\n      <th></th>\n      <th></th>\n      <th></th>\n      <th></th>\n      <th></th>\n      <th></th>\n      <th></th>\n      <th></th>\n      <th></th>\n      <th></th>\n    </tr>\n  </thead>\n  <tbody>\n    <tr>\n      <th>1</th>\n      <td>16.0</td>\n      <td>-1.0</td>\n      <td>0.06</td>\n      <td>0.25</td>\n      <td>1.0</td>\n      <td>-1.0</td>\n      <td>0.06</td>\n      <td>0.12</td>\n      <td>64.0</td>\n      <td>4.0</td>\n      <td>4.0</td>\n    </tr>\n    <tr>\n      <th>2</th>\n      <td>16.0</td>\n      <td>-1.0</td>\n      <td>0.5</td>\n      <td>-1.0</td>\n      <td>8.0</td>\n      <td>32.0</td>\n      <td>4.0</td>\n      <td>0.25</td>\n      <td>-1.0</td>\n      <td>-1.0</td>\n      <td>16.0</td>\n    </tr>\n  </tbody>\n</table>\n</div>"
     },
     "metadata": {},
     "execution_count": 60
    }
   ],
   "source": [
    "labels_df = labels_df.apply(get_mics, axis=1, result_type='broadcast')\n",
    "labels_df.head()"
   ]
  },
  {
   "cell_type": "code",
   "execution_count": 61,
   "metadata": {},
   "outputs": [],
   "source": [
    "set_mics = list(set(np.concatenate(labels_df.values)))\n",
    "set_mics.sort()\n",
    "labels_df = labels_df.apply(encode_mics, axis=1, result_type='broadcast', set_mics=set_mics)"
   ]
  },
  {
   "cell_type": "code",
   "execution_count": 62,
   "metadata": {},
   "outputs": [
    {
     "output_type": "execute_result",
     "data": {
      "text/plain": [
       "     Antibiotic_1 Antibiotic_2 Antibiotic_3 Antibiotic_4 Antibiotic_5  \\\n",
       "Name                                                                    \n",
       "1               8            0            1            3            5   \n",
       "2               8            0            4            0            7   \n",
       "\n",
       "     Antibiotic_6 Antibiotic_7 Antibiotic_8 Antibiotic_9 Antibiotic_10  \\\n",
       "Name                                                                     \n",
       "1               0            1            2           10             6   \n",
       "2               9            6            3            0             0   \n",
       "\n",
       "     Antibiotic_11  \n",
       "Name                \n",
       "1                6  \n",
       "2                8  "
      ],
      "text/html": "<div>\n<style scoped>\n    .dataframe tbody tr th:only-of-type {\n        vertical-align: middle;\n    }\n\n    .dataframe tbody tr th {\n        vertical-align: top;\n    }\n\n    .dataframe thead th {\n        text-align: right;\n    }\n</style>\n<table border=\"1\" class=\"dataframe\">\n  <thead>\n    <tr style=\"text-align: right;\">\n      <th></th>\n      <th>Antibiotic_1</th>\n      <th>Antibiotic_2</th>\n      <th>Antibiotic_3</th>\n      <th>Antibiotic_4</th>\n      <th>Antibiotic_5</th>\n      <th>Antibiotic_6</th>\n      <th>Antibiotic_7</th>\n      <th>Antibiotic_8</th>\n      <th>Antibiotic_9</th>\n      <th>Antibiotic_10</th>\n      <th>Antibiotic_11</th>\n    </tr>\n    <tr>\n      <th>Name</th>\n      <th></th>\n      <th></th>\n      <th></th>\n      <th></th>\n      <th></th>\n      <th></th>\n      <th></th>\n      <th></th>\n      <th></th>\n      <th></th>\n      <th></th>\n    </tr>\n  </thead>\n  <tbody>\n    <tr>\n      <th>1</th>\n      <td>8</td>\n      <td>0</td>\n      <td>1</td>\n      <td>3</td>\n      <td>5</td>\n      <td>0</td>\n      <td>1</td>\n      <td>2</td>\n      <td>10</td>\n      <td>6</td>\n      <td>6</td>\n    </tr>\n    <tr>\n      <th>2</th>\n      <td>8</td>\n      <td>0</td>\n      <td>4</td>\n      <td>0</td>\n      <td>7</td>\n      <td>9</td>\n      <td>6</td>\n      <td>3</td>\n      <td>0</td>\n      <td>0</td>\n      <td>8</td>\n    </tr>\n  </tbody>\n</table>\n</div>"
     },
     "metadata": {},
     "execution_count": 62
    }
   ],
   "source": [
    "labels_df.head()"
   ]
  },
  {
   "source": [
    "## Saving\n",
    "Lastly, we just need to save the file."
   ],
   "cell_type": "markdown",
   "metadata": {}
  },
  {
   "cell_type": "code",
   "execution_count": 22,
   "metadata": {},
   "outputs": [],
   "source": [
    "labels_df.to_csv('labels.csv')"
   ]
  },
  {
   "cell_type": "code",
   "execution_count": 23,
   "metadata": {},
   "outputs": [
    {
     "output_type": "execute_result",
     "data": {
      "text/plain": [
       "   Name  Antibiotic_1  Antibiotic_2  Antibiotic_3  Antibiotic_4  Antibiotic_5  \\\n",
       "0     1            13            -1             5             7             9   \n",
       "1     2            13            -1             8            -1            12   \n",
       "\n",
       "   Antibiotic_6  Antibiotic_7  Antibiotic_8  Antibiotic_9  Antibiotic_10  \\\n",
       "0            -1             5             6            15             11   \n",
       "1            14            11             7            -1             -1   \n",
       "\n",
       "   Antibiotic_11  \n",
       "0             11  \n",
       "1             13  "
      ],
      "text/html": "<div>\n<style scoped>\n    .dataframe tbody tr th:only-of-type {\n        vertical-align: middle;\n    }\n\n    .dataframe tbody tr th {\n        vertical-align: top;\n    }\n\n    .dataframe thead th {\n        text-align: right;\n    }\n</style>\n<table border=\"1\" class=\"dataframe\">\n  <thead>\n    <tr style=\"text-align: right;\">\n      <th></th>\n      <th>Name</th>\n      <th>Antibiotic_1</th>\n      <th>Antibiotic_2</th>\n      <th>Antibiotic_3</th>\n      <th>Antibiotic_4</th>\n      <th>Antibiotic_5</th>\n      <th>Antibiotic_6</th>\n      <th>Antibiotic_7</th>\n      <th>Antibiotic_8</th>\n      <th>Antibiotic_9</th>\n      <th>Antibiotic_10</th>\n      <th>Antibiotic_11</th>\n    </tr>\n  </thead>\n  <tbody>\n    <tr>\n      <th>0</th>\n      <td>1</td>\n      <td>13</td>\n      <td>-1</td>\n      <td>5</td>\n      <td>7</td>\n      <td>9</td>\n      <td>-1</td>\n      <td>5</td>\n      <td>6</td>\n      <td>15</td>\n      <td>11</td>\n      <td>11</td>\n    </tr>\n    <tr>\n      <th>1</th>\n      <td>2</td>\n      <td>13</td>\n      <td>-1</td>\n      <td>8</td>\n      <td>-1</td>\n      <td>12</td>\n      <td>14</td>\n      <td>11</td>\n      <td>7</td>\n      <td>-1</td>\n      <td>-1</td>\n      <td>13</td>\n    </tr>\n  </tbody>\n</table>\n</div>"
     },
     "metadata": {},
     "execution_count": 23
    }
   ],
   "source": [
    "pd.read_csv('labels.csv').head()"
   ]
  },
  {
   "cell_type": "code",
   "execution_count": null,
   "metadata": {},
   "outputs": [],
   "source": []
  }
 ]
}